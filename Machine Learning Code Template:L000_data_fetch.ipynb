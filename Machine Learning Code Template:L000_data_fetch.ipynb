{
 "cells": [
  {
   "cell_type": "markdown",
   "id": "cfc048b1-eae2-485a-b7e4-378f1f68c596",
   "metadata": {},
   "source": [
    "# Product Matching\n",
    "## Level 0: Data Fetching Script\n",
    "\n",
    "### Notes:\n",
    "1. Fetch modeling data from MS Teams shared folder\n",
    "\n",
    "### References: \n"
   ]
  },
  {
   "cell_type": "code",
   "execution_count": null,
   "id": "be119f52-bda6-4f62-aa5a-569e0f3890d4",
   "metadata": {},
   "outputs": [],
   "source": []
  },
  {
   "cell_type": "markdown",
   "id": "afaaf76b-838c-46fc-8cda-2b3b040bbda2",
   "metadata": {},
   "source": [
    "## Notebook Config"
   ]
  },
  {
   "cell_type": "code",
   "execution_count": 1,
   "id": "6a1db9dc-a28e-4864-aa08-d6b6f4094902",
   "metadata": {},
   "outputs": [],
   "source": [
    "# Display settings\n",
    "## Auto reload modules & inline plots\n",
    "%reload_ext autoreload\n",
    "%autoreload 2\n",
    "%matplotlib inline"
   ]
  },
  {
   "cell_type": "markdown",
   "id": "6498b93b-5353-40b7-9a46-bcb86cc94ab1",
   "metadata": {},
   "source": [
    "## Package Import & Initialization"
   ]
  },
  {
   "cell_type": "code",
   "execution_count": 2,
   "id": "521e1b1c-0dae-4abb-9aca-84c5ea121d31",
   "metadata": {},
   "outputs": [],
   "source": [
    "# Import packages\n",
    "import os                            #For work with native operating system and directories\n",
    "from pathlib import Path             #For working with file paths and directories\n",
    "import pandas as pd                  #For data manipulation and bgq --> pandas conversion\n",
    "import warnings                      #To tweak warning options\n",
    "import datetime as dt                #For date objects and implemetations"
   ]
  },
  {
   "cell_type": "code",
   "execution_count": 3,
   "id": "048eea17-db18-4289-a3fe-e3555e488d3d",
   "metadata": {},
   "outputs": [],
   "source": [
    "pd.set_option('display.max_columns', None)\n",
    "pd.options.display.float_format = '{:.4f}'.format\n",
    "warnings.filterwarnings('ignore')"
   ]
  },
  {
   "cell_type": "markdown",
   "id": "b938bd82-f97e-4cd5-92fa-a91741bf50b9",
   "metadata": {},
   "source": [
    "## Set Directories"
   ]
  },
  {
   "cell_type": "code",
   "execution_count": 4,
   "id": "7b4dcd43-ac92-4b5c-8f4c-248c1fa9444a",
   "metadata": {},
   "outputs": [],
   "source": [
    "#cwd = os.getcwd()\n",
    "#os.chdir(cwd)\n",
    "home = str(Path.home())\n",
    "proj_path = os.path.join(home, 'Cardinal Health', 'Enterprise Data Remediation - Documents', 'General', '01_Projects', \n",
    "                         '23_Kinaxis')"
   ]
  },
  {
   "cell_type": "code",
   "execution_count": 5,
   "id": "be056b84-97b4-4717-b865-bd3bc6cc75c2",
   "metadata": {},
   "outputs": [],
   "source": [
    "main_dir = proj_path + '\\\\'\n",
    "iput_dir = proj_path + '\\\\Data\\\\Output\\\\Post Match Validation\\\\'\n",
    "ah_am_iput_dir = iput_dir + 'At-Home AeroMed\\\\'\n",
    "ah_tpm_iput_dir = iput_dir + 'At-Home TPM\\\\'\n",
    "oput_dir = main_dir + 'Data\\\\Output\\\\ML\\\\'"
   ]
  },
  {
   "cell_type": "markdown",
   "id": "9ae061ee-c900-4490-88f8-af6eb3b65738",
   "metadata": {},
   "source": [
    "## Set Output File Names"
   ]
  },
  {
   "cell_type": "code",
   "execution_count": 6,
   "id": "56e974eb-d6ae-4fdf-b107-132f547446ee",
   "metadata": {},
   "outputs": [],
   "source": [
    "## Output file name\n",
    "oput_file_name_0   = \"L000_fetch_df_\" + str(dt.datetime.today().strftime('%Y-%m-%d')) + '.pkl'\n",
    "oput_file_name_1   = \"L001_fetch_df_\" + str(dt.datetime.today().strftime('%Y-%m-%d')) + '.pkl'\n",
    "oput_file_name_2   = \"L002_fetch_df_\" + str(dt.datetime.today().strftime('%Y-%m-%d')) + '.pkl'"
   ]
  },
  {
   "cell_type": "markdown",
   "id": "521b924c-f65d-4472-b595-d802d0244ef1",
   "metadata": {},
   "source": [
    "## Extract Data"
   ]
  },
  {
   "cell_type": "code",
   "execution_count": 7,
   "id": "7b6cfe9b-f93c-4232-ac36-8bc8844d33a1",
   "metadata": {},
   "outputs": [],
   "source": [
    "raw_0_df = pd.read_excel(\n",
    "        ah_am_iput_dir + 'kinaxis_AH_AM_top1_wave_0000.xlsx', \n",
    "        sheet_name='Raw Data', \n",
    "        header=0\n",
    ")"
   ]
  },
  {
   "cell_type": "code",
   "execution_count": 8,
   "id": "c1eba473-94cf-4d17-9f74-c861d9ac4424",
   "metadata": {},
   "outputs": [],
   "source": [
    "raw_1_df = pd.DataFrame()\n",
    "\n",
    "for i in range(1,11):\n",
    "    wav_df = pd.read_excel(\n",
    "        ah_am_iput_dir + 'kinaxis_AH_AM_top3_wave_' + str(i).zfill(4) + '.xlsx', \n",
    "        sheet_name='Raw Data', \n",
    "        header=0\n",
    "    )\n",
    "    \n",
    "    raw_1_df = raw_1_df.append(wav_df, ignore_index=True)"
   ]
  },
  {
   "cell_type": "code",
   "execution_count": 9,
   "id": "7f8f2a52-8d25-468a-a3ea-07ef26d4c6ca",
   "metadata": {},
   "outputs": [],
   "source": [
    "raw_2_df = pd.read_excel(\n",
    "        ah_tpm_iput_dir + 'kinaxis_AH_TPM_top1_wave_0000.xlsx', \n",
    "        sheet_name='Raw Data', \n",
    "        header=0\n",
    ")"
   ]
  },
  {
   "cell_type": "markdown",
   "id": "475c1f92-adfb-4626-9104-c33fd621a29a",
   "metadata": {},
   "source": [
    "## Save Data to Modeling Environment"
   ]
  },
  {
   "cell_type": "code",
   "execution_count": 13,
   "id": "b7f10fae-62ed-404c-b677-c60dae9404a1",
   "metadata": {},
   "outputs": [],
   "source": [
    "raw_0_df.to_pickle(oput_dir + oput_file_name_0)"
   ]
  },
  {
   "cell_type": "code",
   "execution_count": 14,
   "id": "fd591e85-0f5c-48d3-90e4-be34a8aa57da",
   "metadata": {},
   "outputs": [],
   "source": [
    "raw_1_df.to_pickle(oput_dir + oput_file_name_1)"
   ]
  },
  {
   "cell_type": "code",
   "execution_count": 15,
   "id": "aa02d843-33ec-412c-9d45-2e4cc8b5961c",
   "metadata": {},
   "outputs": [],
   "source": [
    "raw_2_df.to_pickle(oput_dir + oput_file_name_2)"
   ]
  },
  {
   "cell_type": "code",
   "execution_count": null,
   "id": "655a0498-508b-4e13-83bd-60d69cb6ebf8",
   "metadata": {},
   "outputs": [],
   "source": []
  }
 ],
 "metadata": {
  "kernelspec": {
   "display_name": "Python 3 (ipykernel)",
   "language": "python",
   "name": "python3"
  },
  "language_info": {
   "codemirror_mode": {
    "name": "ipython",
    "version": 3
   },
   "file_extension": ".py",
   "mimetype": "text/x-python",
   "name": "python",
   "nbconvert_exporter": "python",
   "pygments_lexer": "ipython3",
   "version": "3.9.12"
  }
 },
 "nbformat": 4,
 "nbformat_minor": 5
}
