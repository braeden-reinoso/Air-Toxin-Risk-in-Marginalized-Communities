{
 "cells": [
  {
   "cell_type": "markdown",
   "id": "08c66ad3-31d0-4361-a1b9-ef6aa2889a30",
   "metadata": {},
   "source": [
    "# Product Matching\n",
    "## Level 4: Model Training Script\n",
    "\n",
    "### Notes:\n",
    "1. Train a Logistic regression model to classify product matches\n",
    "2. Optimize trained model via hyperparameter tuning\n",
    "\n",
    "### References: "
   ]
  },
  {
   "cell_type": "markdown",
   "id": "5c0e7d9b-6cb6-42cc-9352-198ff61039d5",
   "metadata": {},
   "source": [
    "## Notebook Config"
   ]
  },
  {
   "cell_type": "code",
   "execution_count": 1,
   "id": "bcebc7d7-8085-4d36-b166-f3de01b98e03",
   "metadata": {},
   "outputs": [],
   "source": [
    "# Display settings\n",
    "## Auto reload modules & inline plots\n",
    "%reload_ext autoreload\n",
    "%autoreload 2\n",
    "%matplotlib inline"
   ]
  },
  {
   "cell_type": "markdown",
   "id": "53f3408f-c80f-49e6-9c52-0bcb95d6ea51",
   "metadata": {},
   "source": [
    "## Package Import & Initialization"
   ]
  },
  {
   "cell_type": "code",
   "execution_count": 2,
   "id": "729015aa-a9cf-4adf-8616-a1ef4e6f6f83",
   "metadata": {},
   "outputs": [],
   "source": [
    "# Import packages\n",
    "\n",
    "import pandas as pd                  #For data manipulation and bgq --> pandas conversion\n",
    "import numpy as np                   #For scientific computation\n",
    "import os                            #For work with native operating system and directories\n",
    "from pathlib import Path             #For working with file paths and directories\n",
    "import warnings                      #To tweak warning options\n",
    "import datetime as dt                #For date objects and implemetations\n",
    "from sklearn.pipeline import Pipeline       #For linking various data ETL moves together\n",
    "from sklearn.preprocessing import StandardScaler, PolynomialFeatures  #For standardizing/tranforming numeric variables \n",
    "from sklearn.linear_model import SGDClassifier       #For training SGD model on data\n",
    "import joblib                        #For saving objects, more efficient at serializing large numpy arrays than pickle module"
   ]
  },
  {
   "cell_type": "code",
   "execution_count": 3,
   "id": "9ae113a5-13fd-42fc-b717-c66fb40310ac",
   "metadata": {},
   "outputs": [],
   "source": [
    "pd.set_option('display.max_columns', None)\n",
    "pd.options.display.float_format = '{:.4f}'.format\n",
    "warnings.filterwarnings('ignore')"
   ]
  },
  {
   "cell_type": "markdown",
   "id": "448f3c04-b1fd-437d-9d52-4a70859e0a33",
   "metadata": {},
   "source": [
    "## Function Library"
   ]
  },
  {
   "cell_type": "code",
   "execution_count": null,
   "id": "90f174ca-d4ab-429a-85b1-96a36c1f1e21",
   "metadata": {},
   "outputs": [],
   "source": []
  },
  {
   "cell_type": "markdown",
   "id": "79458344-9532-4788-932f-9cb236ea8d1a",
   "metadata": {},
   "source": [
    "## Custom Tranformers"
   ]
  },
  {
   "cell_type": "code",
   "execution_count": null,
   "id": "abb2286d-8d1f-4283-b897-1b2e53437344",
   "metadata": {},
   "outputs": [],
   "source": []
  },
  {
   "cell_type": "markdown",
   "id": "f2a9053f-5965-49bb-9422-1c0a4c62c0d0",
   "metadata": {},
   "source": [
    "## Set Directories"
   ]
  },
  {
   "cell_type": "code",
   "execution_count": 4,
   "id": "171b0f54-afb8-4cea-9344-c225c04f3219",
   "metadata": {},
   "outputs": [],
   "source": [
    "#cwd = os.getcwd()\n",
    "#os.chdir(cwd)\n",
    "home = str(Path.home())\n",
    "proj_path = os.path.join(home, 'Cardinal Health', 'Enterprise Data Remediation - Documents', 'General', '01_Projects', \n",
    "                         '23_Kinaxis')"
   ]
  },
  {
   "cell_type": "code",
   "execution_count": 5,
   "id": "954e1967-d125-4362-85da-0311547de327",
   "metadata": {},
   "outputs": [],
   "source": [
    "main_dir = proj_path + '\\\\'\n",
    "iput_dir = main_dir + 'Data\\\\Output\\\\ML\\\\'\n",
    "oput_dir = main_dir + 'Data\\\\Output\\\\ML\\\\'"
   ]
  },
  {
   "cell_type": "markdown",
   "id": "f4593f82-081c-4f31-8819-3a5777bb3aa5",
   "metadata": {},
   "source": [
    "## Set Output File Names"
   ]
  },
  {
   "cell_type": "code",
   "execution_count": 6,
   "id": "7e4d210b-49d0-4e8b-af21-1e5437197d5e",
   "metadata": {},
   "outputs": [],
   "source": [
    "## Output file name\n",
    "mdl_oput_file_name = \"L400_mdl_\" + str(dt.datetime.today().strftime('%Y-%m-%d')) + '.pkl'"
   ]
  },
  {
   "cell_type": "markdown",
   "id": "20de89a6-97d8-43ee-af21-fb6abdfd2361",
   "metadata": {},
   "source": [
    "## Load Data"
   ]
  },
  {
   "cell_type": "code",
   "execution_count": 7,
   "id": "8f6fc46b-d4c2-40f5-aa56-38755406084f",
   "metadata": {},
   "outputs": [],
   "source": [
    "raw_df = pd.read_pickle(iput_dir + \"L300_feat_df_2022-07-15.pkl\")"
   ]
  },
  {
   "cell_type": "code",
   "execution_count": 8,
   "id": "69750d5d-53da-4efa-8daa-6d7cc4641c14",
   "metadata": {},
   "outputs": [],
   "source": [
    "X = joblib.load(iput_dir + \"L300_prd_df_2022-07-15.pkl\")"
   ]
  },
  {
   "cell_type": "code",
   "execution_count": 9,
   "id": "f566334b-5ca7-404d-a310-6957f171baa7",
   "metadata": {},
   "outputs": [],
   "source": [
    "y = joblib.load(iput_dir + \"L300_tgt_df_2022-07-15.pkl\")"
   ]
  },
  {
   "cell_type": "code",
   "execution_count": 10,
   "id": "1ac334fc-c568-4139-8911-d406aae7bdc5",
   "metadata": {},
   "outputs": [],
   "source": [
    "X_Scaler = joblib.load(iput_dir + \"L300_sclr_obj_2022-07-15.pkl\")"
   ]
  },
  {
   "cell_type": "markdown",
   "id": "d2e7f5aa-7cbe-41b7-931f-a9c6e7c5c829",
   "metadata": {},
   "source": [
    "## High-level Data Inspection"
   ]
  },
  {
   "cell_type": "code",
   "execution_count": 11,
   "id": "7cff1566-83c0-4c07-8dbe-b493830fda0f",
   "metadata": {},
   "outputs": [
    {
     "name": "stdout",
     "output_type": "stream",
     "text": [
      "<class 'pandas.core.frame.DataFrame'>\n",
      "RangeIndex: 1668 entries, 0 to 1667\n",
      "Data columns (total 20 columns):\n",
      " #   Column                  Non-Null Count  Dtype  \n",
      "---  ------                  --------------  -----  \n",
      " 0   ITEMNUMBER              1668 non-null   object \n",
      " 1   Number                  1668 non-null   object \n",
      " 2   ITEMDESCRIPTION         1668 non-null   object \n",
      " 3   FullDescription         1668 non-null   object \n",
      " 4   SUPPLIER_ITEM_NUMBER    1668 non-null   object \n",
      " 5   ManufacturerItemNumber  1668 non-null   object \n",
      " 6   SUPPLIERNAME            1668 non-null   object \n",
      " 7   ManufacturerName        1668 non-null   object \n",
      " 8   UNSPCCode               1646 non-null   float64\n",
      " 9   UNSPSC                  1668 non-null   int64  \n",
      " 10  Feat_Exact_SuppItemNum  1668 non-null   int64  \n",
      " 11  Feat_Fuzzy_SuppName     1668 non-null   int64  \n",
      " 12  Feat_Fuzzy_ItemDesc     1668 non-null   int64  \n",
      " 13  Feat_Exact_ItemNum      1668 non-null   int64  \n",
      " 14  Feat_Exact_UNSPSC       1668 non-null   int64  \n",
      " 15  Match_Confidence        1668 non-null   object \n",
      " 16  Match                   1668 non-null   object \n",
      " 17  Comments                4 non-null      object \n",
      " 18  Unnamed: 17             0 non-null      object \n",
      " 19  Feat_Fuzzy_SuppItemNum  1668 non-null   int32  \n",
      "dtypes: float64(1), int32(1), int64(6), object(12)\n",
      "memory usage: 254.2+ KB\n"
     ]
    }
   ],
   "source": [
    "raw_df.info()"
   ]
  },
  {
   "cell_type": "code",
   "execution_count": 12,
   "id": "c4fd036d-be8d-4d3a-8d55-04c2bf19118f",
   "metadata": {},
   "outputs": [
    {
     "data": {
      "text/html": [
       "<div>\n",
       "<style scoped>\n",
       "    .dataframe tbody tr th:only-of-type {\n",
       "        vertical-align: middle;\n",
       "    }\n",
       "\n",
       "    .dataframe tbody tr th {\n",
       "        vertical-align: top;\n",
       "    }\n",
       "\n",
       "    .dataframe thead th {\n",
       "        text-align: right;\n",
       "    }\n",
       "</style>\n",
       "<table border=\"1\" class=\"dataframe\">\n",
       "  <thead>\n",
       "    <tr style=\"text-align: right;\">\n",
       "      <th></th>\n",
       "      <th>ITEMNUMBER</th>\n",
       "      <th>Number</th>\n",
       "      <th>ITEMDESCRIPTION</th>\n",
       "      <th>FullDescription</th>\n",
       "      <th>SUPPLIER_ITEM_NUMBER</th>\n",
       "      <th>ManufacturerItemNumber</th>\n",
       "      <th>SUPPLIERNAME</th>\n",
       "      <th>ManufacturerName</th>\n",
       "      <th>UNSPCCode</th>\n",
       "      <th>UNSPSC</th>\n",
       "      <th>Feat_Exact_SuppItemNum</th>\n",
       "      <th>Feat_Fuzzy_SuppName</th>\n",
       "      <th>Feat_Fuzzy_ItemDesc</th>\n",
       "      <th>Feat_Exact_ItemNum</th>\n",
       "      <th>Feat_Exact_UNSPSC</th>\n",
       "      <th>Match_Confidence</th>\n",
       "      <th>Match</th>\n",
       "      <th>Comments</th>\n",
       "      <th>Unnamed: 17</th>\n",
       "      <th>Feat_Fuzzy_SuppItemNum</th>\n",
       "    </tr>\n",
       "  </thead>\n",
       "  <tbody>\n",
       "    <tr>\n",
       "      <th>0</th>\n",
       "      <td>58305122</td>\n",
       "      <td>305106</td>\n",
       "      <td>Regular Bevel Needle 25Gx5/8\" (100 count)</td>\n",
       "      <td>NEEDLE HYPO REGULAR BEVEL 30GX 0.5IN 100/PK 10...</td>\n",
       "      <td>305122</td>\n",
       "      <td>305106</td>\n",
       "      <td>BECTON DICKINSON CONSUMER</td>\n",
       "      <td>BECTON DICKINSON</td>\n",
       "      <td>42142523.0000</td>\n",
       "      <td>42142523</td>\n",
       "      <td>0</td>\n",
       "      <td>100</td>\n",
       "      <td>77</td>\n",
       "      <td>0</td>\n",
       "      <td>1</td>\n",
       "      <td>02 Med</td>\n",
       "      <td>No</td>\n",
       "      <td>NaN</td>\n",
       "      <td>NaN</td>\n",
       "      <td>0</td>\n",
       "    </tr>\n",
       "    <tr>\n",
       "      <th>1</th>\n",
       "      <td>683208</td>\n",
       "      <td>A5000-1</td>\n",
       "      <td>Lisco Nonsterile Sponge 4\"x4\"</td>\n",
       "      <td>APPLICATOR WOODEN NO TIP 6IN NONSTERILE 1000EA...</td>\n",
       "      <td>3208</td>\n",
       "      <td>A5000-1</td>\n",
       "      <td>CARDINAL HEALTH-PR</td>\n",
       "      <td>CARDINAL HEALTH</td>\n",
       "      <td>42311512.0000</td>\n",
       "      <td>42141502</td>\n",
       "      <td>0</td>\n",
       "      <td>100</td>\n",
       "      <td>53</td>\n",
       "      <td>0</td>\n",
       "      <td>0</td>\n",
       "      <td>03 Low</td>\n",
       "      <td>No</td>\n",
       "      <td>NaN</td>\n",
       "      <td>NaN</td>\n",
       "      <td>0</td>\n",
       "    </tr>\n",
       "    <tr>\n",
       "      <th>2</th>\n",
       "      <td>682733</td>\n",
       "      <td>2733</td>\n",
       "      <td>Curity Nonsterile Gauze Sponge 4\"x4\"</td>\n",
       "      <td>GAUZE SPONGE 4X4IN 16PLY 2000/CS</td>\n",
       "      <td>2733-</td>\n",
       "      <td>2733-</td>\n",
       "      <td>CARDINAL HEALTH-PR</td>\n",
       "      <td>CARDINAL HEALTH</td>\n",
       "      <td>42311512.0000</td>\n",
       "      <td>42311512</td>\n",
       "      <td>1</td>\n",
       "      <td>100</td>\n",
       "      <td>55</td>\n",
       "      <td>0</td>\n",
       "      <td>1</td>\n",
       "      <td>01 High</td>\n",
       "      <td>Yes</td>\n",
       "      <td>NaN</td>\n",
       "      <td>NaN</td>\n",
       "      <td>1</td>\n",
       "    </tr>\n",
       "    <tr>\n",
       "      <th>3</th>\n",
       "      <td>686132</td>\n",
       "      <td>8043</td>\n",
       "      <td>CURITY Sterile Gauze Pad, 3\"x3\", 12 ply</td>\n",
       "      <td>GAUZE SPONGE CURITY 3X3 4PLY LF STER 2EA/PK 25...</td>\n",
       "      <td>6132</td>\n",
       "      <td>8043</td>\n",
       "      <td>CARDINAL HEALTH-PR</td>\n",
       "      <td>CARDINAL HEALTH</td>\n",
       "      <td>42311512.0000</td>\n",
       "      <td>42311512</td>\n",
       "      <td>0</td>\n",
       "      <td>100</td>\n",
       "      <td>57</td>\n",
       "      <td>0</td>\n",
       "      <td>1</td>\n",
       "      <td>03 Low</td>\n",
       "      <td>No</td>\n",
       "      <td>NaN</td>\n",
       "      <td>NaN</td>\n",
       "      <td>0</td>\n",
       "    </tr>\n",
       "    <tr>\n",
       "      <th>4</th>\n",
       "      <td>58309642</td>\n",
       "      <td>309642</td>\n",
       "      <td>Luer-Lok Syringe with Detachable PrecisionGlid...</td>\n",
       "      <td>SYRINGE LUER LOK 10ML 21G 1IN 100/PK 4PK/CS</td>\n",
       "      <td>309642</td>\n",
       "      <td>309642</td>\n",
       "      <td>BECTON DICKINSON CONSUMER</td>\n",
       "      <td>BECTON DICKINSON</td>\n",
       "      <td>42142609.0000</td>\n",
       "      <td>42142609</td>\n",
       "      <td>1</td>\n",
       "      <td>100</td>\n",
       "      <td>63</td>\n",
       "      <td>0</td>\n",
       "      <td>1</td>\n",
       "      <td>01 High</td>\n",
       "      <td>Yes</td>\n",
       "      <td>NaN</td>\n",
       "      <td>NaN</td>\n",
       "      <td>1</td>\n",
       "    </tr>\n",
       "  </tbody>\n",
       "</table>\n",
       "</div>"
      ],
      "text/plain": [
       "  ITEMNUMBER   Number                                    ITEMDESCRIPTION  \\\n",
       "0   58305122   305106          Regular Bevel Needle 25Gx5/8\" (100 count)   \n",
       "1     683208  A5000-1                      Lisco Nonsterile Sponge 4\"x4\"   \n",
       "2     682733     2733               Curity Nonsterile Gauze Sponge 4\"x4\"   \n",
       "3     686132     8043            CURITY Sterile Gauze Pad, 3\"x3\", 12 ply   \n",
       "4   58309642   309642  Luer-Lok Syringe with Detachable PrecisionGlid...   \n",
       "\n",
       "                                     FullDescription SUPPLIER_ITEM_NUMBER  \\\n",
       "0  NEEDLE HYPO REGULAR BEVEL 30GX 0.5IN 100/PK 10...               305122   \n",
       "1  APPLICATOR WOODEN NO TIP 6IN NONSTERILE 1000EA...                 3208   \n",
       "2                   GAUZE SPONGE 4X4IN 16PLY 2000/CS                2733-   \n",
       "3  GAUZE SPONGE CURITY 3X3 4PLY LF STER 2EA/PK 25...                 6132   \n",
       "4        SYRINGE LUER LOK 10ML 21G 1IN 100/PK 4PK/CS               309642   \n",
       "\n",
       "  ManufacturerItemNumber               SUPPLIERNAME  ManufacturerName  \\\n",
       "0                 305106  BECTON DICKINSON CONSUMER  BECTON DICKINSON   \n",
       "1                A5000-1         CARDINAL HEALTH-PR   CARDINAL HEALTH   \n",
       "2                  2733-         CARDINAL HEALTH-PR   CARDINAL HEALTH   \n",
       "3                   8043         CARDINAL HEALTH-PR   CARDINAL HEALTH   \n",
       "4                 309642  BECTON DICKINSON CONSUMER  BECTON DICKINSON   \n",
       "\n",
       "      UNSPCCode    UNSPSC  Feat_Exact_SuppItemNum  Feat_Fuzzy_SuppName  \\\n",
       "0 42142523.0000  42142523                       0                  100   \n",
       "1 42311512.0000  42141502                       0                  100   \n",
       "2 42311512.0000  42311512                       1                  100   \n",
       "3 42311512.0000  42311512                       0                  100   \n",
       "4 42142609.0000  42142609                       1                  100   \n",
       "\n",
       "   Feat_Fuzzy_ItemDesc  Feat_Exact_ItemNum  Feat_Exact_UNSPSC  \\\n",
       "0                   77                   0                  1   \n",
       "1                   53                   0                  0   \n",
       "2                   55                   0                  1   \n",
       "3                   57                   0                  1   \n",
       "4                   63                   0                  1   \n",
       "\n",
       "  Match_Confidence Match Comments Unnamed: 17  Feat_Fuzzy_SuppItemNum  \n",
       "0           02 Med    No      NaN         NaN                       0  \n",
       "1           03 Low    No      NaN         NaN                       0  \n",
       "2          01 High   Yes      NaN         NaN                       1  \n",
       "3           03 Low    No      NaN         NaN                       0  \n",
       "4          01 High   Yes      NaN         NaN                       1  "
      ]
     },
     "execution_count": 12,
     "metadata": {},
     "output_type": "execute_result"
    }
   ],
   "source": [
    "raw_df.head()"
   ]
  },
  {
   "cell_type": "code",
   "execution_count": 13,
   "id": "118e23c7-52e7-49ee-b8e8-548e9fb2c46a",
   "metadata": {},
   "outputs": [
    {
     "data": {
      "text/plain": [
       "(1668, 6)"
      ]
     },
     "execution_count": 13,
     "metadata": {},
     "output_type": "execute_result"
    }
   ],
   "source": [
    "X.shape"
   ]
  },
  {
   "cell_type": "code",
   "execution_count": 14,
   "id": "40e9f0d3-f705-457e-b40a-2c46c4928e25",
   "metadata": {},
   "outputs": [
    {
     "data": {
      "text/plain": [
       "(1668,)"
      ]
     },
     "execution_count": 14,
     "metadata": {},
     "output_type": "execute_result"
    }
   ],
   "source": [
    "y.shape"
   ]
  },
  {
   "cell_type": "markdown",
   "id": "cd77f97b-7052-4073-8a3c-a0794d9ba1cd",
   "metadata": {},
   "source": [
    "## Train Model"
   ]
  },
  {
   "cell_type": "code",
   "execution_count": 55,
   "id": "867379dd-58ed-4c40-b596-be0cbc6604bb",
   "metadata": {},
   "outputs": [],
   "source": [
    "X_scld = X_Scaler.transform(X)"
   ]
  },
  {
   "cell_type": "code",
   "execution_count": 58,
   "id": "709d0cae-e7dd-40c2-8787-4a101cf766b9",
   "metadata": {},
   "outputs": [
    {
     "data": {
      "text/html": [
       "<style>#sk-container-id-11 {color: black;background-color: white;}#sk-container-id-11 pre{padding: 0;}#sk-container-id-11 div.sk-toggleable {background-color: white;}#sk-container-id-11 label.sk-toggleable__label {cursor: pointer;display: block;width: 100%;margin-bottom: 0;padding: 0.3em;box-sizing: border-box;text-align: center;}#sk-container-id-11 label.sk-toggleable__label-arrow:before {content: \"▸\";float: left;margin-right: 0.25em;color: #696969;}#sk-container-id-11 label.sk-toggleable__label-arrow:hover:before {color: black;}#sk-container-id-11 div.sk-estimator:hover label.sk-toggleable__label-arrow:before {color: black;}#sk-container-id-11 div.sk-toggleable__content {max-height: 0;max-width: 0;overflow: hidden;text-align: left;background-color: #f0f8ff;}#sk-container-id-11 div.sk-toggleable__content pre {margin: 0.2em;color: black;border-radius: 0.25em;background-color: #f0f8ff;}#sk-container-id-11 input.sk-toggleable__control:checked~div.sk-toggleable__content {max-height: 200px;max-width: 100%;overflow: auto;}#sk-container-id-11 input.sk-toggleable__control:checked~label.sk-toggleable__label-arrow:before {content: \"▾\";}#sk-container-id-11 div.sk-estimator input.sk-toggleable__control:checked~label.sk-toggleable__label {background-color: #d4ebff;}#sk-container-id-11 div.sk-label input.sk-toggleable__control:checked~label.sk-toggleable__label {background-color: #d4ebff;}#sk-container-id-11 input.sk-hidden--visually {border: 0;clip: rect(1px 1px 1px 1px);clip: rect(1px, 1px, 1px, 1px);height: 1px;margin: -1px;overflow: hidden;padding: 0;position: absolute;width: 1px;}#sk-container-id-11 div.sk-estimator {font-family: monospace;background-color: #f0f8ff;border: 1px dotted black;border-radius: 0.25em;box-sizing: border-box;margin-bottom: 0.5em;}#sk-container-id-11 div.sk-estimator:hover {background-color: #d4ebff;}#sk-container-id-11 div.sk-parallel-item::after {content: \"\";width: 100%;border-bottom: 1px solid gray;flex-grow: 1;}#sk-container-id-11 div.sk-label:hover label.sk-toggleable__label {background-color: #d4ebff;}#sk-container-id-11 div.sk-serial::before {content: \"\";position: absolute;border-left: 1px solid gray;box-sizing: border-box;top: 0;bottom: 0;left: 50%;z-index: 0;}#sk-container-id-11 div.sk-serial {display: flex;flex-direction: column;align-items: center;background-color: white;padding-right: 0.2em;padding-left: 0.2em;position: relative;}#sk-container-id-11 div.sk-item {position: relative;z-index: 1;}#sk-container-id-11 div.sk-parallel {display: flex;align-items: stretch;justify-content: center;background-color: white;position: relative;}#sk-container-id-11 div.sk-item::before, #sk-container-id-11 div.sk-parallel-item::before {content: \"\";position: absolute;border-left: 1px solid gray;box-sizing: border-box;top: 0;bottom: 0;left: 50%;z-index: -1;}#sk-container-id-11 div.sk-parallel-item {display: flex;flex-direction: column;z-index: 1;position: relative;background-color: white;}#sk-container-id-11 div.sk-parallel-item:first-child::after {align-self: flex-end;width: 50%;}#sk-container-id-11 div.sk-parallel-item:last-child::after {align-self: flex-start;width: 50%;}#sk-container-id-11 div.sk-parallel-item:only-child::after {width: 0;}#sk-container-id-11 div.sk-dashed-wrapped {border: 1px dashed gray;margin: 0 0.4em 0.5em 0.4em;box-sizing: border-box;padding-bottom: 0.4em;background-color: white;}#sk-container-id-11 div.sk-label label {font-family: monospace;font-weight: bold;display: inline-block;line-height: 1.2em;}#sk-container-id-11 div.sk-label-container {text-align: center;}#sk-container-id-11 div.sk-container {/* jupyter's `normalize.less` sets `[hidden] { display: none; }` but bootstrap.min.css set `[hidden] { display: none !important; }` so we also need the `!important` here to be able to override the default hidden behavior on the sphinx rendered scikit-learn.org. See: https://github.com/scikit-learn/scikit-learn/issues/21755 */display: inline-block !important;position: relative;}#sk-container-id-11 div.sk-text-repr-fallback {display: none;}</style><div id=\"sk-container-id-11\" class=\"sk-top-container\"><div class=\"sk-text-repr-fallback\"><pre>SGDClassifier(random_state=42)</pre><b>In a Jupyter environment, please rerun this cell to show the HTML representation or trust the notebook. <br />On GitHub, the HTML representation is unable to render, please try loading this page with nbviewer.org.</b></div><div class=\"sk-container\" hidden><div class=\"sk-item\"><div class=\"sk-estimator sk-toggleable\"><input class=\"sk-toggleable__control sk-hidden--visually\" id=\"sk-estimator-id-23\" type=\"checkbox\" checked><label for=\"sk-estimator-id-23\" class=\"sk-toggleable__label sk-toggleable__label-arrow\">SGDClassifier</label><div class=\"sk-toggleable__content\"><pre>SGDClassifier(random_state=42)</pre></div></div></div></div></div>"
      ],
      "text/plain": [
       "SGDClassifier(random_state=42)"
      ]
     },
     "execution_count": 58,
     "metadata": {},
     "output_type": "execute_result"
    }
   ],
   "source": [
    "# sgd_clf = Pipeline([\n",
    "#     # (\"poly_features\", PolynomialFeatures(degree=3)),\n",
    "#     (\"scaler\", StandardScaler()),\n",
    "#     (\"sgd\", SGDClassifier(random_state=42))\n",
    "# ])\n",
    "\n",
    "sgd_clf = SGDClassifier(random_state=42)\n",
    "sgd_clf.fit(X_scld, y)"
   ]
  },
  {
   "cell_type": "markdown",
   "id": "cbae1980-d7a6-4e1a-84e1-f3ef2032798b",
   "metadata": {},
   "source": [
    "## Visualize Model"
   ]
  },
  {
   "cell_type": "code",
   "execution_count": 77,
   "id": "938ab35a-fd2e-4ba9-8aaf-256048943e04",
   "metadata": {},
   "outputs": [
    {
     "name": "stdout",
     "output_type": "stream",
     "text": [
      "Feat_Exact_SuppItemNum 4.12549307593671\n",
      "Feat_Fuzzy_SuppName 0.7246469433222757\n",
      "Feat_Fuzzy_ItemDesc 2.172697439648757\n",
      "Feat_Exact_ItemNum 4.378725658116818\n",
      "Feat_Exact_UNSPSC 1.1717631762908254\n",
      "Feat_Fuzzy_SuppItemNum 1.2619895029201347\n"
     ]
    }
   ],
   "source": [
    "for name, score in zip(raw_df.filter(regex='^Feat', axis=\"columns\").columns, sgd_clf.coef_.ravel()):\n",
    "    print(name, score)"
   ]
  },
  {
   "cell_type": "code",
   "execution_count": 79,
   "id": "2de27e85-bb1b-4fb7-ad65-5ef618273dda",
   "metadata": {},
   "outputs": [
    {
     "data": {
      "text/plain": [
       "array([0, 0, 1, 0])"
      ]
     },
     "execution_count": 79,
     "metadata": {},
     "output_type": "execute_result"
    }
   ],
   "source": [
    "## Verify a model was created\n",
    "sgd_clf.predict(X_scld[0:4])"
   ]
  },
  {
   "cell_type": "code",
   "execution_count": null,
   "id": "2b29561d-e0e1-44f5-9def-5baf485153e4",
   "metadata": {},
   "outputs": [],
   "source": []
  },
  {
   "cell_type": "markdown",
   "id": "d7589421-4024-4cfe-ae9f-08677ab04664",
   "metadata": {},
   "source": [
    "## Fine-tune Model (e.g. Grid Search)"
   ]
  },
  {
   "cell_type": "code",
   "execution_count": 62,
   "id": "7708d83a-ce0f-464f-9d38-a1db179530fb",
   "metadata": {},
   "outputs": [],
   "source": [
    "from sklearn.model_selection import GridSearchCV, RandomizedSearchCV"
   ]
  },
  {
   "cell_type": "markdown",
   "id": "7742d264-e828-4a05-a5e6-c20e07ea88b9",
   "metadata": {},
   "source": [
    "Grid Search"
   ]
  },
  {
   "cell_type": "code",
   "execution_count": 63,
   "id": "8652d388-39cb-4db6-8b95-bc4abe4fd260",
   "metadata": {},
   "outputs": [],
   "source": [
    "gs_param_grid = [{\n",
    "    'alpha': [1e-4, 1e-3, 1e-2, 1e-1, 1e0, 1e1, 1e2, 1e3], # learning rate\n",
    "    'loss': ['hinge', 'log'], # logistic regression,\n",
    "    'penalty': ['l1','elasticnet','l2'],\n",
    "    'l1_ratio': [0.1, 0.15, 0.2, 0.3, 0.4, 0.5, 0.6, 0.7, 0.8, 0.9],\n",
    "    'n_jobs': [-1]\n",
    "}]"
   ]
  },
  {
   "cell_type": "code",
   "execution_count": 64,
   "id": "ae9fee62-2860-4b7e-9600-26974873436d",
   "metadata": {},
   "outputs": [],
   "source": [
    "gs_sgd_clf = SGDClassifier(random_state=42)"
   ]
  },
  {
   "cell_type": "code",
   "execution_count": 65,
   "id": "84350619-f92f-47c2-b83b-c863aab0a259",
   "metadata": {},
   "outputs": [],
   "source": [
    "grid_search = GridSearchCV(gs_sgd_clf, gs_param_grid, cv=5, scoring='f1', return_train_score=True)"
   ]
  },
  {
   "cell_type": "code",
   "execution_count": 80,
   "id": "d9176b77-e7fa-4516-bdd6-d5d83806d804",
   "metadata": {},
   "outputs": [
    {
     "data": {
      "text/html": [
       "<style>#sk-container-id-15 {color: black;background-color: white;}#sk-container-id-15 pre{padding: 0;}#sk-container-id-15 div.sk-toggleable {background-color: white;}#sk-container-id-15 label.sk-toggleable__label {cursor: pointer;display: block;width: 100%;margin-bottom: 0;padding: 0.3em;box-sizing: border-box;text-align: center;}#sk-container-id-15 label.sk-toggleable__label-arrow:before {content: \"▸\";float: left;margin-right: 0.25em;color: #696969;}#sk-container-id-15 label.sk-toggleable__label-arrow:hover:before {color: black;}#sk-container-id-15 div.sk-estimator:hover label.sk-toggleable__label-arrow:before {color: black;}#sk-container-id-15 div.sk-toggleable__content {max-height: 0;max-width: 0;overflow: hidden;text-align: left;background-color: #f0f8ff;}#sk-container-id-15 div.sk-toggleable__content pre {margin: 0.2em;color: black;border-radius: 0.25em;background-color: #f0f8ff;}#sk-container-id-15 input.sk-toggleable__control:checked~div.sk-toggleable__content {max-height: 200px;max-width: 100%;overflow: auto;}#sk-container-id-15 input.sk-toggleable__control:checked~label.sk-toggleable__label-arrow:before {content: \"▾\";}#sk-container-id-15 div.sk-estimator input.sk-toggleable__control:checked~label.sk-toggleable__label {background-color: #d4ebff;}#sk-container-id-15 div.sk-label input.sk-toggleable__control:checked~label.sk-toggleable__label {background-color: #d4ebff;}#sk-container-id-15 input.sk-hidden--visually {border: 0;clip: rect(1px 1px 1px 1px);clip: rect(1px, 1px, 1px, 1px);height: 1px;margin: -1px;overflow: hidden;padding: 0;position: absolute;width: 1px;}#sk-container-id-15 div.sk-estimator {font-family: monospace;background-color: #f0f8ff;border: 1px dotted black;border-radius: 0.25em;box-sizing: border-box;margin-bottom: 0.5em;}#sk-container-id-15 div.sk-estimator:hover {background-color: #d4ebff;}#sk-container-id-15 div.sk-parallel-item::after {content: \"\";width: 100%;border-bottom: 1px solid gray;flex-grow: 1;}#sk-container-id-15 div.sk-label:hover label.sk-toggleable__label {background-color: #d4ebff;}#sk-container-id-15 div.sk-serial::before {content: \"\";position: absolute;border-left: 1px solid gray;box-sizing: border-box;top: 0;bottom: 0;left: 50%;z-index: 0;}#sk-container-id-15 div.sk-serial {display: flex;flex-direction: column;align-items: center;background-color: white;padding-right: 0.2em;padding-left: 0.2em;position: relative;}#sk-container-id-15 div.sk-item {position: relative;z-index: 1;}#sk-container-id-15 div.sk-parallel {display: flex;align-items: stretch;justify-content: center;background-color: white;position: relative;}#sk-container-id-15 div.sk-item::before, #sk-container-id-15 div.sk-parallel-item::before {content: \"\";position: absolute;border-left: 1px solid gray;box-sizing: border-box;top: 0;bottom: 0;left: 50%;z-index: -1;}#sk-container-id-15 div.sk-parallel-item {display: flex;flex-direction: column;z-index: 1;position: relative;background-color: white;}#sk-container-id-15 div.sk-parallel-item:first-child::after {align-self: flex-end;width: 50%;}#sk-container-id-15 div.sk-parallel-item:last-child::after {align-self: flex-start;width: 50%;}#sk-container-id-15 div.sk-parallel-item:only-child::after {width: 0;}#sk-container-id-15 div.sk-dashed-wrapped {border: 1px dashed gray;margin: 0 0.4em 0.5em 0.4em;box-sizing: border-box;padding-bottom: 0.4em;background-color: white;}#sk-container-id-15 div.sk-label label {font-family: monospace;font-weight: bold;display: inline-block;line-height: 1.2em;}#sk-container-id-15 div.sk-label-container {text-align: center;}#sk-container-id-15 div.sk-container {/* jupyter's `normalize.less` sets `[hidden] { display: none; }` but bootstrap.min.css set `[hidden] { display: none !important; }` so we also need the `!important` here to be able to override the default hidden behavior on the sphinx rendered scikit-learn.org. See: https://github.com/scikit-learn/scikit-learn/issues/21755 */display: inline-block !important;position: relative;}#sk-container-id-15 div.sk-text-repr-fallback {display: none;}</style><div id=\"sk-container-id-15\" class=\"sk-top-container\"><div class=\"sk-text-repr-fallback\"><pre>GridSearchCV(cv=5, estimator=SGDClassifier(random_state=42),\n",
       "             param_grid=[{&#x27;alpha&#x27;: [0.0001, 0.001, 0.01, 0.1, 1.0, 10.0, 100.0,\n",
       "                                    1000.0],\n",
       "                          &#x27;l1_ratio&#x27;: [0.1, 0.15, 0.2, 0.3, 0.4, 0.5, 0.6, 0.7,\n",
       "                                       0.8, 0.9],\n",
       "                          &#x27;loss&#x27;: [&#x27;hinge&#x27;, &#x27;log&#x27;], &#x27;n_jobs&#x27;: [-1],\n",
       "                          &#x27;penalty&#x27;: [&#x27;l1&#x27;, &#x27;elasticnet&#x27;, &#x27;l2&#x27;]}],\n",
       "             return_train_score=True, scoring=&#x27;f1&#x27;)</pre><b>In a Jupyter environment, please rerun this cell to show the HTML representation or trust the notebook. <br />On GitHub, the HTML representation is unable to render, please try loading this page with nbviewer.org.</b></div><div class=\"sk-container\" hidden><div class=\"sk-item sk-dashed-wrapped\"><div class=\"sk-label-container\"><div class=\"sk-label sk-toggleable\"><input class=\"sk-toggleable__control sk-hidden--visually\" id=\"sk-estimator-id-31\" type=\"checkbox\" ><label for=\"sk-estimator-id-31\" class=\"sk-toggleable__label sk-toggleable__label-arrow\">GridSearchCV</label><div class=\"sk-toggleable__content\"><pre>GridSearchCV(cv=5, estimator=SGDClassifier(random_state=42),\n",
       "             param_grid=[{&#x27;alpha&#x27;: [0.0001, 0.001, 0.01, 0.1, 1.0, 10.0, 100.0,\n",
       "                                    1000.0],\n",
       "                          &#x27;l1_ratio&#x27;: [0.1, 0.15, 0.2, 0.3, 0.4, 0.5, 0.6, 0.7,\n",
       "                                       0.8, 0.9],\n",
       "                          &#x27;loss&#x27;: [&#x27;hinge&#x27;, &#x27;log&#x27;], &#x27;n_jobs&#x27;: [-1],\n",
       "                          &#x27;penalty&#x27;: [&#x27;l1&#x27;, &#x27;elasticnet&#x27;, &#x27;l2&#x27;]}],\n",
       "             return_train_score=True, scoring=&#x27;f1&#x27;)</pre></div></div></div><div class=\"sk-parallel\"><div class=\"sk-parallel-item\"><div class=\"sk-item\"><div class=\"sk-label-container\"><div class=\"sk-label sk-toggleable\"><input class=\"sk-toggleable__control sk-hidden--visually\" id=\"sk-estimator-id-32\" type=\"checkbox\" ><label for=\"sk-estimator-id-32\" class=\"sk-toggleable__label sk-toggleable__label-arrow\">estimator: SGDClassifier</label><div class=\"sk-toggleable__content\"><pre>SGDClassifier(random_state=42)</pre></div></div></div><div class=\"sk-serial\"><div class=\"sk-item\"><div class=\"sk-estimator sk-toggleable\"><input class=\"sk-toggleable__control sk-hidden--visually\" id=\"sk-estimator-id-33\" type=\"checkbox\" ><label for=\"sk-estimator-id-33\" class=\"sk-toggleable__label sk-toggleable__label-arrow\">SGDClassifier</label><div class=\"sk-toggleable__content\"><pre>SGDClassifier(random_state=42)</pre></div></div></div></div></div></div></div></div></div></div>"
      ],
      "text/plain": [
       "GridSearchCV(cv=5, estimator=SGDClassifier(random_state=42),\n",
       "             param_grid=[{'alpha': [0.0001, 0.001, 0.01, 0.1, 1.0, 10.0, 100.0,\n",
       "                                    1000.0],\n",
       "                          'l1_ratio': [0.1, 0.15, 0.2, 0.3, 0.4, 0.5, 0.6, 0.7,\n",
       "                                       0.8, 0.9],\n",
       "                          'loss': ['hinge', 'log'], 'n_jobs': [-1],\n",
       "                          'penalty': ['l1', 'elasticnet', 'l2']}],\n",
       "             return_train_score=True, scoring='f1')"
      ]
     },
     "execution_count": 80,
     "metadata": {},
     "output_type": "execute_result"
    }
   ],
   "source": [
    "grid_search.fit(X_scld, y)"
   ]
  },
  {
   "cell_type": "code",
   "execution_count": 81,
   "id": "ab7a35cc-7db7-4a72-b6a4-2121e13cc1c0",
   "metadata": {},
   "outputs": [
    {
     "data": {
      "text/plain": [
       "{'alpha': 0.001,\n",
       " 'l1_ratio': 0.1,\n",
       " 'loss': 'hinge',\n",
       " 'n_jobs': -1,\n",
       " 'penalty': 'l1'}"
      ]
     },
     "execution_count": 81,
     "metadata": {},
     "output_type": "execute_result"
    }
   ],
   "source": [
    "grid_search.best_params_"
   ]
  },
  {
   "cell_type": "code",
   "execution_count": 82,
   "id": "ef2b455f-bc3e-4016-96e8-6bc190d9209f",
   "metadata": {},
   "outputs": [
    {
     "data": {
      "text/html": [
       "<style>#sk-container-id-16 {color: black;background-color: white;}#sk-container-id-16 pre{padding: 0;}#sk-container-id-16 div.sk-toggleable {background-color: white;}#sk-container-id-16 label.sk-toggleable__label {cursor: pointer;display: block;width: 100%;margin-bottom: 0;padding: 0.3em;box-sizing: border-box;text-align: center;}#sk-container-id-16 label.sk-toggleable__label-arrow:before {content: \"▸\";float: left;margin-right: 0.25em;color: #696969;}#sk-container-id-16 label.sk-toggleable__label-arrow:hover:before {color: black;}#sk-container-id-16 div.sk-estimator:hover label.sk-toggleable__label-arrow:before {color: black;}#sk-container-id-16 div.sk-toggleable__content {max-height: 0;max-width: 0;overflow: hidden;text-align: left;background-color: #f0f8ff;}#sk-container-id-16 div.sk-toggleable__content pre {margin: 0.2em;color: black;border-radius: 0.25em;background-color: #f0f8ff;}#sk-container-id-16 input.sk-toggleable__control:checked~div.sk-toggleable__content {max-height: 200px;max-width: 100%;overflow: auto;}#sk-container-id-16 input.sk-toggleable__control:checked~label.sk-toggleable__label-arrow:before {content: \"▾\";}#sk-container-id-16 div.sk-estimator input.sk-toggleable__control:checked~label.sk-toggleable__label {background-color: #d4ebff;}#sk-container-id-16 div.sk-label input.sk-toggleable__control:checked~label.sk-toggleable__label {background-color: #d4ebff;}#sk-container-id-16 input.sk-hidden--visually {border: 0;clip: rect(1px 1px 1px 1px);clip: rect(1px, 1px, 1px, 1px);height: 1px;margin: -1px;overflow: hidden;padding: 0;position: absolute;width: 1px;}#sk-container-id-16 div.sk-estimator {font-family: monospace;background-color: #f0f8ff;border: 1px dotted black;border-radius: 0.25em;box-sizing: border-box;margin-bottom: 0.5em;}#sk-container-id-16 div.sk-estimator:hover {background-color: #d4ebff;}#sk-container-id-16 div.sk-parallel-item::after {content: \"\";width: 100%;border-bottom: 1px solid gray;flex-grow: 1;}#sk-container-id-16 div.sk-label:hover label.sk-toggleable__label {background-color: #d4ebff;}#sk-container-id-16 div.sk-serial::before {content: \"\";position: absolute;border-left: 1px solid gray;box-sizing: border-box;top: 0;bottom: 0;left: 50%;z-index: 0;}#sk-container-id-16 div.sk-serial {display: flex;flex-direction: column;align-items: center;background-color: white;padding-right: 0.2em;padding-left: 0.2em;position: relative;}#sk-container-id-16 div.sk-item {position: relative;z-index: 1;}#sk-container-id-16 div.sk-parallel {display: flex;align-items: stretch;justify-content: center;background-color: white;position: relative;}#sk-container-id-16 div.sk-item::before, #sk-container-id-16 div.sk-parallel-item::before {content: \"\";position: absolute;border-left: 1px solid gray;box-sizing: border-box;top: 0;bottom: 0;left: 50%;z-index: -1;}#sk-container-id-16 div.sk-parallel-item {display: flex;flex-direction: column;z-index: 1;position: relative;background-color: white;}#sk-container-id-16 div.sk-parallel-item:first-child::after {align-self: flex-end;width: 50%;}#sk-container-id-16 div.sk-parallel-item:last-child::after {align-self: flex-start;width: 50%;}#sk-container-id-16 div.sk-parallel-item:only-child::after {width: 0;}#sk-container-id-16 div.sk-dashed-wrapped {border: 1px dashed gray;margin: 0 0.4em 0.5em 0.4em;box-sizing: border-box;padding-bottom: 0.4em;background-color: white;}#sk-container-id-16 div.sk-label label {font-family: monospace;font-weight: bold;display: inline-block;line-height: 1.2em;}#sk-container-id-16 div.sk-label-container {text-align: center;}#sk-container-id-16 div.sk-container {/* jupyter's `normalize.less` sets `[hidden] { display: none; }` but bootstrap.min.css set `[hidden] { display: none !important; }` so we also need the `!important` here to be able to override the default hidden behavior on the sphinx rendered scikit-learn.org. See: https://github.com/scikit-learn/scikit-learn/issues/21755 */display: inline-block !important;position: relative;}#sk-container-id-16 div.sk-text-repr-fallback {display: none;}</style><div id=\"sk-container-id-16\" class=\"sk-top-container\"><div class=\"sk-text-repr-fallback\"><pre>SGDClassifier(alpha=0.001, l1_ratio=0.1, n_jobs=-1, penalty=&#x27;l1&#x27;,\n",
       "              random_state=42)</pre><b>In a Jupyter environment, please rerun this cell to show the HTML representation or trust the notebook. <br />On GitHub, the HTML representation is unable to render, please try loading this page with nbviewer.org.</b></div><div class=\"sk-container\" hidden><div class=\"sk-item\"><div class=\"sk-estimator sk-toggleable\"><input class=\"sk-toggleable__control sk-hidden--visually\" id=\"sk-estimator-id-34\" type=\"checkbox\" checked><label for=\"sk-estimator-id-34\" class=\"sk-toggleable__label sk-toggleable__label-arrow\">SGDClassifier</label><div class=\"sk-toggleable__content\"><pre>SGDClassifier(alpha=0.001, l1_ratio=0.1, n_jobs=-1, penalty=&#x27;l1&#x27;,\n",
       "              random_state=42)</pre></div></div></div></div></div>"
      ],
      "text/plain": [
       "SGDClassifier(alpha=0.001, l1_ratio=0.1, n_jobs=-1, penalty='l1',\n",
       "              random_state=42)"
      ]
     },
     "execution_count": 82,
     "metadata": {},
     "output_type": "execute_result"
    }
   ],
   "source": [
    "grid_search.best_estimator_"
   ]
  },
  {
   "cell_type": "code",
   "execution_count": 83,
   "id": "7a738e30-5a0d-42f0-930d-0d55464c6201",
   "metadata": {},
   "outputs": [],
   "source": [
    "gs_bst_sgd_clf = grid_search.best_estimator_"
   ]
  },
  {
   "cell_type": "code",
   "execution_count": null,
   "id": "67662eea-5746-438b-8155-ea9a00eec699",
   "metadata": {},
   "outputs": [],
   "source": []
  },
  {
   "cell_type": "markdown",
   "id": "4c43b3ce-7e36-472d-9e1c-1567968c23b3",
   "metadata": {},
   "source": [
    "Random Search"
   ]
  },
  {
   "cell_type": "code",
   "execution_count": 70,
   "id": "91cbbf49-e7df-4f62-a619-a2161b9e5935",
   "metadata": {},
   "outputs": [],
   "source": [
    "rs_param_grid = [{\n",
    "    'alpha': [1e-4, 1e-3, 1e-2, 1e-1, 1e0, 1e1, 1e2, 1e3], # learning rate\n",
    "    'loss': ['hinge', 'log'], # logistic regression,\n",
    "    'penalty': ['l1','elasticnet','l2'],\n",
    "    'l1_ratio': [0.1, 0.15, 0.2, 0.3, 0.4, 0.5, 0.6, 0.7, 0.8, 0.9],\n",
    "    'n_jobs': [-1]\n",
    "}]"
   ]
  },
  {
   "cell_type": "code",
   "execution_count": 71,
   "id": "20ad84e6-777e-44cd-b31d-e3a3dba88b60",
   "metadata": {},
   "outputs": [],
   "source": [
    "rs_sgd_clf = SGDClassifier(random_state=42)"
   ]
  },
  {
   "cell_type": "code",
   "execution_count": 87,
   "id": "d1e77360-1e2a-4a26-9b65-986124f0466f",
   "metadata": {},
   "outputs": [],
   "source": [
    "rand_search = RandomizedSearchCV(rs_sgd_clf, rs_param_grid, n_iter=10000, cv=5, scoring='f1', return_train_score=True)"
   ]
  },
  {
   "cell_type": "code",
   "execution_count": 88,
   "id": "ea29f336-b7a3-4583-82e8-4a35c752b413",
   "metadata": {},
   "outputs": [
    {
     "data": {
      "text/html": [
       "<style>#sk-container-id-18 {color: black;background-color: white;}#sk-container-id-18 pre{padding: 0;}#sk-container-id-18 div.sk-toggleable {background-color: white;}#sk-container-id-18 label.sk-toggleable__label {cursor: pointer;display: block;width: 100%;margin-bottom: 0;padding: 0.3em;box-sizing: border-box;text-align: center;}#sk-container-id-18 label.sk-toggleable__label-arrow:before {content: \"▸\";float: left;margin-right: 0.25em;color: #696969;}#sk-container-id-18 label.sk-toggleable__label-arrow:hover:before {color: black;}#sk-container-id-18 div.sk-estimator:hover label.sk-toggleable__label-arrow:before {color: black;}#sk-container-id-18 div.sk-toggleable__content {max-height: 0;max-width: 0;overflow: hidden;text-align: left;background-color: #f0f8ff;}#sk-container-id-18 div.sk-toggleable__content pre {margin: 0.2em;color: black;border-radius: 0.25em;background-color: #f0f8ff;}#sk-container-id-18 input.sk-toggleable__control:checked~div.sk-toggleable__content {max-height: 200px;max-width: 100%;overflow: auto;}#sk-container-id-18 input.sk-toggleable__control:checked~label.sk-toggleable__label-arrow:before {content: \"▾\";}#sk-container-id-18 div.sk-estimator input.sk-toggleable__control:checked~label.sk-toggleable__label {background-color: #d4ebff;}#sk-container-id-18 div.sk-label input.sk-toggleable__control:checked~label.sk-toggleable__label {background-color: #d4ebff;}#sk-container-id-18 input.sk-hidden--visually {border: 0;clip: rect(1px 1px 1px 1px);clip: rect(1px, 1px, 1px, 1px);height: 1px;margin: -1px;overflow: hidden;padding: 0;position: absolute;width: 1px;}#sk-container-id-18 div.sk-estimator {font-family: monospace;background-color: #f0f8ff;border: 1px dotted black;border-radius: 0.25em;box-sizing: border-box;margin-bottom: 0.5em;}#sk-container-id-18 div.sk-estimator:hover {background-color: #d4ebff;}#sk-container-id-18 div.sk-parallel-item::after {content: \"\";width: 100%;border-bottom: 1px solid gray;flex-grow: 1;}#sk-container-id-18 div.sk-label:hover label.sk-toggleable__label {background-color: #d4ebff;}#sk-container-id-18 div.sk-serial::before {content: \"\";position: absolute;border-left: 1px solid gray;box-sizing: border-box;top: 0;bottom: 0;left: 50%;z-index: 0;}#sk-container-id-18 div.sk-serial {display: flex;flex-direction: column;align-items: center;background-color: white;padding-right: 0.2em;padding-left: 0.2em;position: relative;}#sk-container-id-18 div.sk-item {position: relative;z-index: 1;}#sk-container-id-18 div.sk-parallel {display: flex;align-items: stretch;justify-content: center;background-color: white;position: relative;}#sk-container-id-18 div.sk-item::before, #sk-container-id-18 div.sk-parallel-item::before {content: \"\";position: absolute;border-left: 1px solid gray;box-sizing: border-box;top: 0;bottom: 0;left: 50%;z-index: -1;}#sk-container-id-18 div.sk-parallel-item {display: flex;flex-direction: column;z-index: 1;position: relative;background-color: white;}#sk-container-id-18 div.sk-parallel-item:first-child::after {align-self: flex-end;width: 50%;}#sk-container-id-18 div.sk-parallel-item:last-child::after {align-self: flex-start;width: 50%;}#sk-container-id-18 div.sk-parallel-item:only-child::after {width: 0;}#sk-container-id-18 div.sk-dashed-wrapped {border: 1px dashed gray;margin: 0 0.4em 0.5em 0.4em;box-sizing: border-box;padding-bottom: 0.4em;background-color: white;}#sk-container-id-18 div.sk-label label {font-family: monospace;font-weight: bold;display: inline-block;line-height: 1.2em;}#sk-container-id-18 div.sk-label-container {text-align: center;}#sk-container-id-18 div.sk-container {/* jupyter's `normalize.less` sets `[hidden] { display: none; }` but bootstrap.min.css set `[hidden] { display: none !important; }` so we also need the `!important` here to be able to override the default hidden behavior on the sphinx rendered scikit-learn.org. See: https://github.com/scikit-learn/scikit-learn/issues/21755 */display: inline-block !important;position: relative;}#sk-container-id-18 div.sk-text-repr-fallback {display: none;}</style><div id=\"sk-container-id-18\" class=\"sk-top-container\"><div class=\"sk-text-repr-fallback\"><pre>RandomizedSearchCV(cv=5, estimator=SGDClassifier(random_state=42), n_iter=10000,\n",
       "                   param_distributions=[{&#x27;alpha&#x27;: [0.0001, 0.001, 0.01, 0.1,\n",
       "                                                   1.0, 10.0, 100.0, 1000.0],\n",
       "                                         &#x27;l1_ratio&#x27;: [0.1, 0.15, 0.2, 0.3, 0.4,\n",
       "                                                      0.5, 0.6, 0.7, 0.8, 0.9],\n",
       "                                         &#x27;loss&#x27;: [&#x27;hinge&#x27;, &#x27;log&#x27;],\n",
       "                                         &#x27;n_jobs&#x27;: [-1],\n",
       "                                         &#x27;penalty&#x27;: [&#x27;l1&#x27;, &#x27;elasticnet&#x27;,\n",
       "                                                     &#x27;l2&#x27;]}],\n",
       "                   return_train_score=True, scoring=&#x27;f1&#x27;)</pre><b>In a Jupyter environment, please rerun this cell to show the HTML representation or trust the notebook. <br />On GitHub, the HTML representation is unable to render, please try loading this page with nbviewer.org.</b></div><div class=\"sk-container\" hidden><div class=\"sk-item sk-dashed-wrapped\"><div class=\"sk-label-container\"><div class=\"sk-label sk-toggleable\"><input class=\"sk-toggleable__control sk-hidden--visually\" id=\"sk-estimator-id-38\" type=\"checkbox\" ><label for=\"sk-estimator-id-38\" class=\"sk-toggleable__label sk-toggleable__label-arrow\">RandomizedSearchCV</label><div class=\"sk-toggleable__content\"><pre>RandomizedSearchCV(cv=5, estimator=SGDClassifier(random_state=42), n_iter=10000,\n",
       "                   param_distributions=[{&#x27;alpha&#x27;: [0.0001, 0.001, 0.01, 0.1,\n",
       "                                                   1.0, 10.0, 100.0, 1000.0],\n",
       "                                         &#x27;l1_ratio&#x27;: [0.1, 0.15, 0.2, 0.3, 0.4,\n",
       "                                                      0.5, 0.6, 0.7, 0.8, 0.9],\n",
       "                                         &#x27;loss&#x27;: [&#x27;hinge&#x27;, &#x27;log&#x27;],\n",
       "                                         &#x27;n_jobs&#x27;: [-1],\n",
       "                                         &#x27;penalty&#x27;: [&#x27;l1&#x27;, &#x27;elasticnet&#x27;,\n",
       "                                                     &#x27;l2&#x27;]}],\n",
       "                   return_train_score=True, scoring=&#x27;f1&#x27;)</pre></div></div></div><div class=\"sk-parallel\"><div class=\"sk-parallel-item\"><div class=\"sk-item\"><div class=\"sk-label-container\"><div class=\"sk-label sk-toggleable\"><input class=\"sk-toggleable__control sk-hidden--visually\" id=\"sk-estimator-id-39\" type=\"checkbox\" ><label for=\"sk-estimator-id-39\" class=\"sk-toggleable__label sk-toggleable__label-arrow\">estimator: SGDClassifier</label><div class=\"sk-toggleable__content\"><pre>SGDClassifier(random_state=42)</pre></div></div></div><div class=\"sk-serial\"><div class=\"sk-item\"><div class=\"sk-estimator sk-toggleable\"><input class=\"sk-toggleable__control sk-hidden--visually\" id=\"sk-estimator-id-40\" type=\"checkbox\" ><label for=\"sk-estimator-id-40\" class=\"sk-toggleable__label sk-toggleable__label-arrow\">SGDClassifier</label><div class=\"sk-toggleable__content\"><pre>SGDClassifier(random_state=42)</pre></div></div></div></div></div></div></div></div></div></div>"
      ],
      "text/plain": [
       "RandomizedSearchCV(cv=5, estimator=SGDClassifier(random_state=42), n_iter=10000,\n",
       "                   param_distributions=[{'alpha': [0.0001, 0.001, 0.01, 0.1,\n",
       "                                                   1.0, 10.0, 100.0, 1000.0],\n",
       "                                         'l1_ratio': [0.1, 0.15, 0.2, 0.3, 0.4,\n",
       "                                                      0.5, 0.6, 0.7, 0.8, 0.9],\n",
       "                                         'loss': ['hinge', 'log'],\n",
       "                                         'n_jobs': [-1],\n",
       "                                         'penalty': ['l1', 'elasticnet',\n",
       "                                                     'l2']}],\n",
       "                   return_train_score=True, scoring='f1')"
      ]
     },
     "execution_count": 88,
     "metadata": {},
     "output_type": "execute_result"
    }
   ],
   "source": [
    "rand_search.fit(X_scld, y)"
   ]
  },
  {
   "cell_type": "code",
   "execution_count": 89,
   "id": "8e346603-1b38-426f-97e1-93ff2662a129",
   "metadata": {},
   "outputs": [
    {
     "data": {
      "text/plain": [
       "{'penalty': 'l1',\n",
       " 'n_jobs': -1,\n",
       " 'loss': 'hinge',\n",
       " 'l1_ratio': 0.1,\n",
       " 'alpha': 0.001}"
      ]
     },
     "execution_count": 89,
     "metadata": {},
     "output_type": "execute_result"
    }
   ],
   "source": [
    "rand_search.best_params_"
   ]
  },
  {
   "cell_type": "code",
   "execution_count": 86,
   "id": "310c2ef5-2c1d-42b9-95a6-d9a39852fefb",
   "metadata": {},
   "outputs": [],
   "source": [
    "rs_bst_sgd_clf = rand_search.best_estimator_"
   ]
  },
  {
   "cell_type": "code",
   "execution_count": null,
   "id": "8d3d01b7-da57-4b88-b6ec-918f886b0d34",
   "metadata": {},
   "outputs": [],
   "source": []
  },
  {
   "cell_type": "markdown",
   "id": "41f67eab-3f70-4a60-bc08-22c61aadecb7",
   "metadata": {},
   "source": [
    "## Save Model to Modeling Environment"
   ]
  },
  {
   "cell_type": "code",
   "execution_count": 78,
   "id": "dd1409a0-9dbb-47ac-863a-9887b14c104e",
   "metadata": {},
   "outputs": [
    {
     "data": {
      "text/plain": [
       "['C:\\\\Users\\\\kehinde.salau\\\\Cardinal Health\\\\Enterprise Data Remediation - Documents\\\\General\\\\01_Projects\\\\23_Kinaxis\\\\Data\\\\Output\\\\ML\\\\L400_mdl_2022-08-01.pkl']"
      ]
     },
     "execution_count": 78,
     "metadata": {},
     "output_type": "execute_result"
    }
   ],
   "source": [
    "joblib.dump(rs_bst_sgd_clf, oput_dir + mdl_oput_file_name)"
   ]
  },
  {
   "cell_type": "code",
   "execution_count": null,
   "id": "e7547616-fcc2-4f7a-a71c-ac65ab6431d1",
   "metadata": {},
   "outputs": [],
   "source": []
  }
 ],
 "metadata": {
  "kernelspec": {
   "display_name": "Python 3 (ipykernel)",
   "language": "python",
   "name": "python3"
  },
  "language_info": {
   "codemirror_mode": {
    "name": "ipython",
    "version": 3
   },
   "file_extension": ".py",
   "mimetype": "text/x-python",
   "name": "python",
   "nbconvert_exporter": "python",
   "pygments_lexer": "ipython3",
   "version": "3.9.12"
  }
 },
 "nbformat": 4,
 "nbformat_minor": 5
}
