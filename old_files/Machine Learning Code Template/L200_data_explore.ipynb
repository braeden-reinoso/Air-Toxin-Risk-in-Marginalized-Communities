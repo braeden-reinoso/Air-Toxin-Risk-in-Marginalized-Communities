{
 "cells": [
  {
   "cell_type": "markdown",
   "id": "34362f1e-9edb-4112-8e86-321375d7b11f",
   "metadata": {},
   "source": [
    "# Product Matching\n",
    "## Level 2: Data Exploration Script\n",
    "\n",
    "### Notes:\n",
    "1. Summarize the training data\n",
    "2. Visualize the training data\n",
    "3. Insights here will drive feature creation in the next level script\n",
    "\n",
    "### References: "
   ]
  },
  {
   "cell_type": "markdown",
   "id": "4db66450-5b6f-4963-a256-8e2436308e2b",
   "metadata": {},
   "source": [
    "## Notebook Config"
   ]
  },
  {
   "cell_type": "code",
   "execution_count": 1,
   "id": "2f25228d-e99a-4d17-94e6-302aba8dad40",
   "metadata": {},
   "outputs": [],
   "source": [
    "# Display settings\n",
    "## Auto reload modules & inline plots\n",
    "%reload_ext autoreload\n",
    "%autoreload 2\n",
    "%matplotlib inline"
   ]
  },
  {
   "cell_type": "markdown",
   "id": "091e4aef-3865-4196-8a48-46d9983793e1",
   "metadata": {},
   "source": [
    "## Package Import & Initialization"
   ]
  },
  {
   "cell_type": "code",
   "execution_count": 2,
   "id": "7b5cd786-57af-477a-aa22-d16f1cc437cc",
   "metadata": {},
   "outputs": [],
   "source": [
    "# Import packages\n",
    "\n",
    "import pandas as pd                  #For data manipulation and bgq --> pandas conversion\n",
    "import numpy as np                   #For scientific computation\n",
    "import os                            #For work with native operating system and directories\n",
    "from pathlib import Path             #For working with file paths and directories\n",
    "import warnings                      #To tweak warning options\n",
    "import matplotlib.pyplot as plt      #Standard plotting package\n",
    "import seaborn as sns                #For even cooler plotting options"
   ]
  },
  {
   "cell_type": "code",
   "execution_count": 3,
   "id": "995837ff-7930-434d-891f-d0b644b2289c",
   "metadata": {},
   "outputs": [],
   "source": [
    "pd.set_option('display.max_columns', None)\n",
    "pd.options.display.float_format = '{:.4f}'.format\n",
    "warnings.filterwarnings('ignore')"
   ]
  },
  {
   "cell_type": "markdown",
   "id": "80fcdb90-4e8c-4f3f-a732-5db4209250b8",
   "metadata": {},
   "source": [
    "## Function Library"
   ]
  },
  {
   "cell_type": "code",
   "execution_count": null,
   "id": "62065b79-b098-4c71-a8e6-e25e770a1774",
   "metadata": {},
   "outputs": [],
   "source": []
  },
  {
   "cell_type": "markdown",
   "id": "06c5cfcc-4f99-4aa2-ad1c-d438598976f7",
   "metadata": {},
   "source": [
    "## Custom Tranformers"
   ]
  },
  {
   "cell_type": "code",
   "execution_count": null,
   "id": "0f31bc38-b657-42e0-aa38-06912ce4dcab",
   "metadata": {},
   "outputs": [],
   "source": []
  },
  {
   "cell_type": "markdown",
   "id": "1de3d41e-879e-42d1-8b43-b841a5a1b61e",
   "metadata": {},
   "source": [
    "## Set Directories"
   ]
  },
  {
   "cell_type": "code",
   "execution_count": 4,
   "id": "ab7ac4fc-d074-4f36-9839-2b95423a8a31",
   "metadata": {},
   "outputs": [],
   "source": [
    "#cwd = os.getcwd()\n",
    "#os.chdir(cwd)\n",
    "home = str(Path.home())\n",
    "proj_path = os.path.join(home, 'Cardinal Health', 'Enterprise Data Remediation - Documents', 'General', '01_Projects', \n",
    "                         '23_Kinaxis')"
   ]
  },
  {
   "cell_type": "code",
   "execution_count": 5,
   "id": "f4636143-c483-492d-b55d-4e25a178c959",
   "metadata": {},
   "outputs": [],
   "source": [
    "main_dir = proj_path + '\\\\'\n",
    "iput_dir = main_dir + 'Data\\\\Output\\\\ML\\\\'"
   ]
  },
  {
   "cell_type": "markdown",
   "id": "d2c799f9-7345-4e54-9595-61c9e05b59a3",
   "metadata": {},
   "source": [
    "## Set Output File Names"
   ]
  },
  {
   "cell_type": "code",
   "execution_count": null,
   "id": "01a0b5ab-35f9-4f5d-91e0-0a4ba114bdd1",
   "metadata": {},
   "outputs": [],
   "source": []
  },
  {
   "cell_type": "markdown",
   "id": "e03b6934-b937-44a5-9d41-057a7732a7df",
   "metadata": {},
   "source": [
    "## Load Data"
   ]
  },
  {
   "cell_type": "code",
   "execution_count": 6,
   "id": "0a91944b-2bf2-413e-a26e-ffe6d71103ce",
   "metadata": {},
   "outputs": [],
   "source": [
    "raw_df = pd.read_pickle(iput_dir + \"L100_trn_df_2022-07-14.pkl\")"
   ]
  },
  {
   "cell_type": "markdown",
   "id": "3395aff9-ed32-4db5-8a83-d989b8f3bcc9",
   "metadata": {},
   "source": [
    "## High-level Data Inspection"
   ]
  },
  {
   "cell_type": "code",
   "execution_count": 7,
   "id": "0b5cf90a-805e-4118-9fb8-3bccd1cea7c1",
   "metadata": {},
   "outputs": [
    {
     "name": "stdout",
     "output_type": "stream",
     "text": [
      "<class 'pandas.core.frame.DataFrame'>\n",
      "Int64Index: 1626 entries, 0 to 101189\n",
      "Data columns (total 19 columns):\n",
      " #   Column                  Non-Null Count  Dtype  \n",
      "---  ------                  --------------  -----  \n",
      " 0   ITEMNUMBER              1626 non-null   object \n",
      " 1   Number                  1626 non-null   object \n",
      " 2   ITEMDESCRIPTION         1626 non-null   object \n",
      " 3   FullDescription         1626 non-null   object \n",
      " 4   SUPPLIER_ITEM_NUMBER    1626 non-null   object \n",
      " 5   ManufacturerItemNumber  1601 non-null   object \n",
      " 6   SUPPLIERNAME            1626 non-null   object \n",
      " 7   ManufacturerName        1626 non-null   object \n",
      " 8   UNSPCCode               1602 non-null   float64\n",
      " 9   UNSPSC                  1626 non-null   int64  \n",
      " 10  Feat_1                  1626 non-null   int64  \n",
      " 11  Feat_2                  1626 non-null   int64  \n",
      " 12  Feat_3                  1626 non-null   int64  \n",
      " 13  Feat_4                  1626 non-null   int64  \n",
      " 14  Feat_5                  1626 non-null   int64  \n",
      " 15  Match_Confidence        1626 non-null   object \n",
      " 16  Match                   1626 non-null   object \n",
      " 17  Comments                4 non-null      object \n",
      " 18  Unnamed: 17             1 non-null      object \n",
      "dtypes: float64(1), int64(6), object(12)\n",
      "memory usage: 254.1+ KB\n"
     ]
    }
   ],
   "source": [
    "raw_df.info()"
   ]
  },
  {
   "cell_type": "code",
   "execution_count": 8,
   "id": "958a2eb4-46b8-40fe-a135-538c228edf39",
   "metadata": {},
   "outputs": [
    {
     "data": {
      "text/html": [
       "<div>\n",
       "<style scoped>\n",
       "    .dataframe tbody tr th:only-of-type {\n",
       "        vertical-align: middle;\n",
       "    }\n",
       "\n",
       "    .dataframe tbody tr th {\n",
       "        vertical-align: top;\n",
       "    }\n",
       "\n",
       "    .dataframe thead th {\n",
       "        text-align: right;\n",
       "    }\n",
       "</style>\n",
       "<table border=\"1\" class=\"dataframe\">\n",
       "  <thead>\n",
       "    <tr style=\"text-align: right;\">\n",
       "      <th></th>\n",
       "      <th>ITEMNUMBER</th>\n",
       "      <th>Number</th>\n",
       "      <th>ITEMDESCRIPTION</th>\n",
       "      <th>FullDescription</th>\n",
       "      <th>SUPPLIER_ITEM_NUMBER</th>\n",
       "      <th>ManufacturerItemNumber</th>\n",
       "      <th>SUPPLIERNAME</th>\n",
       "      <th>ManufacturerName</th>\n",
       "      <th>UNSPCCode</th>\n",
       "      <th>UNSPSC</th>\n",
       "      <th>Feat_1</th>\n",
       "      <th>Feat_2</th>\n",
       "      <th>Feat_3</th>\n",
       "      <th>Feat_4</th>\n",
       "      <th>Feat_5</th>\n",
       "      <th>Match_Confidence</th>\n",
       "      <th>Match</th>\n",
       "      <th>Comments</th>\n",
       "      <th>Unnamed: 17</th>\n",
       "    </tr>\n",
       "  </thead>\n",
       "  <tbody>\n",
       "    <tr>\n",
       "      <th>0</th>\n",
       "      <td>XB415122</td>\n",
       "      <td>415122</td>\n",
       "      <td>CARESITE Luer Access Device</td>\n",
       "      <td>DEVICE ACCESS LUER CARESITE STERILE 100/BX, 2B...</td>\n",
       "      <td>415122</td>\n",
       "      <td>415122</td>\n",
       "      <td>B BRAUN MEDICAL</td>\n",
       "      <td>B BRAUN MEDICAL INC</td>\n",
       "      <td>42221602.0000</td>\n",
       "      <td>42222202</td>\n",
       "      <td>1</td>\n",
       "      <td>100</td>\n",
       "      <td>100</td>\n",
       "      <td>0</td>\n",
       "      <td>0</td>\n",
       "      <td>01 High</td>\n",
       "      <td>Yes</td>\n",
       "      <td>NaN</td>\n",
       "      <td>NaN</td>\n",
       "    </tr>\n",
       "    <tr>\n",
       "      <th>1</th>\n",
       "      <td>XB415122</td>\n",
       "      <td>415110</td>\n",
       "      <td>CARESITE Luer Access Device</td>\n",
       "      <td>IV CONNECTOR ULTRASITE LL 100EA/CS</td>\n",
       "      <td>415122</td>\n",
       "      <td>NaN</td>\n",
       "      <td>B BRAUN MEDICAL</td>\n",
       "      <td>B BRAUN MEDICAL INC</td>\n",
       "      <td>42221602.0000</td>\n",
       "      <td>42221604</td>\n",
       "      <td>0</td>\n",
       "      <td>100</td>\n",
       "      <td>39</td>\n",
       "      <td>0</td>\n",
       "      <td>0</td>\n",
       "      <td>03 Low</td>\n",
       "      <td>No</td>\n",
       "      <td>NaN</td>\n",
       "      <td>NaN</td>\n",
       "    </tr>\n",
       "    <tr>\n",
       "      <th>2</th>\n",
       "      <td>XB415122</td>\n",
       "      <td>B2000B</td>\n",
       "      <td>CARESITE Luer Access Device</td>\n",
       "      <td>CAP REPLACEMENT BLUE LUER TAB 100/BX 10BX/CS</td>\n",
       "      <td>415122</td>\n",
       "      <td>NaN</td>\n",
       "      <td>B BRAUN MEDICAL</td>\n",
       "      <td>B BRAUN MEDICAL INC</td>\n",
       "      <td>42221602.0000</td>\n",
       "      <td>42221604</td>\n",
       "      <td>0</td>\n",
       "      <td>100</td>\n",
       "      <td>39</td>\n",
       "      <td>0</td>\n",
       "      <td>0</td>\n",
       "      <td>03 Low</td>\n",
       "      <td>No</td>\n",
       "      <td>NaN</td>\n",
       "      <td>NaN</td>\n",
       "    </tr>\n",
       "    <tr>\n",
       "      <th>3</th>\n",
       "      <td>DX4521</td>\n",
       "      <td>4521</td>\n",
       "      <td>Suture Removal Kit with Littauer Scissors and ...</td>\n",
       "      <td>SUTURE REMOVAL KIT 50/CS</td>\n",
       "      <td>4521</td>\n",
       "      <td>4521</td>\n",
       "      <td>DYNAREX</td>\n",
       "      <td>DYNAREX CORPORATION</td>\n",
       "      <td>42312207.0000</td>\n",
       "      <td>42312207</td>\n",
       "      <td>1</td>\n",
       "      <td>100</td>\n",
       "      <td>86</td>\n",
       "      <td>0</td>\n",
       "      <td>1</td>\n",
       "      <td>01 High</td>\n",
       "      <td>Yes</td>\n",
       "      <td>NaN</td>\n",
       "      <td>NaN</td>\n",
       "    </tr>\n",
       "    <tr>\n",
       "      <th>4</th>\n",
       "      <td>DX4521</td>\n",
       "      <td>4515</td>\n",
       "      <td>Suture Removal Kit with Littauer Scissors and ...</td>\n",
       "      <td>COLD PACK PERINEAL INSTANT W/SELF ADHESIVE STR...</td>\n",
       "      <td>4521</td>\n",
       "      <td>4515</td>\n",
       "      <td>DYNAREX</td>\n",
       "      <td>DYNAREX CORPORATION</td>\n",
       "      <td>42312207.0000</td>\n",
       "      <td>42142108</td>\n",
       "      <td>0</td>\n",
       "      <td>100</td>\n",
       "      <td>44</td>\n",
       "      <td>0</td>\n",
       "      <td>0</td>\n",
       "      <td>03 Low</td>\n",
       "      <td>No</td>\n",
       "      <td>NaN</td>\n",
       "      <td>NaN</td>\n",
       "    </tr>\n",
       "  </tbody>\n",
       "</table>\n",
       "</div>"
      ],
      "text/plain": [
       "  ITEMNUMBER  Number                                    ITEMDESCRIPTION  \\\n",
       "0   XB415122  415122                        CARESITE Luer Access Device   \n",
       "1   XB415122  415110                        CARESITE Luer Access Device   \n",
       "2   XB415122  B2000B                        CARESITE Luer Access Device   \n",
       "3     DX4521    4521  Suture Removal Kit with Littauer Scissors and ...   \n",
       "4     DX4521    4515  Suture Removal Kit with Littauer Scissors and ...   \n",
       "\n",
       "                                     FullDescription SUPPLIER_ITEM_NUMBER  \\\n",
       "0  DEVICE ACCESS LUER CARESITE STERILE 100/BX, 2B...               415122   \n",
       "1                 IV CONNECTOR ULTRASITE LL 100EA/CS               415122   \n",
       "2       CAP REPLACEMENT BLUE LUER TAB 100/BX 10BX/CS               415122   \n",
       "3                           SUTURE REMOVAL KIT 50/CS                 4521   \n",
       "4  COLD PACK PERINEAL INSTANT W/SELF ADHESIVE STR...                 4521   \n",
       "\n",
       "  ManufacturerItemNumber     SUPPLIERNAME     ManufacturerName     UNSPCCode  \\\n",
       "0                 415122  B BRAUN MEDICAL  B BRAUN MEDICAL INC 42221602.0000   \n",
       "1                    NaN  B BRAUN MEDICAL  B BRAUN MEDICAL INC 42221602.0000   \n",
       "2                    NaN  B BRAUN MEDICAL  B BRAUN MEDICAL INC 42221602.0000   \n",
       "3                   4521          DYNAREX  DYNAREX CORPORATION 42312207.0000   \n",
       "4                   4515          DYNAREX  DYNAREX CORPORATION 42312207.0000   \n",
       "\n",
       "     UNSPSC  Feat_1  Feat_2  Feat_3  Feat_4  Feat_5 Match_Confidence Match  \\\n",
       "0  42222202       1     100     100       0       0          01 High   Yes   \n",
       "1  42221604       0     100      39       0       0           03 Low    No   \n",
       "2  42221604       0     100      39       0       0           03 Low    No   \n",
       "3  42312207       1     100      86       0       1          01 High   Yes   \n",
       "4  42142108       0     100      44       0       0           03 Low    No   \n",
       "\n",
       "  Comments Unnamed: 17  \n",
       "0      NaN         NaN  \n",
       "1      NaN         NaN  \n",
       "2      NaN         NaN  \n",
       "3      NaN         NaN  \n",
       "4      NaN         NaN  "
      ]
     },
     "execution_count": 8,
     "metadata": {},
     "output_type": "execute_result"
    }
   ],
   "source": [
    "raw_df.head()"
   ]
  },
  {
   "cell_type": "markdown",
   "id": "a776632e-348c-44fc-8971-e9e498fadf43",
   "metadata": {},
   "source": [
    "## Descriptive metrics"
   ]
  },
  {
   "cell_type": "code",
   "execution_count": 9,
   "id": "d36e5f74-0d38-4b96-99d1-99165c2c794b",
   "metadata": {},
   "outputs": [
    {
     "data": {
      "text/html": [
       "<div>\n",
       "<style scoped>\n",
       "    .dataframe tbody tr th:only-of-type {\n",
       "        vertical-align: middle;\n",
       "    }\n",
       "\n",
       "    .dataframe tbody tr th {\n",
       "        vertical-align: top;\n",
       "    }\n",
       "\n",
       "    .dataframe thead th {\n",
       "        text-align: right;\n",
       "    }\n",
       "</style>\n",
       "<table border=\"1\" class=\"dataframe\">\n",
       "  <thead>\n",
       "    <tr style=\"text-align: right;\">\n",
       "      <th></th>\n",
       "      <th>UNSPCCode</th>\n",
       "      <th>UNSPSC</th>\n",
       "      <th>Feat_1</th>\n",
       "      <th>Feat_2</th>\n",
       "      <th>Feat_3</th>\n",
       "      <th>Feat_4</th>\n",
       "      <th>Feat_5</th>\n",
       "    </tr>\n",
       "  </thead>\n",
       "  <tbody>\n",
       "    <tr>\n",
       "      <th>count</th>\n",
       "      <td>1602.0000</td>\n",
       "      <td>1626.0000</td>\n",
       "      <td>1626.0000</td>\n",
       "      <td>1626.0000</td>\n",
       "      <td>1626.0000</td>\n",
       "      <td>1626.0000</td>\n",
       "      <td>1626.0000</td>\n",
       "    </tr>\n",
       "    <tr>\n",
       "      <th>mean</th>\n",
       "      <td>42311346.1660</td>\n",
       "      <td>42553918.6544</td>\n",
       "      <td>0.2392</td>\n",
       "      <td>98.9041</td>\n",
       "      <td>65.3395</td>\n",
       "      <td>0.0000</td>\n",
       "      <td>0.6242</td>\n",
       "    </tr>\n",
       "    <tr>\n",
       "      <th>std</th>\n",
       "      <td>4607886.7725</td>\n",
       "      <td>4561705.3087</td>\n",
       "      <td>0.4267</td>\n",
       "      <td>5.7578</td>\n",
       "      <td>13.2046</td>\n",
       "      <td>0.0000</td>\n",
       "      <td>0.4845</td>\n",
       "    </tr>\n",
       "    <tr>\n",
       "      <th>min</th>\n",
       "      <td>14111703.0000</td>\n",
       "      <td>13111210.0000</td>\n",
       "      <td>0.0000</td>\n",
       "      <td>27.0000</td>\n",
       "      <td>21.0000</td>\n",
       "      <td>0.0000</td>\n",
       "      <td>0.0000</td>\n",
       "    </tr>\n",
       "    <tr>\n",
       "      <th>25%</th>\n",
       "      <td>42132205.0000</td>\n",
       "      <td>42132203.0000</td>\n",
       "      <td>0.0000</td>\n",
       "      <td>100.0000</td>\n",
       "      <td>55.0000</td>\n",
       "      <td>0.0000</td>\n",
       "      <td>0.0000</td>\n",
       "    </tr>\n",
       "    <tr>\n",
       "      <th>50%</th>\n",
       "      <td>42142529.0000</td>\n",
       "      <td>42142531.0000</td>\n",
       "      <td>0.0000</td>\n",
       "      <td>100.0000</td>\n",
       "      <td>66.0000</td>\n",
       "      <td>0.0000</td>\n",
       "      <td>1.0000</td>\n",
       "    </tr>\n",
       "    <tr>\n",
       "      <th>75%</th>\n",
       "      <td>42182702.0000</td>\n",
       "      <td>42221512.0000</td>\n",
       "      <td>0.0000</td>\n",
       "      <td>100.0000</td>\n",
       "      <td>74.0000</td>\n",
       "      <td>0.0000</td>\n",
       "      <td>1.0000</td>\n",
       "    </tr>\n",
       "    <tr>\n",
       "      <th>max</th>\n",
       "      <td>98999941.0000</td>\n",
       "      <td>99999999.0000</td>\n",
       "      <td>1.0000</td>\n",
       "      <td>100.0000</td>\n",
       "      <td>100.0000</td>\n",
       "      <td>0.0000</td>\n",
       "      <td>1.0000</td>\n",
       "    </tr>\n",
       "  </tbody>\n",
       "</table>\n",
       "</div>"
      ],
      "text/plain": [
       "          UNSPCCode        UNSPSC    Feat_1    Feat_2    Feat_3    Feat_4  \\\n",
       "count     1602.0000     1626.0000 1626.0000 1626.0000 1626.0000 1626.0000   \n",
       "mean  42311346.1660 42553918.6544    0.2392   98.9041   65.3395    0.0000   \n",
       "std    4607886.7725  4561705.3087    0.4267    5.7578   13.2046    0.0000   \n",
       "min   14111703.0000 13111210.0000    0.0000   27.0000   21.0000    0.0000   \n",
       "25%   42132205.0000 42132203.0000    0.0000  100.0000   55.0000    0.0000   \n",
       "50%   42142529.0000 42142531.0000    0.0000  100.0000   66.0000    0.0000   \n",
       "75%   42182702.0000 42221512.0000    0.0000  100.0000   74.0000    0.0000   \n",
       "max   98999941.0000 99999999.0000    1.0000  100.0000  100.0000    0.0000   \n",
       "\n",
       "         Feat_5  \n",
       "count 1626.0000  \n",
       "mean     0.6242  \n",
       "std      0.4845  \n",
       "min      0.0000  \n",
       "25%      0.0000  \n",
       "50%      1.0000  \n",
       "75%      1.0000  \n",
       "max      1.0000  "
      ]
     },
     "execution_count": 9,
     "metadata": {},
     "output_type": "execute_result"
    }
   ],
   "source": [
    "raw_df.describe()"
   ]
  },
  {
   "cell_type": "code",
   "execution_count": 10,
   "id": "b089fcfb-ae6e-4080-a681-4adfada7528e",
   "metadata": {},
   "outputs": [
    {
     "data": {
      "text/html": [
       "<div>\n",
       "<style scoped>\n",
       "    .dataframe tbody tr th:only-of-type {\n",
       "        vertical-align: middle;\n",
       "    }\n",
       "\n",
       "    .dataframe tbody tr th {\n",
       "        vertical-align: top;\n",
       "    }\n",
       "\n",
       "    .dataframe thead th {\n",
       "        text-align: right;\n",
       "    }\n",
       "</style>\n",
       "<table border=\"1\" class=\"dataframe\">\n",
       "  <thead>\n",
       "    <tr style=\"text-align: right;\">\n",
       "      <th></th>\n",
       "      <th>ITEMNUMBER</th>\n",
       "      <th>Number</th>\n",
       "      <th>ITEMDESCRIPTION</th>\n",
       "      <th>FullDescription</th>\n",
       "      <th>SUPPLIER_ITEM_NUMBER</th>\n",
       "      <th>ManufacturerItemNumber</th>\n",
       "      <th>SUPPLIERNAME</th>\n",
       "      <th>ManufacturerName</th>\n",
       "      <th>Match_Confidence</th>\n",
       "      <th>Match</th>\n",
       "      <th>Comments</th>\n",
       "      <th>Unnamed: 17</th>\n",
       "    </tr>\n",
       "  </thead>\n",
       "  <tbody>\n",
       "    <tr>\n",
       "      <th>count</th>\n",
       "      <td>1626</td>\n",
       "      <td>1626</td>\n",
       "      <td>1626</td>\n",
       "      <td>1626</td>\n",
       "      <td>1626</td>\n",
       "      <td>1601</td>\n",
       "      <td>1626</td>\n",
       "      <td>1626</td>\n",
       "      <td>1626</td>\n",
       "      <td>1626</td>\n",
       "      <td>4</td>\n",
       "      <td>1</td>\n",
       "    </tr>\n",
       "    <tr>\n",
       "      <th>unique</th>\n",
       "      <td>545</td>\n",
       "      <td>614</td>\n",
       "      <td>538</td>\n",
       "      <td>580</td>\n",
       "      <td>543</td>\n",
       "      <td>567</td>\n",
       "      <td>19</td>\n",
       "      <td>24</td>\n",
       "      <td>3</td>\n",
       "      <td>2</td>\n",
       "      <td>4</td>\n",
       "      <td>1</td>\n",
       "    </tr>\n",
       "    <tr>\n",
       "      <th>top</th>\n",
       "      <td>XB415122</td>\n",
       "      <td>2D72PT70X</td>\n",
       "      <td>U-100 Insulin Syringe with Micro-Fine IV Needl...</td>\n",
       "      <td>GLOVE SURGICAL PROTEXIS PI</td>\n",
       "      <td>415122</td>\n",
       "      <td>2D72PT70X</td>\n",
       "      <td>BECTON DICKINSON CONSUMER</td>\n",
       "      <td>CARDINAL HEALTH</td>\n",
       "      <td>03 Low</td>\n",
       "      <td>No</td>\n",
       "      <td>This is likely the same item, but wrong descri...</td>\n",
       "      <td>Same item, different UOM. 60MDS190510H is an ...</td>\n",
       "    </tr>\n",
       "    <tr>\n",
       "      <th>freq</th>\n",
       "      <td>3</td>\n",
       "      <td>73</td>\n",
       "      <td>6</td>\n",
       "      <td>73</td>\n",
       "      <td>3</td>\n",
       "      <td>73</td>\n",
       "      <td>612</td>\n",
       "      <td>716</td>\n",
       "      <td>795</td>\n",
       "      <td>1238</td>\n",
       "      <td>1</td>\n",
       "      <td>1</td>\n",
       "    </tr>\n",
       "  </tbody>\n",
       "</table>\n",
       "</div>"
      ],
      "text/plain": [
       "       ITEMNUMBER     Number  \\\n",
       "count        1626       1626   \n",
       "unique        545        614   \n",
       "top      XB415122  2D72PT70X   \n",
       "freq            3         73   \n",
       "\n",
       "                                          ITEMDESCRIPTION  \\\n",
       "count                                                1626   \n",
       "unique                                                538   \n",
       "top     U-100 Insulin Syringe with Micro-Fine IV Needl...   \n",
       "freq                                                    6   \n",
       "\n",
       "                   FullDescription SUPPLIER_ITEM_NUMBER  \\\n",
       "count                         1626                 1626   \n",
       "unique                         580                  543   \n",
       "top     GLOVE SURGICAL PROTEXIS PI               415122   \n",
       "freq                            73                    3   \n",
       "\n",
       "       ManufacturerItemNumber               SUPPLIERNAME ManufacturerName  \\\n",
       "count                    1601                       1626             1626   \n",
       "unique                    567                         19               24   \n",
       "top                 2D72PT70X  BECTON DICKINSON CONSUMER  CARDINAL HEALTH   \n",
       "freq                       73                        612              716   \n",
       "\n",
       "       Match_Confidence Match  \\\n",
       "count              1626  1626   \n",
       "unique                3     2   \n",
       "top              03 Low    No   \n",
       "freq                795  1238   \n",
       "\n",
       "                                                 Comments  \\\n",
       "count                                                   4   \n",
       "unique                                                  4   \n",
       "top     This is likely the same item, but wrong descri...   \n",
       "freq                                                    1   \n",
       "\n",
       "                                              Unnamed: 17  \n",
       "count                                                   1  \n",
       "unique                                                  1  \n",
       "top      Same item, different UOM. 60MDS190510H is an ...  \n",
       "freq                                                    1  "
      ]
     },
     "execution_count": 10,
     "metadata": {},
     "output_type": "execute_result"
    }
   ],
   "source": [
    "raw_df.describe(include=[np.object])"
   ]
  },
  {
   "cell_type": "code",
   "execution_count": 11,
   "id": "66359152-4fc6-4238-9c92-c49ba5e1e462",
   "metadata": {},
   "outputs": [
    {
     "data": {
      "text/plain": [
       "No     1238\n",
       "Yes     388\n",
       "Name: Match, dtype: int64"
      ]
     },
     "execution_count": 11,
     "metadata": {},
     "output_type": "execute_result"
    }
   ],
   "source": [
    "## Is there strong evidence of class imbalance?\n",
    "raw_df.Match.value_counts()"
   ]
  },
  {
   "cell_type": "code",
   "execution_count": 12,
   "id": "a6d53d2c-13fe-4faf-b317-a68c38175371",
   "metadata": {},
   "outputs": [
    {
     "data": {
      "text/plain": [
       "Feat_1  Match\n",
       "0       No       1234\n",
       "        Yes         3\n",
       "1       No          4\n",
       "        Yes       385\n",
       "dtype: int64"
      ]
     },
     "execution_count": 12,
     "metadata": {},
     "output_type": "execute_result"
    }
   ],
   "source": [
    "## Two-way table: Product match vs. Supplier Item Number Exact Match \n",
    "raw_df.groupby(['Feat_1','Match']).size()"
   ]
  },
  {
   "cell_type": "code",
   "execution_count": 13,
   "id": "4e1b17bd-c39c-479a-9e76-d51e68412df7",
   "metadata": {},
   "outputs": [
    {
     "data": {
      "text/plain": [
       "Feat_4  Match\n",
       "0       No       1238\n",
       "        Yes       388\n",
       "dtype: int64"
      ]
     },
     "execution_count": 13,
     "metadata": {},
     "output_type": "execute_result"
    }
   ],
   "source": [
    "## Two-way table: Product match vs. Item Number Exact Match \n",
    "raw_df.groupby(['Feat_4','Match']).size()"
   ]
  },
  {
   "cell_type": "code",
   "execution_count": 14,
   "id": "d1c5a633-0cfb-47de-baeb-5b8064471b17",
   "metadata": {},
   "outputs": [
    {
     "data": {
      "text/plain": [
       "Feat_5  Match\n",
       "0       No       512\n",
       "        Yes       99\n",
       "1       No       726\n",
       "        Yes      289\n",
       "dtype: int64"
      ]
     },
     "execution_count": 14,
     "metadata": {},
     "output_type": "execute_result"
    }
   ],
   "source": [
    "## Two-way table: Product match vs. UNSPSC Exact Match \n",
    "raw_df.groupby(['Feat_5','Match']).size()"
   ]
  },
  {
   "cell_type": "markdown",
   "id": "578df7cb-b041-49c1-bad6-495a95450092",
   "metadata": {},
   "source": [
    "## Plots"
   ]
  },
  {
   "cell_type": "code",
   "execution_count": 15,
   "id": "e6c8e06f-ffe1-40ca-9b5a-586e5e448051",
   "metadata": {},
   "outputs": [
    {
     "data": {
      "image/png": "[encoded data removed]",
      "text/plain": [
       "<Figure size 720x288 with 1 Axes>"
      ]
     },
     "metadata": {
      "needs_background": "light"
     },
     "output_type": "display_data"
    }
   ],
   "source": [
    "## Product match vs. Supplier name set ratio\n",
    "\n",
    "(\n",
    "    raw_df\n",
    "    .filter(['Feat_2','Match'])\n",
    "    .pipe(\n",
    "        (sns.boxplot, 'data'),\n",
    "        y='Match', \n",
    "        x='Feat_2',\n",
    "        orient='h'\n",
    "    )\n",
    ")\n",
    "\n",
    "plt.gcf().set_size_inches(10,4)"
   ]
  },
  {
   "cell_type": "code",
   "execution_count": 16,
   "id": "fd525587-c615-43e4-8d5f-fedf7a241116",
   "metadata": {},
   "outputs": [
    {
     "data": {
      "image/png": "[encoded data removed]",
      "text/plain": [
       "<Figure size 720x288 with 1 Axes>"
      ]
     },
     "metadata": {
      "needs_background": "light"
     },
     "output_type": "display_data"
    }
   ],
   "source": [
    "## Product match vs. Supplier name set ratio\n",
    "\n",
    "(\n",
    "    raw_df\n",
    "    .filter(['Feat_2','Match'])\n",
    "    .pipe(\n",
    "        (sns.kdeplot, 'data'),\n",
    "        x='Feat_2',\n",
    "        hue='Match',\n",
    "        fill=True,\n",
    "        alpha=0.4,\n",
    "        common_norm=False,\n",
    "    )\n",
    ")\n",
    "\n",
    "plt.gcf().set_size_inches(10,4)"
   ]
  },
  {
   "cell_type": "code",
   "execution_count": 17,
   "id": "ea32301e-f8b2-40bb-acd5-3cf5f12c7d7e",
   "metadata": {},
   "outputs": [
    {
     "data": {
      "image/png": "[encoded data removed]",
      "text/plain": [
       "<Figure size 1080x288 with 2 Axes>"
      ]
     },
     "metadata": {
      "needs_background": "light"
     },
     "output_type": "display_data"
    }
   ],
   "source": [
    "## Product match vs. Supplier name set ratio - Group by supplier item number exact match\n",
    "\n",
    "(\n",
    "    raw_df\n",
    "    .filter(['Feat_1','Feat_2','Match'])\n",
    "    .pipe(\n",
    "        (sns.FacetGrid, 'data'),\n",
    "        col='Feat_1',\n",
    "        hue='Match',\n",
    "    )\n",
    "    .map(sns.kdeplot, 'Feat_2',  fill=True, alpha=0.4, common_norm=False)\n",
    "    .set_axis_labels('Supplier Name Fuzzy Match (Set Ratio)','', fontsize=18)\n",
    "    .set_titles(size=18)\n",
    "    .fig.suptitle('Product Match vs. Supplier Name', fontsize=18)\n",
    ")\n",
    "\n",
    "plt.legend(loc='upper center', bbox_to_anchor=(0.5,-0.35), ncol=5, fontsize=12)\n",
    "# plt.tick_params(labelsize=20)\n",
    "plt.gcf().set_size_inches(15,4)\n",
    "plt.subplots_adjust(top=0.85, hspace=0.2, wspace=0.2)"
   ]
  },
  {
   "cell_type": "code",
   "execution_count": 18,
   "id": "707f2c50-1043-47b9-825c-07b374e36dff",
   "metadata": {},
   "outputs": [
    {
     "data": {
      "image/png": "[encoded data removed]",
      "text/plain": [
       "<Figure size 720x288 with 1 Axes>"
      ]
     },
     "metadata": {
      "needs_background": "light"
     },
     "output_type": "display_data"
    }
   ],
   "source": [
    "## Product match vs. Product description set ratio\n",
    "\n",
    "(\n",
    "    raw_df\n",
    "    .filter(['Feat_3','Match'])\n",
    "    .pipe(\n",
    "        (sns.boxplot, 'data'),\n",
    "        y='Match', \n",
    "        x='Feat_3',\n",
    "        orient='h'\n",
    "    )\n",
    ")\n",
    "\n",
    "plt.gcf().set_size_inches(10,4)"
   ]
  },
  {
   "cell_type": "code",
   "execution_count": 19,
   "id": "62030109-4be0-4543-a7ab-2e57c257dab2",
   "metadata": {},
   "outputs": [
    {
     "data": {
      "image/png": "[encoded data removed]",
      "text/plain": [
       "<Figure size 720x288 with 1 Axes>"
      ]
     },
     "metadata": {
      "needs_background": "light"
     },
     "output_type": "display_data"
    }
   ],
   "source": [
    "## Product match vs. Product description set ratio\n",
    "\n",
    "(\n",
    "    raw_df\n",
    "    .filter(['Feat_3','Match'])\n",
    "    .pipe(\n",
    "        (sns.kdeplot, 'data'),\n",
    "        x='Feat_3',\n",
    "        hue='Match',\n",
    "        fill=True,\n",
    "        alpha=0.4,\n",
    "        common_norm=False,\n",
    "    )\n",
    ")\n",
    "\n",
    "plt.gcf().set_size_inches(10,4)"
   ]
  },
  {
   "cell_type": "code",
   "execution_count": 20,
   "id": "acc69c67-7eb4-43f3-8bbf-6a9dbdce3353",
   "metadata": {},
   "outputs": [
    {
     "data": {
      "image/png": "[encoded data removed]",
      "text/plain": [
       "<Figure size 1080x288 with 2 Axes>"
      ]
     },
     "metadata": {
      "needs_background": "light"
     },
     "output_type": "display_data"
    }
   ],
   "source": [
    "## Product match vs. Product description set ratio - Group by supplier item number exact match\n",
    "\n",
    "(\n",
    "    raw_df\n",
    "    .filter(['Feat_1','Feat_3','Match'])\n",
    "    .pipe(\n",
    "        (sns.FacetGrid, 'data'),\n",
    "        col='Feat_1',\n",
    "        hue='Match',\n",
    "    )\n",
    "    .map(sns.kdeplot, 'Feat_3',  fill=True, alpha=0.4, common_norm=False)\n",
    "    .set_axis_labels('Product Description Fuzzy Match (Set Ratio)','', fontsize=18)\n",
    "    .set_titles(size=18)\n",
    "    .fig.suptitle('Product Match vs. Product Description', fontsize=18)\n",
    ")\n",
    "\n",
    "plt.legend(loc='upper center', bbox_to_anchor=(0.5,-0.35), ncol=5, fontsize=12)\n",
    "# plt.tick_params(labelsize=20)\n",
    "plt.gcf().set_size_inches(15,4)\n",
    "plt.subplots_adjust(top=0.85, hspace=0.2, wspace=0.2)"
   ]
  },
  {
   "cell_type": "code",
   "execution_count": null,
   "id": "a538ac82-6b93-4ceb-973e-31124ce8b2bd",
   "metadata": {},
   "outputs": [],
   "source": []
  },
  {
   "cell_type": "code",
   "execution_count": null,
   "id": "373a6b21-84c1-4314-91c0-92aa10c578b6",
   "metadata": {},
   "outputs": [],
   "source": []
  },
  {
   "cell_type": "code",
   "execution_count": null,
   "id": "62b18320-4d0c-4785-952f-d4c080c110a2",
   "metadata": {},
   "outputs": [],
   "source": []
  },
  {
   "cell_type": "code",
   "execution_count": null,
   "id": "55d90807-f2a0-4664-900a-50db8abd48bc",
   "metadata": {},
   "outputs": [],
   "source": []
  },
  {
   "cell_type": "markdown",
   "id": "ef2b0d16-00ff-4146-90fd-51ff2041eae5",
   "metadata": {},
   "source": [
    "## Appendix"
   ]
  },
  {
   "cell_type": "code",
   "execution_count": null,
   "id": "36c8e57b-81fe-4507-bf20-974770d926d8",
   "metadata": {},
   "outputs": [],
   "source": [
    "(\n",
    "    raw_df\n",
    "    .filter(['Feat_3','Match'])\n",
    "    .hist(by=['Match'],density=True,grid=False,figsize=(20,10))\n",
    ");"
   ]
  },
  {
   "cell_type": "code",
   "execution_count": null,
   "id": "de59e533-4b8d-439b-b5e6-5fea7d096fa5",
   "metadata": {},
   "outputs": [],
   "source": [
    "## Plot sample group_id weights and volume\n",
    "\n",
    "(\n",
    "    df_good_req\n",
    "    .merge(df_grps_huc, how=\"left\", on=\"group_id\")\n",
    "    #.query('group_id in [\"1100542312011_100157_EA\",\"1001742241703_101849_BX\",\"1103042312201_100609_BX\"]') #50-member groups\n",
    "    #.query('group_id in [\"1002542141607_117263_EA\",\"1102942294906_100157_BX\",\"1102942294906_100157_EA\"]') #10-member groups\n",
    "    #.query('group_id in [\"1003942142703_101124_CS\",\"1100542294905_100566_BX\",\"1000742271640_102000_CS\"]') #5-member groups\n",
    "    .query('group_id in [\"1102942294906_100157_BX\"]') #10-member group\n",
    "    #.query('members in [264,997]')\n",
    "    #.query('members == 264')\n",
    "    #.query('members == 997')\n",
    "    .pipe(\n",
    "        (sns.FacetGrid, 'data'),\n",
    "        #row='cut', \n",
    "        col='group_id', \n",
    "        #col_wrap=3,\n",
    "        hue='product',\n",
    "        #hue_order=list('DEFGHIJ'),\n",
    "        sharex=True,\n",
    "        sharey=True,\n",
    "        #height=6,\n",
    "        size=5,\n",
    "        aspect=3,\n",
    "        #legend_out=True\n",
    "    )\n",
    "    .map(sns.scatterplot, 'gross_weight_remediated', 'volume_IN_remediated', alpha=0.8, s=200)\n",
    "    .set_axis_labels('Gross Weight','Volume', fontsize=18)\n",
    "    .set_titles(size=20)\n",
    "    .fig.suptitle('Volume over Gross Weight', fontsize=24)\n",
    "    #.add_legend()\n",
    ")\n",
    "\n",
    "plt.legend(loc='upper center',bbox_to_anchor=(0.5,-0.15), ncol=5, fontsize=12)\n",
    "plt.tick_params(labelsize=20)\n",
    "plt.gcf().set_size_inches(15,8)\n",
    "plt.subplots_adjust(top=0.85, hspace=0.2, wspace=0.2)"
   ]
  }
 ],
 "metadata": {
  "kernelspec": {
   "display_name": "Python 3 (ipykernel)",
   "language": "python",
   "name": "python3"
  },
  "language_info": {
   "codemirror_mode": {
    "name": "ipython",
    "version": 3
   },
   "file_extension": ".py",
   "mimetype": "text/x-python",
   "name": "python",
   "nbconvert_exporter": "python",
   "pygments_lexer": "ipython3",
   "version": "3.9.12"
  }
 },
 "nbformat": 4,
 "nbformat_minor": 5
}
