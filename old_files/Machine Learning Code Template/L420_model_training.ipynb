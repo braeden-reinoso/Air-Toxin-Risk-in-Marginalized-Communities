{
 "cells": [
  {
   "cell_type": "markdown",
   "id": "08c66ad3-31d0-4361-a1b9-ef6aa2889a30",
   "metadata": {},
   "source": [
    "# Product Matching\n",
    "## Level 4: Model Training Script\n",
    "\n",
    "### Notes:\n",
    "1. Train an Ensemble Hard/Soft Voting Classifier model to classify product matches\n",
    "2. Optimize trained model via hyperparameter tuning\n",
    "\n",
    "### References: "
   ]
  },
  {
   "cell_type": "markdown",
   "id": "5c0e7d9b-6cb6-42cc-9352-198ff61039d5",
   "metadata": {},
   "source": [
    "## Notebook Config"
   ]
  },
  {
   "cell_type": "code",
   "execution_count": 1,
   "id": "bcebc7d7-8085-4d36-b166-f3de01b98e03",
   "metadata": {},
   "outputs": [],
   "source": [
    "# Display settings\n",
    "## Auto reload modules & inline plots\n",
    "%reload_ext autoreload\n",
    "%autoreload 2\n",
    "%matplotlib inline"
   ]
  },
  {
   "cell_type": "markdown",
   "id": "53f3408f-c80f-49e6-9c52-0bcb95d6ea51",
   "metadata": {},
   "source": [
    "## Package Import & Initialization"
   ]
  },
  {
   "cell_type": "code",
   "execution_count": 2,
   "id": "729015aa-a9cf-4adf-8616-a1ef4e6f6f83",
   "metadata": {},
   "outputs": [],
   "source": [
    "# Import packages\n",
    "\n",
    "import pandas as pd                  #For data manipulation and bgq --> pandas conversion\n",
    "import numpy as np                   #For scientific computation\n",
    "import os                            #For work with native operating system and directories\n",
    "from pathlib import Path             #For working with file paths and directories\n",
    "import warnings                      #To tweak warning options\n",
    "import datetime as dt                #For date objects and implemetations\n",
    "from sklearn.ensemble import VotingClassifier       #For training based on ensemble methods\n",
    "import joblib                        #For saving objects, more efficient at serializing large numpy arrays than pickle module"
   ]
  },
  {
   "cell_type": "code",
   "execution_count": 3,
   "id": "9ae113a5-13fd-42fc-b717-c66fb40310ac",
   "metadata": {},
   "outputs": [],
   "source": [
    "pd.set_option('display.max_columns', None)\n",
    "pd.options.display.float_format = '{:.4f}'.format\n",
    "warnings.filterwarnings('ignore')"
   ]
  },
  {
   "cell_type": "markdown",
   "id": "448f3c04-b1fd-437d-9d52-4a70859e0a33",
   "metadata": {},
   "source": [
    "## Function Library"
   ]
  },
  {
   "cell_type": "code",
   "execution_count": null,
   "id": "90f174ca-d4ab-429a-85b1-96a36c1f1e21",
   "metadata": {},
   "outputs": [],
   "source": []
  },
  {
   "cell_type": "markdown",
   "id": "79458344-9532-4788-932f-9cb236ea8d1a",
   "metadata": {},
   "source": [
    "## Custom Tranformers"
   ]
  },
  {
   "cell_type": "code",
   "execution_count": null,
   "id": "abb2286d-8d1f-4283-b897-1b2e53437344",
   "metadata": {},
   "outputs": [],
   "source": []
  },
  {
   "cell_type": "markdown",
   "id": "f2a9053f-5965-49bb-9422-1c0a4c62c0d0",
   "metadata": {},
   "source": [
    "## Set Directories"
   ]
  },
  {
   "cell_type": "code",
   "execution_count": 4,
   "id": "171b0f54-afb8-4cea-9344-c225c04f3219",
   "metadata": {},
   "outputs": [],
   "source": [
    "#cwd = os.getcwd()\n",
    "#os.chdir(cwd)\n",
    "home = str(Path.home())\n",
    "proj_path = os.path.join(home, 'Cardinal Health', 'Enterprise Data Remediation - Documents', 'General', '01_Projects', \n",
    "                         '23_Kinaxis')"
   ]
  },
  {
   "cell_type": "code",
   "execution_count": 5,
   "id": "954e1967-d125-4362-85da-0311547de327",
   "metadata": {},
   "outputs": [],
   "source": [
    "main_dir = proj_path + '\\\\'\n",
    "iput_dir = main_dir + 'Data\\\\Output\\\\ML\\\\'\n",
    "oput_dir = main_dir + 'Data\\\\Output\\\\ML\\\\'"
   ]
  },
  {
   "cell_type": "markdown",
   "id": "f4593f82-081c-4f31-8819-3a5777bb3aa5",
   "metadata": {},
   "source": [
    "## Set Output File Names"
   ]
  },
  {
   "cell_type": "code",
   "execution_count": 6,
   "id": "7e4d210b-49d0-4e8b-af21-1e5437197d5e",
   "metadata": {},
   "outputs": [],
   "source": [
    "## Output file name\n",
    "mdl_oput_file_name = \"L420_mdl_\" + str(dt.datetime.today().strftime('%Y-%m-%d')) + '.pkl'"
   ]
  },
  {
   "cell_type": "markdown",
   "id": "20de89a6-97d8-43ee-af21-fb6abdfd2361",
   "metadata": {},
   "source": [
    "## Load Data"
   ]
  },
  {
   "cell_type": "code",
   "execution_count": 7,
   "id": "8f6fc46b-d4c2-40f5-aa56-38755406084f",
   "metadata": {},
   "outputs": [],
   "source": [
    "raw_df = pd.read_pickle(iput_dir + \"L300_feat_df_2022-07-15.pkl\")"
   ]
  },
  {
   "cell_type": "code",
   "execution_count": 8,
   "id": "cd16ce79-f4b1-4e92-a10c-ec121558e497",
   "metadata": {},
   "outputs": [],
   "source": [
    "X = joblib.load(iput_dir + \"L300_prd_df_2022-07-15.pkl\")"
   ]
  },
  {
   "cell_type": "code",
   "execution_count": 9,
   "id": "9f4ac6f0-1999-4fec-ae7b-f098db07d121",
   "metadata": {},
   "outputs": [],
   "source": [
    "y = joblib.load(iput_dir + \"L300_tgt_df_2022-07-15.pkl\")"
   ]
  },
  {
   "cell_type": "markdown",
   "id": "a925ab87-fbf2-4a4c-a306-5df73cd1fbde",
   "metadata": {},
   "source": [
    "## Load Models"
   ]
  },
  {
   "cell_type": "code",
   "execution_count": 10,
   "id": "46e496b3-cff1-4f2f-9b19-d7ef2be712d8",
   "metadata": {},
   "outputs": [],
   "source": [
    "sgd_clf  = joblib.load(iput_dir + \"L400_mdl_2022-08-01.pkl\")\n",
    "tree_clf = joblib.load(iput_dir + \"L401_mdl_2022-08-01.pkl\")\n",
    "rnd_clf  = joblib.load(iput_dir + \"L402_mdl_2022-08-03.pkl\")\n",
    "svm_clf  = joblib.load(iput_dir + \"L403_mdl_2022-08-03.pkl\")\n",
    "ada_clf  = joblib.load(iput_dir + \"L404_mdl_2022-08-03.pkl\")\n",
    "gbt_clf  = joblib.load(iput_dir + \"L405_mdl_2022-08-05.pkl\")\n",
    "xgb_clf  = joblib.load(iput_dir + \"L406_mdl_2022-08-05.pkl\")"
   ]
  },
  {
   "cell_type": "markdown",
   "id": "d2e7f5aa-7cbe-41b7-931f-a9c6e7c5c829",
   "metadata": {},
   "source": [
    "## High-level Data Inspection"
   ]
  },
  {
   "cell_type": "code",
   "execution_count": 11,
   "id": "7cff1566-83c0-4c07-8dbe-b493830fda0f",
   "metadata": {},
   "outputs": [
    {
     "name": "stdout",
     "output_type": "stream",
     "text": [
      "<class 'pandas.core.frame.DataFrame'>\n",
      "RangeIndex: 1668 entries, 0 to 1667\n",
      "Data columns (total 20 columns):\n",
      " #   Column                  Non-Null Count  Dtype  \n",
      "---  ------                  --------------  -----  \n",
      " 0   ITEMNUMBER              1668 non-null   object \n",
      " 1   Number                  1668 non-null   object \n",
      " 2   ITEMDESCRIPTION         1668 non-null   object \n",
      " 3   FullDescription         1668 non-null   object \n",
      " 4   SUPPLIER_ITEM_NUMBER    1668 non-null   object \n",
      " 5   ManufacturerItemNumber  1668 non-null   object \n",
      " 6   SUPPLIERNAME            1668 non-null   object \n",
      " 7   ManufacturerName        1668 non-null   object \n",
      " 8   UNSPCCode               1646 non-null   float64\n",
      " 9   UNSPSC                  1668 non-null   int64  \n",
      " 10  Feat_Exact_SuppItemNum  1668 non-null   int64  \n",
      " 11  Feat_Fuzzy_SuppName     1668 non-null   int64  \n",
      " 12  Feat_Fuzzy_ItemDesc     1668 non-null   int64  \n",
      " 13  Feat_Exact_ItemNum      1668 non-null   int64  \n",
      " 14  Feat_Exact_UNSPSC       1668 non-null   int64  \n",
      " 15  Match_Confidence        1668 non-null   object \n",
      " 16  Match                   1668 non-null   object \n",
      " 17  Comments                4 non-null      object \n",
      " 18  Unnamed: 17             0 non-null      object \n",
      " 19  Feat_Fuzzy_SuppItemNum  1668 non-null   int32  \n",
      "dtypes: float64(1), int32(1), int64(6), object(12)\n",
      "memory usage: 254.2+ KB\n"
     ]
    }
   ],
   "source": [
    "raw_df.info()"
   ]
  },
  {
   "cell_type": "code",
   "execution_count": 12,
   "id": "c4fd036d-be8d-4d3a-8d55-04c2bf19118f",
   "metadata": {},
   "outputs": [
    {
     "data": {
      "text/html": [
       "<div>\n",
       "<style scoped>\n",
       "    .dataframe tbody tr th:only-of-type {\n",
       "        vertical-align: middle;\n",
       "    }\n",
       "\n",
       "    .dataframe tbody tr th {\n",
       "        vertical-align: top;\n",
       "    }\n",
       "\n",
       "    .dataframe thead th {\n",
       "        text-align: right;\n",
       "    }\n",
       "</style>\n",
       "<table border=\"1\" class=\"dataframe\">\n",
       "  <thead>\n",
       "    <tr style=\"text-align: right;\">\n",
       "      <th></th>\n",
       "      <th>ITEMNUMBER</th>\n",
       "      <th>Number</th>\n",
       "      <th>ITEMDESCRIPTION</th>\n",
       "      <th>FullDescription</th>\n",
       "      <th>SUPPLIER_ITEM_NUMBER</th>\n",
       "      <th>ManufacturerItemNumber</th>\n",
       "      <th>SUPPLIERNAME</th>\n",
       "      <th>ManufacturerName</th>\n",
       "      <th>UNSPCCode</th>\n",
       "      <th>UNSPSC</th>\n",
       "      <th>Feat_Exact_SuppItemNum</th>\n",
       "      <th>Feat_Fuzzy_SuppName</th>\n",
       "      <th>Feat_Fuzzy_ItemDesc</th>\n",
       "      <th>Feat_Exact_ItemNum</th>\n",
       "      <th>Feat_Exact_UNSPSC</th>\n",
       "      <th>Match_Confidence</th>\n",
       "      <th>Match</th>\n",
       "      <th>Comments</th>\n",
       "      <th>Unnamed: 17</th>\n",
       "      <th>Feat_Fuzzy_SuppItemNum</th>\n",
       "    </tr>\n",
       "  </thead>\n",
       "  <tbody>\n",
       "    <tr>\n",
       "      <th>0</th>\n",
       "      <td>58305122</td>\n",
       "      <td>305106</td>\n",
       "      <td>Regular Bevel Needle 25Gx5/8\" (100 count)</td>\n",
       "      <td>NEEDLE HYPO REGULAR BEVEL 30GX 0.5IN 100/PK 10...</td>\n",
       "      <td>305122</td>\n",
       "      <td>305106</td>\n",
       "      <td>BECTON DICKINSON CONSUMER</td>\n",
       "      <td>BECTON DICKINSON</td>\n",
       "      <td>42142523.0000</td>\n",
       "      <td>42142523</td>\n",
       "      <td>0</td>\n",
       "      <td>100</td>\n",
       "      <td>77</td>\n",
       "      <td>0</td>\n",
       "      <td>1</td>\n",
       "      <td>02 Med</td>\n",
       "      <td>No</td>\n",
       "      <td>NaN</td>\n",
       "      <td>NaN</td>\n",
       "      <td>0</td>\n",
       "    </tr>\n",
       "    <tr>\n",
       "      <th>1</th>\n",
       "      <td>683208</td>\n",
       "      <td>A5000-1</td>\n",
       "      <td>Lisco Nonsterile Sponge 4\"x4\"</td>\n",
       "      <td>APPLICATOR WOODEN NO TIP 6IN NONSTERILE 1000EA...</td>\n",
       "      <td>3208</td>\n",
       "      <td>A5000-1</td>\n",
       "      <td>CARDINAL HEALTH-PR</td>\n",
       "      <td>CARDINAL HEALTH</td>\n",
       "      <td>42311512.0000</td>\n",
       "      <td>42141502</td>\n",
       "      <td>0</td>\n",
       "      <td>100</td>\n",
       "      <td>53</td>\n",
       "      <td>0</td>\n",
       "      <td>0</td>\n",
       "      <td>03 Low</td>\n",
       "      <td>No</td>\n",
       "      <td>NaN</td>\n",
       "      <td>NaN</td>\n",
       "      <td>0</td>\n",
       "    </tr>\n",
       "    <tr>\n",
       "      <th>2</th>\n",
       "      <td>682733</td>\n",
       "      <td>2733</td>\n",
       "      <td>Curity Nonsterile Gauze Sponge 4\"x4\"</td>\n",
       "      <td>GAUZE SPONGE 4X4IN 16PLY 2000/CS</td>\n",
       "      <td>2733-</td>\n",
       "      <td>2733-</td>\n",
       "      <td>CARDINAL HEALTH-PR</td>\n",
       "      <td>CARDINAL HEALTH</td>\n",
       "      <td>42311512.0000</td>\n",
       "      <td>42311512</td>\n",
       "      <td>1</td>\n",
       "      <td>100</td>\n",
       "      <td>55</td>\n",
       "      <td>0</td>\n",
       "      <td>1</td>\n",
       "      <td>01 High</td>\n",
       "      <td>Yes</td>\n",
       "      <td>NaN</td>\n",
       "      <td>NaN</td>\n",
       "      <td>1</td>\n",
       "    </tr>\n",
       "    <tr>\n",
       "      <th>3</th>\n",
       "      <td>686132</td>\n",
       "      <td>8043</td>\n",
       "      <td>CURITY Sterile Gauze Pad, 3\"x3\", 12 ply</td>\n",
       "      <td>GAUZE SPONGE CURITY 3X3 4PLY LF STER 2EA/PK 25...</td>\n",
       "      <td>6132</td>\n",
       "      <td>8043</td>\n",
       "      <td>CARDINAL HEALTH-PR</td>\n",
       "      <td>CARDINAL HEALTH</td>\n",
       "      <td>42311512.0000</td>\n",
       "      <td>42311512</td>\n",
       "      <td>0</td>\n",
       "      <td>100</td>\n",
       "      <td>57</td>\n",
       "      <td>0</td>\n",
       "      <td>1</td>\n",
       "      <td>03 Low</td>\n",
       "      <td>No</td>\n",
       "      <td>NaN</td>\n",
       "      <td>NaN</td>\n",
       "      <td>0</td>\n",
       "    </tr>\n",
       "    <tr>\n",
       "      <th>4</th>\n",
       "      <td>58309642</td>\n",
       "      <td>309642</td>\n",
       "      <td>Luer-Lok Syringe with Detachable PrecisionGlid...</td>\n",
       "      <td>SYRINGE LUER LOK 10ML 21G 1IN 100/PK 4PK/CS</td>\n",
       "      <td>309642</td>\n",
       "      <td>309642</td>\n",
       "      <td>BECTON DICKINSON CONSUMER</td>\n",
       "      <td>BECTON DICKINSON</td>\n",
       "      <td>42142609.0000</td>\n",
       "      <td>42142609</td>\n",
       "      <td>1</td>\n",
       "      <td>100</td>\n",
       "      <td>63</td>\n",
       "      <td>0</td>\n",
       "      <td>1</td>\n",
       "      <td>01 High</td>\n",
       "      <td>Yes</td>\n",
       "      <td>NaN</td>\n",
       "      <td>NaN</td>\n",
       "      <td>1</td>\n",
       "    </tr>\n",
       "  </tbody>\n",
       "</table>\n",
       "</div>"
      ],
      "text/plain": [
       "  ITEMNUMBER   Number                                    ITEMDESCRIPTION  \\\n",
       "0   58305122   305106          Regular Bevel Needle 25Gx5/8\" (100 count)   \n",
       "1     683208  A5000-1                      Lisco Nonsterile Sponge 4\"x4\"   \n",
       "2     682733     2733               Curity Nonsterile Gauze Sponge 4\"x4\"   \n",
       "3     686132     8043            CURITY Sterile Gauze Pad, 3\"x3\", 12 ply   \n",
       "4   58309642   309642  Luer-Lok Syringe with Detachable PrecisionGlid...   \n",
       "\n",
       "                                     FullDescription SUPPLIER_ITEM_NUMBER  \\\n",
       "0  NEEDLE HYPO REGULAR BEVEL 30GX 0.5IN 100/PK 10...               305122   \n",
       "1  APPLICATOR WOODEN NO TIP 6IN NONSTERILE 1000EA...                 3208   \n",
       "2                   GAUZE SPONGE 4X4IN 16PLY 2000/CS                2733-   \n",
       "3  GAUZE SPONGE CURITY 3X3 4PLY LF STER 2EA/PK 25...                 6132   \n",
       "4        SYRINGE LUER LOK 10ML 21G 1IN 100/PK 4PK/CS               309642   \n",
       "\n",
       "  ManufacturerItemNumber               SUPPLIERNAME  ManufacturerName  \\\n",
       "0                 305106  BECTON DICKINSON CONSUMER  BECTON DICKINSON   \n",
       "1                A5000-1         CARDINAL HEALTH-PR   CARDINAL HEALTH   \n",
       "2                  2733-         CARDINAL HEALTH-PR   CARDINAL HEALTH   \n",
       "3                   8043         CARDINAL HEALTH-PR   CARDINAL HEALTH   \n",
       "4                 309642  BECTON DICKINSON CONSUMER  BECTON DICKINSON   \n",
       "\n",
       "      UNSPCCode    UNSPSC  Feat_Exact_SuppItemNum  Feat_Fuzzy_SuppName  \\\n",
       "0 42142523.0000  42142523                       0                  100   \n",
       "1 42311512.0000  42141502                       0                  100   \n",
       "2 42311512.0000  42311512                       1                  100   \n",
       "3 42311512.0000  42311512                       0                  100   \n",
       "4 42142609.0000  42142609                       1                  100   \n",
       "\n",
       "   Feat_Fuzzy_ItemDesc  Feat_Exact_ItemNum  Feat_Exact_UNSPSC  \\\n",
       "0                   77                   0                  1   \n",
       "1                   53                   0                  0   \n",
       "2                   55                   0                  1   \n",
       "3                   57                   0                  1   \n",
       "4                   63                   0                  1   \n",
       "\n",
       "  Match_Confidence Match Comments Unnamed: 17  Feat_Fuzzy_SuppItemNum  \n",
       "0           02 Med    No      NaN         NaN                       0  \n",
       "1           03 Low    No      NaN         NaN                       0  \n",
       "2          01 High   Yes      NaN         NaN                       1  \n",
       "3           03 Low    No      NaN         NaN                       0  \n",
       "4          01 High   Yes      NaN         NaN                       1  "
      ]
     },
     "execution_count": 12,
     "metadata": {},
     "output_type": "execute_result"
    }
   ],
   "source": [
    "raw_df.head()"
   ]
  },
  {
   "cell_type": "code",
   "execution_count": 13,
   "id": "118e23c7-52e7-49ee-b8e8-548e9fb2c46a",
   "metadata": {},
   "outputs": [
    {
     "data": {
      "text/plain": [
       "(1668, 6)"
      ]
     },
     "execution_count": 13,
     "metadata": {},
     "output_type": "execute_result"
    }
   ],
   "source": [
    "X.shape"
   ]
  },
  {
   "cell_type": "code",
   "execution_count": 14,
   "id": "40e9f0d3-f705-457e-b40a-2c46c4928e25",
   "metadata": {},
   "outputs": [
    {
     "data": {
      "text/plain": [
       "(1668,)"
      ]
     },
     "execution_count": 14,
     "metadata": {},
     "output_type": "execute_result"
    }
   ],
   "source": [
    "y.shape"
   ]
  },
  {
   "cell_type": "markdown",
   "id": "cd77f97b-7052-4073-8a3c-a0794d9ba1cd",
   "metadata": {},
   "source": [
    "## Train Model"
   ]
  },
  {
   "cell_type": "code",
   "execution_count": 15,
   "id": "57dfbf70-6b0f-46d8-ab70-9d5ece6a7d60",
   "metadata": {},
   "outputs": [],
   "source": [
    "estimators = [sgd_clf, tree_clf, rnd_clf, svm_clf, ada_clf, gbt_clf, xgb_clf]\n",
    "estimators_str = ['sgd_clf', 'tree_clf', 'rnd_clf', 'svm_clf', 'ada_clf', 'gbt_clf', 'xgb_clf']\n",
    "estimators_lst = list(zip(estimators_str, estimators))"
   ]
  },
  {
   "cell_type": "code",
   "execution_count": 16,
   "id": "709d0cae-e7dd-40c2-8787-4a101cf766b9",
   "metadata": {},
   "outputs": [],
   "source": [
    "voting_clf = VotingClassifier(\n",
    "    estimators=estimators_lst,\n",
    "    voting='hard')"
   ]
  },
  {
   "cell_type": "code",
   "execution_count": 17,
   "id": "01222ba6-0b5c-4d1e-abac-e66cb45455e2",
   "metadata": {},
   "outputs": [
    {
     "data": {
      "text/html": [
       "<style>#sk-container-id-1 {color: black;background-color: white;}#sk-container-id-1 pre{padding: 0;}#sk-container-id-1 div.sk-toggleable {background-color: white;}#sk-container-id-1 label.sk-toggleable__label {cursor: pointer;display: block;width: 100%;margin-bottom: 0;padding: 0.3em;box-sizing: border-box;text-align: center;}#sk-container-id-1 label.sk-toggleable__label-arrow:before {content: \"▸\";float: left;margin-right: 0.25em;color: #696969;}#sk-container-id-1 label.sk-toggleable__label-arrow:hover:before {color: black;}#sk-container-id-1 div.sk-estimator:hover label.sk-toggleable__label-arrow:before {color: black;}#sk-container-id-1 div.sk-toggleable__content {max-height: 0;max-width: 0;overflow: hidden;text-align: left;background-color: #f0f8ff;}#sk-container-id-1 div.sk-toggleable__content pre {margin: 0.2em;color: black;border-radius: 0.25em;background-color: #f0f8ff;}#sk-container-id-1 input.sk-toggleable__control:checked~div.sk-toggleable__content {max-height: 200px;max-width: 100%;overflow: auto;}#sk-container-id-1 input.sk-toggleable__control:checked~label.sk-toggleable__label-arrow:before {content: \"▾\";}#sk-container-id-1 div.sk-estimator input.sk-toggleable__control:checked~label.sk-toggleable__label {background-color: #d4ebff;}#sk-container-id-1 div.sk-label input.sk-toggleable__control:checked~label.sk-toggleable__label {background-color: #d4ebff;}#sk-container-id-1 input.sk-hidden--visually {border: 0;clip: rect(1px 1px 1px 1px);clip: rect(1px, 1px, 1px, 1px);height: 1px;margin: -1px;overflow: hidden;padding: 0;position: absolute;width: 1px;}#sk-container-id-1 div.sk-estimator {font-family: monospace;background-color: #f0f8ff;border: 1px dotted black;border-radius: 0.25em;box-sizing: border-box;margin-bottom: 0.5em;}#sk-container-id-1 div.sk-estimator:hover {background-color: #d4ebff;}#sk-container-id-1 div.sk-parallel-item::after {content: \"\";width: 100%;border-bottom: 1px solid gray;flex-grow: 1;}#sk-container-id-1 div.sk-label:hover label.sk-toggleable__label {background-color: #d4ebff;}#sk-container-id-1 div.sk-serial::before {content: \"\";position: absolute;border-left: 1px solid gray;box-sizing: border-box;top: 0;bottom: 0;left: 50%;z-index: 0;}#sk-container-id-1 div.sk-serial {display: flex;flex-direction: column;align-items: center;background-color: white;padding-right: 0.2em;padding-left: 0.2em;position: relative;}#sk-container-id-1 div.sk-item {position: relative;z-index: 1;}#sk-container-id-1 div.sk-parallel {display: flex;align-items: stretch;justify-content: center;background-color: white;position: relative;}#sk-container-id-1 div.sk-item::before, #sk-container-id-1 div.sk-parallel-item::before {content: \"\";position: absolute;border-left: 1px solid gray;box-sizing: border-box;top: 0;bottom: 0;left: 50%;z-index: -1;}#sk-container-id-1 div.sk-parallel-item {display: flex;flex-direction: column;z-index: 1;position: relative;background-color: white;}#sk-container-id-1 div.sk-parallel-item:first-child::after {align-self: flex-end;width: 50%;}#sk-container-id-1 div.sk-parallel-item:last-child::after {align-self: flex-start;width: 50%;}#sk-container-id-1 div.sk-parallel-item:only-child::after {width: 0;}#sk-container-id-1 div.sk-dashed-wrapped {border: 1px dashed gray;margin: 0 0.4em 0.5em 0.4em;box-sizing: border-box;padding-bottom: 0.4em;background-color: white;}#sk-container-id-1 div.sk-label label {font-family: monospace;font-weight: bold;display: inline-block;line-height: 1.2em;}#sk-container-id-1 div.sk-label-container {text-align: center;}#sk-container-id-1 div.sk-container {/* jupyter's `normalize.less` sets `[hidden] { display: none; }` but bootstrap.min.css set `[hidden] { display: none !important; }` so we also need the `!important` here to be able to override the default hidden behavior on the sphinx rendered scikit-learn.org. See: https://github.com/scikit-learn/scikit-learn/issues/21755 */display: inline-block !important;position: relative;}#sk-container-id-1 div.sk-text-repr-fallback {display: none;}</style><div id=\"sk-container-id-1\" class=\"sk-top-container\"><div class=\"sk-text-repr-fallback\"><pre>VotingClassifier(estimators=[(&#x27;sgd_clf&#x27;,\n",
       "                              SGDClassifier(alpha=0.001, l1_ratio=0.1,\n",
       "                                            n_jobs=-1, penalty=&#x27;l1&#x27;,\n",
       "                                            random_state=42)),\n",
       "                             (&#x27;tree_clf&#x27;,\n",
       "                              DecisionTreeClassifier(criterion=&#x27;entropy&#x27;,\n",
       "                                                     max_depth=5,\n",
       "                                                     random_state=42)),\n",
       "                             (&#x27;rnd_clf&#x27;,\n",
       "                              RandomForestClassifier(max_depth=3,\n",
       "                                                     n_estimators=500,\n",
       "                                                     n_jobs=-1, oob_score=True,\n",
       "                                                     random_state=42)),\n",
       "                             (&#x27;svm_clf&#x27;,\n",
       "                              SVC(C=0.1, coef0=1, degree=2, g...\n",
       "                                            eval_metric=None, gamma=0,\n",
       "                                            gpu_id=-1, grow_policy=&#x27;depthwise&#x27;,\n",
       "                                            importance_type=None,\n",
       "                                            interaction_constraints=&#x27;&#x27;,\n",
       "                                            learning_rate=0.1, max_bin=256,\n",
       "                                            max_cat_to_onehot=4,\n",
       "                                            max_delta_step=0, max_depth=6,\n",
       "                                            max_leaves=0, min_child_weight=1,\n",
       "                                            missing=nan,\n",
       "                                            monotone_constraints=&#x27;()&#x27;,\n",
       "                                            n_estimators=94, n_jobs=0,\n",
       "                                            num_parallel_tree=1,\n",
       "                                            predictor=&#x27;auto&#x27;, random_state=0,\n",
       "                                            reg_alpha=0, reg_lambda=1, ...))])</pre><b>In a Jupyter environment, please rerun this cell to show the HTML representation or trust the notebook. <br />On GitHub, the HTML representation is unable to render, please try loading this page with nbviewer.org.</b></div><div class=\"sk-container\" hidden><div class=\"sk-item sk-dashed-wrapped\"><div class=\"sk-label-container\"><div class=\"sk-label sk-toggleable\"><input class=\"sk-toggleable__control sk-hidden--visually\" id=\"sk-estimator-id-1\" type=\"checkbox\" ><label for=\"sk-estimator-id-1\" class=\"sk-toggleable__label sk-toggleable__label-arrow\">VotingClassifier</label><div class=\"sk-toggleable__content\"><pre>VotingClassifier(estimators=[(&#x27;sgd_clf&#x27;,\n",
       "                              SGDClassifier(alpha=0.001, l1_ratio=0.1,\n",
       "                                            n_jobs=-1, penalty=&#x27;l1&#x27;,\n",
       "                                            random_state=42)),\n",
       "                             (&#x27;tree_clf&#x27;,\n",
       "                              DecisionTreeClassifier(criterion=&#x27;entropy&#x27;,\n",
       "                                                     max_depth=5,\n",
       "                                                     random_state=42)),\n",
       "                             (&#x27;rnd_clf&#x27;,\n",
       "                              RandomForestClassifier(max_depth=3,\n",
       "                                                     n_estimators=500,\n",
       "                                                     n_jobs=-1, oob_score=True,\n",
       "                                                     random_state=42)),\n",
       "                             (&#x27;svm_clf&#x27;,\n",
       "                              SVC(C=0.1, coef0=1, degree=2, g...\n",
       "                                            eval_metric=None, gamma=0,\n",
       "                                            gpu_id=-1, grow_policy=&#x27;depthwise&#x27;,\n",
       "                                            importance_type=None,\n",
       "                                            interaction_constraints=&#x27;&#x27;,\n",
       "                                            learning_rate=0.1, max_bin=256,\n",
       "                                            max_cat_to_onehot=4,\n",
       "                                            max_delta_step=0, max_depth=6,\n",
       "                                            max_leaves=0, min_child_weight=1,\n",
       "                                            missing=nan,\n",
       "                                            monotone_constraints=&#x27;()&#x27;,\n",
       "                                            n_estimators=94, n_jobs=0,\n",
       "                                            num_parallel_tree=1,\n",
       "                                            predictor=&#x27;auto&#x27;, random_state=0,\n",
       "                                            reg_alpha=0, reg_lambda=1, ...))])</pre></div></div></div><div class=\"sk-parallel\"><div class=\"sk-parallel-item\"><div class=\"sk-item\"><div class=\"sk-label-container\"><div class=\"sk-label sk-toggleable\"><label>sgd_clf</label></div></div><div class=\"sk-serial\"><div class=\"sk-item\"><div class=\"sk-estimator sk-toggleable\"><input class=\"sk-toggleable__control sk-hidden--visually\" id=\"sk-estimator-id-2\" type=\"checkbox\" ><label for=\"sk-estimator-id-2\" class=\"sk-toggleable__label sk-toggleable__label-arrow\">SGDClassifier</label><div class=\"sk-toggleable__content\"><pre>SGDClassifier(alpha=0.001, l1_ratio=0.1, n_jobs=-1, penalty=&#x27;l1&#x27;,\n",
       "              random_state=42)</pre></div></div></div></div></div></div><div class=\"sk-parallel-item\"><div class=\"sk-item\"><div class=\"sk-label-container\"><div class=\"sk-label sk-toggleable\"><label>tree_clf</label></div></div><div class=\"sk-serial\"><div class=\"sk-item\"><div class=\"sk-estimator sk-toggleable\"><input class=\"sk-toggleable__control sk-hidden--visually\" id=\"sk-estimator-id-3\" type=\"checkbox\" ><label for=\"sk-estimator-id-3\" class=\"sk-toggleable__label sk-toggleable__label-arrow\">DecisionTreeClassifier</label><div class=\"sk-toggleable__content\"><pre>DecisionTreeClassifier(criterion=&#x27;entropy&#x27;, max_depth=5, random_state=42)</pre></div></div></div></div></div></div><div class=\"sk-parallel-item\"><div class=\"sk-item\"><div class=\"sk-label-container\"><div class=\"sk-label sk-toggleable\"><label>rnd_clf</label></div></div><div class=\"sk-serial\"><div class=\"sk-item\"><div class=\"sk-estimator sk-toggleable\"><input class=\"sk-toggleable__control sk-hidden--visually\" id=\"sk-estimator-id-4\" type=\"checkbox\" ><label for=\"sk-estimator-id-4\" class=\"sk-toggleable__label sk-toggleable__label-arrow\">RandomForestClassifier</label><div class=\"sk-toggleable__content\"><pre>RandomForestClassifier(max_depth=3, n_estimators=500, n_jobs=-1, oob_score=True,\n",
       "                       random_state=42)</pre></div></div></div></div></div></div><div class=\"sk-parallel-item\"><div class=\"sk-item\"><div class=\"sk-label-container\"><div class=\"sk-label sk-toggleable\"><label>svm_clf</label></div></div><div class=\"sk-serial\"><div class=\"sk-item\"><div class=\"sk-estimator sk-toggleable\"><input class=\"sk-toggleable__control sk-hidden--visually\" id=\"sk-estimator-id-5\" type=\"checkbox\" ><label for=\"sk-estimator-id-5\" class=\"sk-toggleable__label sk-toggleable__label-arrow\">SVC</label><div class=\"sk-toggleable__content\"><pre>SVC(C=0.1, coef0=1, degree=2, gamma=1, kernel=&#x27;poly&#x27;, probability=True)</pre></div></div></div></div></div></div><div class=\"sk-parallel-item\"><div class=\"sk-item\"><div class=\"sk-label-container\"><div class=\"sk-label sk-toggleable\"><label>ada_clf</label></div></div><div class=\"sk-serial\"><div class=\"sk-item sk-dashed-wrapped\"><div class=\"sk-parallel\"><div class=\"sk-parallel-item\"><div class=\"sk-item\"><div class=\"sk-label-container\"><div class=\"sk-label sk-toggleable\"><input class=\"sk-toggleable__control sk-hidden--visually\" id=\"sk-estimator-id-6\" type=\"checkbox\" ><label for=\"sk-estimator-id-6\" class=\"sk-toggleable__label sk-toggleable__label-arrow\">base_estimator: DecisionTreeClassifier</label><div class=\"sk-toggleable__content\"><pre>DecisionTreeClassifier(max_depth=3, random_state=42)</pre></div></div></div><div class=\"sk-serial\"><div class=\"sk-item\"><div class=\"sk-estimator sk-toggleable\"><input class=\"sk-toggleable__control sk-hidden--visually\" id=\"sk-estimator-id-7\" type=\"checkbox\" ><label for=\"sk-estimator-id-7\" class=\"sk-toggleable__label sk-toggleable__label-arrow\">DecisionTreeClassifier</label><div class=\"sk-toggleable__content\"><pre>DecisionTreeClassifier(max_depth=3, random_state=42)</pre></div></div></div></div></div></div></div></div></div></div></div><div class=\"sk-parallel-item\"><div class=\"sk-item\"><div class=\"sk-label-container\"><div class=\"sk-label sk-toggleable\"><label>gbt_clf</label></div></div><div class=\"sk-serial\"><div class=\"sk-item\"><div class=\"sk-estimator sk-toggleable\"><input class=\"sk-toggleable__control sk-hidden--visually\" id=\"sk-estimator-id-8\" type=\"checkbox\" ><label for=\"sk-estimator-id-8\" class=\"sk-toggleable__label sk-toggleable__label-arrow\">GradientBoostingClassifier</label><div class=\"sk-toggleable__content\"><pre>GradientBoostingClassifier(n_estimators=50, random_state=42)</pre></div></div></div></div></div></div><div class=\"sk-parallel-item\"><div class=\"sk-item\"><div class=\"sk-label-container\"><div class=\"sk-label sk-toggleable\"><label>xgb_clf</label></div></div><div class=\"sk-serial\"><div class=\"sk-item\"><div class=\"sk-estimator sk-toggleable\"><input class=\"sk-toggleable__control sk-hidden--visually\" id=\"sk-estimator-id-9\" type=\"checkbox\" ><label for=\"sk-estimator-id-9\" class=\"sk-toggleable__label sk-toggleable__label-arrow\">XGBClassifier</label><div class=\"sk-toggleable__content\"><pre>XGBClassifier(base_score=0.5, booster=&#x27;gbtree&#x27;, callbacks=None,\n",
       "              colsample_bylevel=1, colsample_bynode=1, colsample_bytree=1,\n",
       "              early_stopping_rounds=None, enable_categorical=False,\n",
       "              eval_metric=None, gamma=0, gpu_id=-1, grow_policy=&#x27;depthwise&#x27;,\n",
       "              importance_type=None, interaction_constraints=&#x27;&#x27;,\n",
       "              learning_rate=0.1, max_bin=256, max_cat_to_onehot=4,\n",
       "              max_delta_step=0, max_depth=6, max_leaves=0, min_child_weight=1,\n",
       "              missing=nan, monotone_constraints=&#x27;()&#x27;, n_estimators=94, n_jobs=0,\n",
       "              num_parallel_tree=1, predictor=&#x27;auto&#x27;, random_state=0,\n",
       "              reg_alpha=0, reg_lambda=1, ...)</pre></div></div></div></div></div></div></div></div></div></div>"
      ],
      "text/plain": [
       "VotingClassifier(estimators=[('sgd_clf',\n",
       "                              SGDClassifier(alpha=0.001, l1_ratio=0.1,\n",
       "                                            n_jobs=-1, penalty='l1',\n",
       "                                            random_state=42)),\n",
       "                             ('tree_clf',\n",
       "                              DecisionTreeClassifier(criterion='entropy',\n",
       "                                                     max_depth=5,\n",
       "                                                     random_state=42)),\n",
       "                             ('rnd_clf',\n",
       "                              RandomForestClassifier(max_depth=3,\n",
       "                                                     n_estimators=500,\n",
       "                                                     n_jobs=-1, oob_score=True,\n",
       "                                                     random_state=42)),\n",
       "                             ('svm_clf',\n",
       "                              SVC(C=0.1, coef0=1, degree=2, g...\n",
       "                                            eval_metric=None, gamma=0,\n",
       "                                            gpu_id=-1, grow_policy='depthwise',\n",
       "                                            importance_type=None,\n",
       "                                            interaction_constraints='',\n",
       "                                            learning_rate=0.1, max_bin=256,\n",
       "                                            max_cat_to_onehot=4,\n",
       "                                            max_delta_step=0, max_depth=6,\n",
       "                                            max_leaves=0, min_child_weight=1,\n",
       "                                            missing=nan,\n",
       "                                            monotone_constraints='()',\n",
       "                                            n_estimators=94, n_jobs=0,\n",
       "                                            num_parallel_tree=1,\n",
       "                                            predictor='auto', random_state=0,\n",
       "                                            reg_alpha=0, reg_lambda=1, ...))])"
      ]
     },
     "execution_count": 17,
     "metadata": {},
     "output_type": "execute_result"
    }
   ],
   "source": [
    "voting_clf.fit(X, y)"
   ]
  },
  {
   "cell_type": "code",
   "execution_count": null,
   "id": "26240384-2858-4a1e-aa22-9b269286f9b3",
   "metadata": {},
   "outputs": [],
   "source": []
  },
  {
   "cell_type": "markdown",
   "id": "cd70e7b4-e061-40b7-bcfc-1e7f90937d59",
   "metadata": {},
   "source": [
    "## Visualize Model"
   ]
  },
  {
   "cell_type": "code",
   "execution_count": 18,
   "id": "2de27e85-bb1b-4fb7-ad65-5ef618273dda",
   "metadata": {},
   "outputs": [
    {
     "data": {
      "text/plain": [
       "array([0, 0, 1, 0])"
      ]
     },
     "execution_count": 18,
     "metadata": {},
     "output_type": "execute_result"
    }
   ],
   "source": [
    "## Verify a model was created\n",
    "tree_clf.predict(X[0:4])"
   ]
  },
  {
   "cell_type": "code",
   "execution_count": 19,
   "id": "2b29561d-e0e1-44f5-9def-5baf485153e4",
   "metadata": {},
   "outputs": [
    {
     "data": {
      "text/plain": [
       "array([[1.        , 0.        ],\n",
       "       [1.        , 0.        ],\n",
       "       [0.00664452, 0.99335548],\n",
       "       [1.        , 0.        ]])"
      ]
     },
     "execution_count": 19,
     "metadata": {},
     "output_type": "execute_result"
    }
   ],
   "source": [
    "## Verify a model was created\n",
    "tree_clf.predict_proba(X[0:4])"
   ]
  },
  {
   "cell_type": "code",
   "execution_count": null,
   "id": "a877c2c8-89a7-4b24-b520-fbe2dc779c42",
   "metadata": {},
   "outputs": [],
   "source": []
  },
  {
   "cell_type": "markdown",
   "id": "d7589421-4024-4cfe-ae9f-08677ab04664",
   "metadata": {},
   "source": [
    "## Fine-tune Model (e.g. Grid Search)"
   ]
  },
  {
   "cell_type": "code",
   "execution_count": 21,
   "id": "7708d83a-ce0f-464f-9d38-a1db179530fb",
   "metadata": {},
   "outputs": [],
   "source": [
    "from sklearn.model_selection import GridSearchCV, RandomizedSearchCV"
   ]
  },
  {
   "cell_type": "markdown",
   "id": "2647e3cf-b6be-4b68-8384-05fa0cc1e8e0",
   "metadata": {},
   "source": [
    "Grid Search"
   ]
  },
  {
   "cell_type": "code",
   "execution_count": 22,
   "id": "e582fd22-2880-47d8-b006-6278bd22a7db",
   "metadata": {},
   "outputs": [],
   "source": [
    "gs_param_grid = [{\n",
    "    'voting': ['hard', 'soft'], \n",
    "}]"
   ]
  },
  {
   "cell_type": "code",
   "execution_count": 23,
   "id": "4c3e18cc-bc06-4df6-abd3-b956e318f652",
   "metadata": {},
   "outputs": [],
   "source": [
    "gs_voting_clf = VotingClassifier(estimators=estimators_lst)"
   ]
  },
  {
   "cell_type": "code",
   "execution_count": 24,
   "id": "adb60905-db9b-4096-adab-8c25bb667f00",
   "metadata": {},
   "outputs": [],
   "source": [
    "grid_search = GridSearchCV(gs_voting_clf, gs_param_grid, cv=5, scoring='f1', return_train_score=True)"
   ]
  },
  {
   "cell_type": "code",
   "execution_count": 25,
   "id": "4fec0241-794c-4849-b4c3-d817bf6098e1",
   "metadata": {},
   "outputs": [
    {
     "data": {
      "text/html": [
       "<style>#sk-container-id-2 {color: black;background-color: white;}#sk-container-id-2 pre{padding: 0;}#sk-container-id-2 div.sk-toggleable {background-color: white;}#sk-container-id-2 label.sk-toggleable__label {cursor: pointer;display: block;width: 100%;margin-bottom: 0;padding: 0.3em;box-sizing: border-box;text-align: center;}#sk-container-id-2 label.sk-toggleable__label-arrow:before {content: \"▸\";float: left;margin-right: 0.25em;color: #696969;}#sk-container-id-2 label.sk-toggleable__label-arrow:hover:before {color: black;}#sk-container-id-2 div.sk-estimator:hover label.sk-toggleable__label-arrow:before {color: black;}#sk-container-id-2 div.sk-toggleable__content {max-height: 0;max-width: 0;overflow: hidden;text-align: left;background-color: #f0f8ff;}#sk-container-id-2 div.sk-toggleable__content pre {margin: 0.2em;color: black;border-radius: 0.25em;background-color: #f0f8ff;}#sk-container-id-2 input.sk-toggleable__control:checked~div.sk-toggleable__content {max-height: 200px;max-width: 100%;overflow: auto;}#sk-container-id-2 input.sk-toggleable__control:checked~label.sk-toggleable__label-arrow:before {content: \"▾\";}#sk-container-id-2 div.sk-estimator input.sk-toggleable__control:checked~label.sk-toggleable__label {background-color: #d4ebff;}#sk-container-id-2 div.sk-label input.sk-toggleable__control:checked~label.sk-toggleable__label {background-color: #d4ebff;}#sk-container-id-2 input.sk-hidden--visually {border: 0;clip: rect(1px 1px 1px 1px);clip: rect(1px, 1px, 1px, 1px);height: 1px;margin: -1px;overflow: hidden;padding: 0;position: absolute;width: 1px;}#sk-container-id-2 div.sk-estimator {font-family: monospace;background-color: #f0f8ff;border: 1px dotted black;border-radius: 0.25em;box-sizing: border-box;margin-bottom: 0.5em;}#sk-container-id-2 div.sk-estimator:hover {background-color: #d4ebff;}#sk-container-id-2 div.sk-parallel-item::after {content: \"\";width: 100%;border-bottom: 1px solid gray;flex-grow: 1;}#sk-container-id-2 div.sk-label:hover label.sk-toggleable__label {background-color: #d4ebff;}#sk-container-id-2 div.sk-serial::before {content: \"\";position: absolute;border-left: 1px solid gray;box-sizing: border-box;top: 0;bottom: 0;left: 50%;z-index: 0;}#sk-container-id-2 div.sk-serial {display: flex;flex-direction: column;align-items: center;background-color: white;padding-right: 0.2em;padding-left: 0.2em;position: relative;}#sk-container-id-2 div.sk-item {position: relative;z-index: 1;}#sk-container-id-2 div.sk-parallel {display: flex;align-items: stretch;justify-content: center;background-color: white;position: relative;}#sk-container-id-2 div.sk-item::before, #sk-container-id-2 div.sk-parallel-item::before {content: \"\";position: absolute;border-left: 1px solid gray;box-sizing: border-box;top: 0;bottom: 0;left: 50%;z-index: -1;}#sk-container-id-2 div.sk-parallel-item {display: flex;flex-direction: column;z-index: 1;position: relative;background-color: white;}#sk-container-id-2 div.sk-parallel-item:first-child::after {align-self: flex-end;width: 50%;}#sk-container-id-2 div.sk-parallel-item:last-child::after {align-self: flex-start;width: 50%;}#sk-container-id-2 div.sk-parallel-item:only-child::after {width: 0;}#sk-container-id-2 div.sk-dashed-wrapped {border: 1px dashed gray;margin: 0 0.4em 0.5em 0.4em;box-sizing: border-box;padding-bottom: 0.4em;background-color: white;}#sk-container-id-2 div.sk-label label {font-family: monospace;font-weight: bold;display: inline-block;line-height: 1.2em;}#sk-container-id-2 div.sk-label-container {text-align: center;}#sk-container-id-2 div.sk-container {/* jupyter's `normalize.less` sets `[hidden] { display: none; }` but bootstrap.min.css set `[hidden] { display: none !important; }` so we also need the `!important` here to be able to override the default hidden behavior on the sphinx rendered scikit-learn.org. See: https://github.com/scikit-learn/scikit-learn/issues/21755 */display: inline-block !important;position: relative;}#sk-container-id-2 div.sk-text-repr-fallback {display: none;}</style><div id=\"sk-container-id-2\" class=\"sk-top-container\"><div class=\"sk-text-repr-fallback\"><pre>GridSearchCV(cv=5,\n",
       "             estimator=VotingClassifier(estimators=[(&#x27;sgd_clf&#x27;,\n",
       "                                                     SGDClassifier(alpha=0.001,\n",
       "                                                                   l1_ratio=0.1,\n",
       "                                                                   n_jobs=-1,\n",
       "                                                                   penalty=&#x27;l1&#x27;,\n",
       "                                                                   random_state=42)),\n",
       "                                                    (&#x27;tree_clf&#x27;,\n",
       "                                                     DecisionTreeClassifier(criterion=&#x27;entropy&#x27;,\n",
       "                                                                            max_depth=5,\n",
       "                                                                            random_state=42)),\n",
       "                                                    (&#x27;rnd_clf&#x27;,\n",
       "                                                     RandomForestClassifier(max_depth=3,\n",
       "                                                                            n_estimators=500,\n",
       "                                                                            n_jobs=-1,\n",
       "                                                                            oob_score=True,\n",
       "                                                                            random_state=42)),\n",
       "                                                    (&#x27;svm_clf&#x27;,...\n",
       "                                                                   interaction_constraints=&#x27;&#x27;,\n",
       "                                                                   learning_rate=0.1,\n",
       "                                                                   max_bin=256,\n",
       "                                                                   max_cat_to_onehot=4,\n",
       "                                                                   max_delta_step=0,\n",
       "                                                                   max_depth=6,\n",
       "                                                                   max_leaves=0,\n",
       "                                                                   min_child_weight=1,\n",
       "                                                                   missing=nan,\n",
       "                                                                   monotone_constraints=&#x27;()&#x27;,\n",
       "                                                                   n_estimators=94,\n",
       "                                                                   n_jobs=0,\n",
       "                                                                   num_parallel_tree=1,\n",
       "                                                                   predictor=&#x27;auto&#x27;,\n",
       "                                                                   random_state=0,\n",
       "                                                                   reg_alpha=0,\n",
       "                                                                   reg_lambda=1, ...))]),\n",
       "             param_grid=[{&#x27;voting&#x27;: [&#x27;hard&#x27;, &#x27;soft&#x27;]}], return_train_score=True,\n",
       "             scoring=&#x27;f1&#x27;)</pre><b>In a Jupyter environment, please rerun this cell to show the HTML representation or trust the notebook. <br />On GitHub, the HTML representation is unable to render, please try loading this page with nbviewer.org.</b></div><div class=\"sk-container\" hidden><div class=\"sk-item sk-dashed-wrapped\"><div class=\"sk-label-container\"><div class=\"sk-label sk-toggleable\"><input class=\"sk-toggleable__control sk-hidden--visually\" id=\"sk-estimator-id-10\" type=\"checkbox\" ><label for=\"sk-estimator-id-10\" class=\"sk-toggleable__label sk-toggleable__label-arrow\">GridSearchCV</label><div class=\"sk-toggleable__content\"><pre>GridSearchCV(cv=5,\n",
       "             estimator=VotingClassifier(estimators=[(&#x27;sgd_clf&#x27;,\n",
       "                                                     SGDClassifier(alpha=0.001,\n",
       "                                                                   l1_ratio=0.1,\n",
       "                                                                   n_jobs=-1,\n",
       "                                                                   penalty=&#x27;l1&#x27;,\n",
       "                                                                   random_state=42)),\n",
       "                                                    (&#x27;tree_clf&#x27;,\n",
       "                                                     DecisionTreeClassifier(criterion=&#x27;entropy&#x27;,\n",
       "                                                                            max_depth=5,\n",
       "                                                                            random_state=42)),\n",
       "                                                    (&#x27;rnd_clf&#x27;,\n",
       "                                                     RandomForestClassifier(max_depth=3,\n",
       "                                                                            n_estimators=500,\n",
       "                                                                            n_jobs=-1,\n",
       "                                                                            oob_score=True,\n",
       "                                                                            random_state=42)),\n",
       "                                                    (&#x27;svm_clf&#x27;,...\n",
       "                                                                   interaction_constraints=&#x27;&#x27;,\n",
       "                                                                   learning_rate=0.1,\n",
       "                                                                   max_bin=256,\n",
       "                                                                   max_cat_to_onehot=4,\n",
       "                                                                   max_delta_step=0,\n",
       "                                                                   max_depth=6,\n",
       "                                                                   max_leaves=0,\n",
       "                                                                   min_child_weight=1,\n",
       "                                                                   missing=nan,\n",
       "                                                                   monotone_constraints=&#x27;()&#x27;,\n",
       "                                                                   n_estimators=94,\n",
       "                                                                   n_jobs=0,\n",
       "                                                                   num_parallel_tree=1,\n",
       "                                                                   predictor=&#x27;auto&#x27;,\n",
       "                                                                   random_state=0,\n",
       "                                                                   reg_alpha=0,\n",
       "                                                                   reg_lambda=1, ...))]),\n",
       "             param_grid=[{&#x27;voting&#x27;: [&#x27;hard&#x27;, &#x27;soft&#x27;]}], return_train_score=True,\n",
       "             scoring=&#x27;f1&#x27;)</pre></div></div></div><div class=\"sk-parallel\"><div class=\"sk-parallel-item\"><div class=\"sk-item\"><div class=\"sk-label-container\"><div class=\"sk-label sk-toggleable\"><input class=\"sk-toggleable__control sk-hidden--visually\" id=\"sk-estimator-id-11\" type=\"checkbox\" ><label for=\"sk-estimator-id-11\" class=\"sk-toggleable__label sk-toggleable__label-arrow\">estimator: VotingClassifier</label><div class=\"sk-toggleable__content\"><pre>VotingClassifier(estimators=[(&#x27;sgd_clf&#x27;,\n",
       "                              SGDClassifier(alpha=0.001, l1_ratio=0.1,\n",
       "                                            n_jobs=-1, penalty=&#x27;l1&#x27;,\n",
       "                                            random_state=42)),\n",
       "                             (&#x27;tree_clf&#x27;,\n",
       "                              DecisionTreeClassifier(criterion=&#x27;entropy&#x27;,\n",
       "                                                     max_depth=5,\n",
       "                                                     random_state=42)),\n",
       "                             (&#x27;rnd_clf&#x27;,\n",
       "                              RandomForestClassifier(max_depth=3,\n",
       "                                                     n_estimators=500,\n",
       "                                                     n_jobs=-1, oob_score=True,\n",
       "                                                     random_state=42)),\n",
       "                             (&#x27;svm_clf&#x27;,\n",
       "                              SVC(C=0.1, coef0=1, degree=2, g...\n",
       "                                            eval_metric=None, gamma=0,\n",
       "                                            gpu_id=-1, grow_policy=&#x27;depthwise&#x27;,\n",
       "                                            importance_type=None,\n",
       "                                            interaction_constraints=&#x27;&#x27;,\n",
       "                                            learning_rate=0.1, max_bin=256,\n",
       "                                            max_cat_to_onehot=4,\n",
       "                                            max_delta_step=0, max_depth=6,\n",
       "                                            max_leaves=0, min_child_weight=1,\n",
       "                                            missing=nan,\n",
       "                                            monotone_constraints=&#x27;()&#x27;,\n",
       "                                            n_estimators=94, n_jobs=0,\n",
       "                                            num_parallel_tree=1,\n",
       "                                            predictor=&#x27;auto&#x27;, random_state=0,\n",
       "                                            reg_alpha=0, reg_lambda=1, ...))])</pre></div></div></div><div class=\"sk-serial\"><div class=\"sk-item sk-dashed-wrapped\"><div class=\"sk-parallel\"><div class=\"sk-parallel-item\"><div class=\"sk-item\"><div class=\"sk-label-container\"><div class=\"sk-label sk-toggleable\"><label>sgd_clf</label></div></div><div class=\"sk-serial\"><div class=\"sk-item\"><div class=\"sk-estimator sk-toggleable\"><input class=\"sk-toggleable__control sk-hidden--visually\" id=\"sk-estimator-id-12\" type=\"checkbox\" ><label for=\"sk-estimator-id-12\" class=\"sk-toggleable__label sk-toggleable__label-arrow\">SGDClassifier</label><div class=\"sk-toggleable__content\"><pre>SGDClassifier(alpha=0.001, l1_ratio=0.1, n_jobs=-1, penalty=&#x27;l1&#x27;,\n",
       "              random_state=42)</pre></div></div></div></div></div></div><div class=\"sk-parallel-item\"><div class=\"sk-item\"><div class=\"sk-label-container\"><div class=\"sk-label sk-toggleable\"><label>tree_clf</label></div></div><div class=\"sk-serial\"><div class=\"sk-item\"><div class=\"sk-estimator sk-toggleable\"><input class=\"sk-toggleable__control sk-hidden--visually\" id=\"sk-estimator-id-13\" type=\"checkbox\" ><label for=\"sk-estimator-id-13\" class=\"sk-toggleable__label sk-toggleable__label-arrow\">DecisionTreeClassifier</label><div class=\"sk-toggleable__content\"><pre>DecisionTreeClassifier(criterion=&#x27;entropy&#x27;, max_depth=5, random_state=42)</pre></div></div></div></div></div></div><div class=\"sk-parallel-item\"><div class=\"sk-item\"><div class=\"sk-label-container\"><div class=\"sk-label sk-toggleable\"><label>rnd_clf</label></div></div><div class=\"sk-serial\"><div class=\"sk-item\"><div class=\"sk-estimator sk-toggleable\"><input class=\"sk-toggleable__control sk-hidden--visually\" id=\"sk-estimator-id-14\" type=\"checkbox\" ><label for=\"sk-estimator-id-14\" class=\"sk-toggleable__label sk-toggleable__label-arrow\">RandomForestClassifier</label><div class=\"sk-toggleable__content\"><pre>RandomForestClassifier(max_depth=3, n_estimators=500, n_jobs=-1, oob_score=True,\n",
       "                       random_state=42)</pre></div></div></div></div></div></div><div class=\"sk-parallel-item\"><div class=\"sk-item\"><div class=\"sk-label-container\"><div class=\"sk-label sk-toggleable\"><label>svm_clf</label></div></div><div class=\"sk-serial\"><div class=\"sk-item\"><div class=\"sk-estimator sk-toggleable\"><input class=\"sk-toggleable__control sk-hidden--visually\" id=\"sk-estimator-id-15\" type=\"checkbox\" ><label for=\"sk-estimator-id-15\" class=\"sk-toggleable__label sk-toggleable__label-arrow\">SVC</label><div class=\"sk-toggleable__content\"><pre>SVC(C=0.1, coef0=1, degree=2, gamma=1, kernel=&#x27;poly&#x27;, probability=True)</pre></div></div></div></div></div></div><div class=\"sk-parallel-item\"><div class=\"sk-item\"><div class=\"sk-label-container\"><div class=\"sk-label sk-toggleable\"><label>ada_clf</label></div></div><div class=\"sk-serial\"><div class=\"sk-item sk-dashed-wrapped\"><div class=\"sk-parallel\"><div class=\"sk-parallel-item\"><div class=\"sk-item\"><div class=\"sk-label-container\"><div class=\"sk-label sk-toggleable\"><input class=\"sk-toggleable__control sk-hidden--visually\" id=\"sk-estimator-id-16\" type=\"checkbox\" ><label for=\"sk-estimator-id-16\" class=\"sk-toggleable__label sk-toggleable__label-arrow\">base_estimator: DecisionTreeClassifier</label><div class=\"sk-toggleable__content\"><pre>DecisionTreeClassifier(max_depth=3, random_state=42)</pre></div></div></div><div class=\"sk-serial\"><div class=\"sk-item\"><div class=\"sk-estimator sk-toggleable\"><input class=\"sk-toggleable__control sk-hidden--visually\" id=\"sk-estimator-id-17\" type=\"checkbox\" ><label for=\"sk-estimator-id-17\" class=\"sk-toggleable__label sk-toggleable__label-arrow\">DecisionTreeClassifier</label><div class=\"sk-toggleable__content\"><pre>DecisionTreeClassifier(max_depth=3, random_state=42)</pre></div></div></div></div></div></div></div></div></div></div></div><div class=\"sk-parallel-item\"><div class=\"sk-item\"><div class=\"sk-label-container\"><div class=\"sk-label sk-toggleable\"><label>gbt_clf</label></div></div><div class=\"sk-serial\"><div class=\"sk-item\"><div class=\"sk-estimator sk-toggleable\"><input class=\"sk-toggleable__control sk-hidden--visually\" id=\"sk-estimator-id-18\" type=\"checkbox\" ><label for=\"sk-estimator-id-18\" class=\"sk-toggleable__label sk-toggleable__label-arrow\">GradientBoostingClassifier</label><div class=\"sk-toggleable__content\"><pre>GradientBoostingClassifier(n_estimators=50, random_state=42)</pre></div></div></div></div></div></div><div class=\"sk-parallel-item\"><div class=\"sk-item\"><div class=\"sk-label-container\"><div class=\"sk-label sk-toggleable\"><label>xgb_clf</label></div></div><div class=\"sk-serial\"><div class=\"sk-item\"><div class=\"sk-estimator sk-toggleable\"><input class=\"sk-toggleable__control sk-hidden--visually\" id=\"sk-estimator-id-19\" type=\"checkbox\" ><label for=\"sk-estimator-id-19\" class=\"sk-toggleable__label sk-toggleable__label-arrow\">XGBClassifier</label><div class=\"sk-toggleable__content\"><pre>XGBClassifier(base_score=0.5, booster=&#x27;gbtree&#x27;, callbacks=None,\n",
       "              colsample_bylevel=1, colsample_bynode=1, colsample_bytree=1,\n",
       "              early_stopping_rounds=None, enable_categorical=False,\n",
       "              eval_metric=None, gamma=0, gpu_id=-1, grow_policy=&#x27;depthwise&#x27;,\n",
       "              importance_type=None, interaction_constraints=&#x27;&#x27;,\n",
       "              learning_rate=0.1, max_bin=256, max_cat_to_onehot=4,\n",
       "              max_delta_step=0, max_depth=6, max_leaves=0, min_child_weight=1,\n",
       "              missing=nan, monotone_constraints=&#x27;()&#x27;, n_estimators=94, n_jobs=0,\n",
       "              num_parallel_tree=1, predictor=&#x27;auto&#x27;, random_state=0,\n",
       "              reg_alpha=0, reg_lambda=1, ...)</pre></div></div></div></div></div></div></div></div></div></div></div></div></div></div></div>"
      ],
      "text/plain": [
       "GridSearchCV(cv=5,\n",
       "             estimator=VotingClassifier(estimators=[('sgd_clf',\n",
       "                                                     SGDClassifier(alpha=0.001,\n",
       "                                                                   l1_ratio=0.1,\n",
       "                                                                   n_jobs=-1,\n",
       "                                                                   penalty='l1',\n",
       "                                                                   random_state=42)),\n",
       "                                                    ('tree_clf',\n",
       "                                                     DecisionTreeClassifier(criterion='entropy',\n",
       "                                                                            max_depth=5,\n",
       "                                                                            random_state=42)),\n",
       "                                                    ('rnd_clf',\n",
       "                                                     RandomForestClassifier(max_depth=3,\n",
       "                                                                            n_estimators=500,\n",
       "                                                                            n_jobs=-1,\n",
       "                                                                            oob_score=True,\n",
       "                                                                            random_state=42)),\n",
       "                                                    ('svm_clf',...\n",
       "                                                                   interaction_constraints='',\n",
       "                                                                   learning_rate=0.1,\n",
       "                                                                   max_bin=256,\n",
       "                                                                   max_cat_to_onehot=4,\n",
       "                                                                   max_delta_step=0,\n",
       "                                                                   max_depth=6,\n",
       "                                                                   max_leaves=0,\n",
       "                                                                   min_child_weight=1,\n",
       "                                                                   missing=nan,\n",
       "                                                                   monotone_constraints='()',\n",
       "                                                                   n_estimators=94,\n",
       "                                                                   n_jobs=0,\n",
       "                                                                   num_parallel_tree=1,\n",
       "                                                                   predictor='auto',\n",
       "                                                                   random_state=0,\n",
       "                                                                   reg_alpha=0,\n",
       "                                                                   reg_lambda=1, ...))]),\n",
       "             param_grid=[{'voting': ['hard', 'soft']}], return_train_score=True,\n",
       "             scoring='f1')"
      ]
     },
     "execution_count": 25,
     "metadata": {},
     "output_type": "execute_result"
    }
   ],
   "source": [
    "grid_search.fit(X, y)"
   ]
  },
  {
   "cell_type": "code",
   "execution_count": 26,
   "id": "3929b35b-c4ef-44b4-adef-97fa00dcf30c",
   "metadata": {},
   "outputs": [
    {
     "data": {
      "text/plain": [
       "{'voting': 'hard'}"
      ]
     },
     "execution_count": 26,
     "metadata": {},
     "output_type": "execute_result"
    }
   ],
   "source": [
    "grid_search.best_params_"
   ]
  },
  {
   "cell_type": "code",
   "execution_count": 27,
   "id": "1405d12b-b0d8-45f3-b868-eff3a142d61c",
   "metadata": {},
   "outputs": [
    {
     "data": {
      "text/html": [
       "<style>#sk-container-id-3 {color: black;background-color: white;}#sk-container-id-3 pre{padding: 0;}#sk-container-id-3 div.sk-toggleable {background-color: white;}#sk-container-id-3 label.sk-toggleable__label {cursor: pointer;display: block;width: 100%;margin-bottom: 0;padding: 0.3em;box-sizing: border-box;text-align: center;}#sk-container-id-3 label.sk-toggleable__label-arrow:before {content: \"▸\";float: left;margin-right: 0.25em;color: #696969;}#sk-container-id-3 label.sk-toggleable__label-arrow:hover:before {color: black;}#sk-container-id-3 div.sk-estimator:hover label.sk-toggleable__label-arrow:before {color: black;}#sk-container-id-3 div.sk-toggleable__content {max-height: 0;max-width: 0;overflow: hidden;text-align: left;background-color: #f0f8ff;}#sk-container-id-3 div.sk-toggleable__content pre {margin: 0.2em;color: black;border-radius: 0.25em;background-color: #f0f8ff;}#sk-container-id-3 input.sk-toggleable__control:checked~div.sk-toggleable__content {max-height: 200px;max-width: 100%;overflow: auto;}#sk-container-id-3 input.sk-toggleable__control:checked~label.sk-toggleable__label-arrow:before {content: \"▾\";}#sk-container-id-3 div.sk-estimator input.sk-toggleable__control:checked~label.sk-toggleable__label {background-color: #d4ebff;}#sk-container-id-3 div.sk-label input.sk-toggleable__control:checked~label.sk-toggleable__label {background-color: #d4ebff;}#sk-container-id-3 input.sk-hidden--visually {border: 0;clip: rect(1px 1px 1px 1px);clip: rect(1px, 1px, 1px, 1px);height: 1px;margin: -1px;overflow: hidden;padding: 0;position: absolute;width: 1px;}#sk-container-id-3 div.sk-estimator {font-family: monospace;background-color: #f0f8ff;border: 1px dotted black;border-radius: 0.25em;box-sizing: border-box;margin-bottom: 0.5em;}#sk-container-id-3 div.sk-estimator:hover {background-color: #d4ebff;}#sk-container-id-3 div.sk-parallel-item::after {content: \"\";width: 100%;border-bottom: 1px solid gray;flex-grow: 1;}#sk-container-id-3 div.sk-label:hover label.sk-toggleable__label {background-color: #d4ebff;}#sk-container-id-3 div.sk-serial::before {content: \"\";position: absolute;border-left: 1px solid gray;box-sizing: border-box;top: 0;bottom: 0;left: 50%;z-index: 0;}#sk-container-id-3 div.sk-serial {display: flex;flex-direction: column;align-items: center;background-color: white;padding-right: 0.2em;padding-left: 0.2em;position: relative;}#sk-container-id-3 div.sk-item {position: relative;z-index: 1;}#sk-container-id-3 div.sk-parallel {display: flex;align-items: stretch;justify-content: center;background-color: white;position: relative;}#sk-container-id-3 div.sk-item::before, #sk-container-id-3 div.sk-parallel-item::before {content: \"\";position: absolute;border-left: 1px solid gray;box-sizing: border-box;top: 0;bottom: 0;left: 50%;z-index: -1;}#sk-container-id-3 div.sk-parallel-item {display: flex;flex-direction: column;z-index: 1;position: relative;background-color: white;}#sk-container-id-3 div.sk-parallel-item:first-child::after {align-self: flex-end;width: 50%;}#sk-container-id-3 div.sk-parallel-item:last-child::after {align-self: flex-start;width: 50%;}#sk-container-id-3 div.sk-parallel-item:only-child::after {width: 0;}#sk-container-id-3 div.sk-dashed-wrapped {border: 1px dashed gray;margin: 0 0.4em 0.5em 0.4em;box-sizing: border-box;padding-bottom: 0.4em;background-color: white;}#sk-container-id-3 div.sk-label label {font-family: monospace;font-weight: bold;display: inline-block;line-height: 1.2em;}#sk-container-id-3 div.sk-label-container {text-align: center;}#sk-container-id-3 div.sk-container {/* jupyter's `normalize.less` sets `[hidden] { display: none; }` but bootstrap.min.css set `[hidden] { display: none !important; }` so we also need the `!important` here to be able to override the default hidden behavior on the sphinx rendered scikit-learn.org. See: https://github.com/scikit-learn/scikit-learn/issues/21755 */display: inline-block !important;position: relative;}#sk-container-id-3 div.sk-text-repr-fallback {display: none;}</style><div id=\"sk-container-id-3\" class=\"sk-top-container\"><div class=\"sk-text-repr-fallback\"><pre>VotingClassifier(estimators=[(&#x27;sgd_clf&#x27;,\n",
       "                              SGDClassifier(alpha=0.001, l1_ratio=0.1,\n",
       "                                            n_jobs=-1, penalty=&#x27;l1&#x27;,\n",
       "                                            random_state=42)),\n",
       "                             (&#x27;tree_clf&#x27;,\n",
       "                              DecisionTreeClassifier(criterion=&#x27;entropy&#x27;,\n",
       "                                                     max_depth=5,\n",
       "                                                     random_state=42)),\n",
       "                             (&#x27;rnd_clf&#x27;,\n",
       "                              RandomForestClassifier(max_depth=3,\n",
       "                                                     n_estimators=500,\n",
       "                                                     n_jobs=-1, oob_score=True,\n",
       "                                                     random_state=42)),\n",
       "                             (&#x27;svm_clf&#x27;,\n",
       "                              SVC(C=0.1, coef0=1, degree=2, g...\n",
       "                                            eval_metric=None, gamma=0,\n",
       "                                            gpu_id=-1, grow_policy=&#x27;depthwise&#x27;,\n",
       "                                            importance_type=None,\n",
       "                                            interaction_constraints=&#x27;&#x27;,\n",
       "                                            learning_rate=0.1, max_bin=256,\n",
       "                                            max_cat_to_onehot=4,\n",
       "                                            max_delta_step=0, max_depth=6,\n",
       "                                            max_leaves=0, min_child_weight=1,\n",
       "                                            missing=nan,\n",
       "                                            monotone_constraints=&#x27;()&#x27;,\n",
       "                                            n_estimators=94, n_jobs=0,\n",
       "                                            num_parallel_tree=1,\n",
       "                                            predictor=&#x27;auto&#x27;, random_state=0,\n",
       "                                            reg_alpha=0, reg_lambda=1, ...))])</pre><b>In a Jupyter environment, please rerun this cell to show the HTML representation or trust the notebook. <br />On GitHub, the HTML representation is unable to render, please try loading this page with nbviewer.org.</b></div><div class=\"sk-container\" hidden><div class=\"sk-item sk-dashed-wrapped\"><div class=\"sk-label-container\"><div class=\"sk-label sk-toggleable\"><input class=\"sk-toggleable__control sk-hidden--visually\" id=\"sk-estimator-id-20\" type=\"checkbox\" ><label for=\"sk-estimator-id-20\" class=\"sk-toggleable__label sk-toggleable__label-arrow\">VotingClassifier</label><div class=\"sk-toggleable__content\"><pre>VotingClassifier(estimators=[(&#x27;sgd_clf&#x27;,\n",
       "                              SGDClassifier(alpha=0.001, l1_ratio=0.1,\n",
       "                                            n_jobs=-1, penalty=&#x27;l1&#x27;,\n",
       "                                            random_state=42)),\n",
       "                             (&#x27;tree_clf&#x27;,\n",
       "                              DecisionTreeClassifier(criterion=&#x27;entropy&#x27;,\n",
       "                                                     max_depth=5,\n",
       "                                                     random_state=42)),\n",
       "                             (&#x27;rnd_clf&#x27;,\n",
       "                              RandomForestClassifier(max_depth=3,\n",
       "                                                     n_estimators=500,\n",
       "                                                     n_jobs=-1, oob_score=True,\n",
       "                                                     random_state=42)),\n",
       "                             (&#x27;svm_clf&#x27;,\n",
       "                              SVC(C=0.1, coef0=1, degree=2, g...\n",
       "                                            eval_metric=None, gamma=0,\n",
       "                                            gpu_id=-1, grow_policy=&#x27;depthwise&#x27;,\n",
       "                                            importance_type=None,\n",
       "                                            interaction_constraints=&#x27;&#x27;,\n",
       "                                            learning_rate=0.1, max_bin=256,\n",
       "                                            max_cat_to_onehot=4,\n",
       "                                            max_delta_step=0, max_depth=6,\n",
       "                                            max_leaves=0, min_child_weight=1,\n",
       "                                            missing=nan,\n",
       "                                            monotone_constraints=&#x27;()&#x27;,\n",
       "                                            n_estimators=94, n_jobs=0,\n",
       "                                            num_parallel_tree=1,\n",
       "                                            predictor=&#x27;auto&#x27;, random_state=0,\n",
       "                                            reg_alpha=0, reg_lambda=1, ...))])</pre></div></div></div><div class=\"sk-parallel\"><div class=\"sk-parallel-item\"><div class=\"sk-item\"><div class=\"sk-label-container\"><div class=\"sk-label sk-toggleable\"><label>sgd_clf</label></div></div><div class=\"sk-serial\"><div class=\"sk-item\"><div class=\"sk-estimator sk-toggleable\"><input class=\"sk-toggleable__control sk-hidden--visually\" id=\"sk-estimator-id-21\" type=\"checkbox\" ><label for=\"sk-estimator-id-21\" class=\"sk-toggleable__label sk-toggleable__label-arrow\">SGDClassifier</label><div class=\"sk-toggleable__content\"><pre>SGDClassifier(alpha=0.001, l1_ratio=0.1, n_jobs=-1, penalty=&#x27;l1&#x27;,\n",
       "              random_state=42)</pre></div></div></div></div></div></div><div class=\"sk-parallel-item\"><div class=\"sk-item\"><div class=\"sk-label-container\"><div class=\"sk-label sk-toggleable\"><label>tree_clf</label></div></div><div class=\"sk-serial\"><div class=\"sk-item\"><div class=\"sk-estimator sk-toggleable\"><input class=\"sk-toggleable__control sk-hidden--visually\" id=\"sk-estimator-id-22\" type=\"checkbox\" ><label for=\"sk-estimator-id-22\" class=\"sk-toggleable__label sk-toggleable__label-arrow\">DecisionTreeClassifier</label><div class=\"sk-toggleable__content\"><pre>DecisionTreeClassifier(criterion=&#x27;entropy&#x27;, max_depth=5, random_state=42)</pre></div></div></div></div></div></div><div class=\"sk-parallel-item\"><div class=\"sk-item\"><div class=\"sk-label-container\"><div class=\"sk-label sk-toggleable\"><label>rnd_clf</label></div></div><div class=\"sk-serial\"><div class=\"sk-item\"><div class=\"sk-estimator sk-toggleable\"><input class=\"sk-toggleable__control sk-hidden--visually\" id=\"sk-estimator-id-23\" type=\"checkbox\" ><label for=\"sk-estimator-id-23\" class=\"sk-toggleable__label sk-toggleable__label-arrow\">RandomForestClassifier</label><div class=\"sk-toggleable__content\"><pre>RandomForestClassifier(max_depth=3, n_estimators=500, n_jobs=-1, oob_score=True,\n",
       "                       random_state=42)</pre></div></div></div></div></div></div><div class=\"sk-parallel-item\"><div class=\"sk-item\"><div class=\"sk-label-container\"><div class=\"sk-label sk-toggleable\"><label>svm_clf</label></div></div><div class=\"sk-serial\"><div class=\"sk-item\"><div class=\"sk-estimator sk-toggleable\"><input class=\"sk-toggleable__control sk-hidden--visually\" id=\"sk-estimator-id-24\" type=\"checkbox\" ><label for=\"sk-estimator-id-24\" class=\"sk-toggleable__label sk-toggleable__label-arrow\">SVC</label><div class=\"sk-toggleable__content\"><pre>SVC(C=0.1, coef0=1, degree=2, gamma=1, kernel=&#x27;poly&#x27;, probability=True)</pre></div></div></div></div></div></div><div class=\"sk-parallel-item\"><div class=\"sk-item\"><div class=\"sk-label-container\"><div class=\"sk-label sk-toggleable\"><label>ada_clf</label></div></div><div class=\"sk-serial\"><div class=\"sk-item sk-dashed-wrapped\"><div class=\"sk-parallel\"><div class=\"sk-parallel-item\"><div class=\"sk-item\"><div class=\"sk-label-container\"><div class=\"sk-label sk-toggleable\"><input class=\"sk-toggleable__control sk-hidden--visually\" id=\"sk-estimator-id-25\" type=\"checkbox\" ><label for=\"sk-estimator-id-25\" class=\"sk-toggleable__label sk-toggleable__label-arrow\">base_estimator: DecisionTreeClassifier</label><div class=\"sk-toggleable__content\"><pre>DecisionTreeClassifier(max_depth=3, random_state=42)</pre></div></div></div><div class=\"sk-serial\"><div class=\"sk-item\"><div class=\"sk-estimator sk-toggleable\"><input class=\"sk-toggleable__control sk-hidden--visually\" id=\"sk-estimator-id-26\" type=\"checkbox\" ><label for=\"sk-estimator-id-26\" class=\"sk-toggleable__label sk-toggleable__label-arrow\">DecisionTreeClassifier</label><div class=\"sk-toggleable__content\"><pre>DecisionTreeClassifier(max_depth=3, random_state=42)</pre></div></div></div></div></div></div></div></div></div></div></div><div class=\"sk-parallel-item\"><div class=\"sk-item\"><div class=\"sk-label-container\"><div class=\"sk-label sk-toggleable\"><label>gbt_clf</label></div></div><div class=\"sk-serial\"><div class=\"sk-item\"><div class=\"sk-estimator sk-toggleable\"><input class=\"sk-toggleable__control sk-hidden--visually\" id=\"sk-estimator-id-27\" type=\"checkbox\" ><label for=\"sk-estimator-id-27\" class=\"sk-toggleable__label sk-toggleable__label-arrow\">GradientBoostingClassifier</label><div class=\"sk-toggleable__content\"><pre>GradientBoostingClassifier(n_estimators=50, random_state=42)</pre></div></div></div></div></div></div><div class=\"sk-parallel-item\"><div class=\"sk-item\"><div class=\"sk-label-container\"><div class=\"sk-label sk-toggleable\"><label>xgb_clf</label></div></div><div class=\"sk-serial\"><div class=\"sk-item\"><div class=\"sk-estimator sk-toggleable\"><input class=\"sk-toggleable__control sk-hidden--visually\" id=\"sk-estimator-id-28\" type=\"checkbox\" ><label for=\"sk-estimator-id-28\" class=\"sk-toggleable__label sk-toggleable__label-arrow\">XGBClassifier</label><div class=\"sk-toggleable__content\"><pre>XGBClassifier(base_score=0.5, booster=&#x27;gbtree&#x27;, callbacks=None,\n",
       "              colsample_bylevel=1, colsample_bynode=1, colsample_bytree=1,\n",
       "              early_stopping_rounds=None, enable_categorical=False,\n",
       "              eval_metric=None, gamma=0, gpu_id=-1, grow_policy=&#x27;depthwise&#x27;,\n",
       "              importance_type=None, interaction_constraints=&#x27;&#x27;,\n",
       "              learning_rate=0.1, max_bin=256, max_cat_to_onehot=4,\n",
       "              max_delta_step=0, max_depth=6, max_leaves=0, min_child_weight=1,\n",
       "              missing=nan, monotone_constraints=&#x27;()&#x27;, n_estimators=94, n_jobs=0,\n",
       "              num_parallel_tree=1, predictor=&#x27;auto&#x27;, random_state=0,\n",
       "              reg_alpha=0, reg_lambda=1, ...)</pre></div></div></div></div></div></div></div></div></div></div>"
      ],
      "text/plain": [
       "VotingClassifier(estimators=[('sgd_clf',\n",
       "                              SGDClassifier(alpha=0.001, l1_ratio=0.1,\n",
       "                                            n_jobs=-1, penalty='l1',\n",
       "                                            random_state=42)),\n",
       "                             ('tree_clf',\n",
       "                              DecisionTreeClassifier(criterion='entropy',\n",
       "                                                     max_depth=5,\n",
       "                                                     random_state=42)),\n",
       "                             ('rnd_clf',\n",
       "                              RandomForestClassifier(max_depth=3,\n",
       "                                                     n_estimators=500,\n",
       "                                                     n_jobs=-1, oob_score=True,\n",
       "                                                     random_state=42)),\n",
       "                             ('svm_clf',\n",
       "                              SVC(C=0.1, coef0=1, degree=2, g...\n",
       "                                            eval_metric=None, gamma=0,\n",
       "                                            gpu_id=-1, grow_policy='depthwise',\n",
       "                                            importance_type=None,\n",
       "                                            interaction_constraints='',\n",
       "                                            learning_rate=0.1, max_bin=256,\n",
       "                                            max_cat_to_onehot=4,\n",
       "                                            max_delta_step=0, max_depth=6,\n",
       "                                            max_leaves=0, min_child_weight=1,\n",
       "                                            missing=nan,\n",
       "                                            monotone_constraints='()',\n",
       "                                            n_estimators=94, n_jobs=0,\n",
       "                                            num_parallel_tree=1,\n",
       "                                            predictor='auto', random_state=0,\n",
       "                                            reg_alpha=0, reg_lambda=1, ...))])"
      ]
     },
     "execution_count": 27,
     "metadata": {},
     "output_type": "execute_result"
    }
   ],
   "source": [
    "grid_search.best_estimator_"
   ]
  },
  {
   "cell_type": "code",
   "execution_count": 29,
   "id": "8652d388-39cb-4db6-8b95-bc4abe4fd260",
   "metadata": {},
   "outputs": [],
   "source": [
    "gs_bst_voting_clf = grid_search.best_estimator_"
   ]
  },
  {
   "cell_type": "code",
   "execution_count": null,
   "id": "e6a8c170-9177-4115-8093-f42b2152907d",
   "metadata": {},
   "outputs": [],
   "source": []
  },
  {
   "cell_type": "markdown",
   "id": "3c8c2c9d-5d80-4065-af4b-a9eb1be9ebfd",
   "metadata": {},
   "source": [
    "Random Search"
   ]
  },
  {
   "cell_type": "code",
   "execution_count": 30,
   "id": "a43b14fe-1651-4b49-bfcc-81334c10af0a",
   "metadata": {},
   "outputs": [],
   "source": [
    "rs_param_grid = [{\n",
    "    'voting': ['hard', 'soft'], \n",
    "}]"
   ]
  },
  {
   "cell_type": "code",
   "execution_count": 31,
   "id": "0c3ee923-7466-4cfb-8a1d-c92983165604",
   "metadata": {},
   "outputs": [],
   "source": [
    "rs_voting_clf = VotingClassifier(estimators=estimators_lst)"
   ]
  },
  {
   "cell_type": "code",
   "execution_count": 33,
   "id": "7eded7c4-509a-4905-b425-8758d7664bbb",
   "metadata": {},
   "outputs": [],
   "source": [
    "rand_search = RandomizedSearchCV(gs_voting_clf, rs_param_grid, n_iter=10000, cv=5, scoring='f1', return_train_score=True)"
   ]
  },
  {
   "cell_type": "code",
   "execution_count": 35,
   "id": "dde2b38e-f41c-4a3b-8330-e875a6e4ec4d",
   "metadata": {},
   "outputs": [
    {
     "data": {
      "text/html": [
       "<style>#sk-container-id-4 {color: black;background-color: white;}#sk-container-id-4 pre{padding: 0;}#sk-container-id-4 div.sk-toggleable {background-color: white;}#sk-container-id-4 label.sk-toggleable__label {cursor: pointer;display: block;width: 100%;margin-bottom: 0;padding: 0.3em;box-sizing: border-box;text-align: center;}#sk-container-id-4 label.sk-toggleable__label-arrow:before {content: \"▸\";float: left;margin-right: 0.25em;color: #696969;}#sk-container-id-4 label.sk-toggleable__label-arrow:hover:before {color: black;}#sk-container-id-4 div.sk-estimator:hover label.sk-toggleable__label-arrow:before {color: black;}#sk-container-id-4 div.sk-toggleable__content {max-height: 0;max-width: 0;overflow: hidden;text-align: left;background-color: #f0f8ff;}#sk-container-id-4 div.sk-toggleable__content pre {margin: 0.2em;color: black;border-radius: 0.25em;background-color: #f0f8ff;}#sk-container-id-4 input.sk-toggleable__control:checked~div.sk-toggleable__content {max-height: 200px;max-width: 100%;overflow: auto;}#sk-container-id-4 input.sk-toggleable__control:checked~label.sk-toggleable__label-arrow:before {content: \"▾\";}#sk-container-id-4 div.sk-estimator input.sk-toggleable__control:checked~label.sk-toggleable__label {background-color: #d4ebff;}#sk-container-id-4 div.sk-label input.sk-toggleable__control:checked~label.sk-toggleable__label {background-color: #d4ebff;}#sk-container-id-4 input.sk-hidden--visually {border: 0;clip: rect(1px 1px 1px 1px);clip: rect(1px, 1px, 1px, 1px);height: 1px;margin: -1px;overflow: hidden;padding: 0;position: absolute;width: 1px;}#sk-container-id-4 div.sk-estimator {font-family: monospace;background-color: #f0f8ff;border: 1px dotted black;border-radius: 0.25em;box-sizing: border-box;margin-bottom: 0.5em;}#sk-container-id-4 div.sk-estimator:hover {background-color: #d4ebff;}#sk-container-id-4 div.sk-parallel-item::after {content: \"\";width: 100%;border-bottom: 1px solid gray;flex-grow: 1;}#sk-container-id-4 div.sk-label:hover label.sk-toggleable__label {background-color: #d4ebff;}#sk-container-id-4 div.sk-serial::before {content: \"\";position: absolute;border-left: 1px solid gray;box-sizing: border-box;top: 0;bottom: 0;left: 50%;z-index: 0;}#sk-container-id-4 div.sk-serial {display: flex;flex-direction: column;align-items: center;background-color: white;padding-right: 0.2em;padding-left: 0.2em;position: relative;}#sk-container-id-4 div.sk-item {position: relative;z-index: 1;}#sk-container-id-4 div.sk-parallel {display: flex;align-items: stretch;justify-content: center;background-color: white;position: relative;}#sk-container-id-4 div.sk-item::before, #sk-container-id-4 div.sk-parallel-item::before {content: \"\";position: absolute;border-left: 1px solid gray;box-sizing: border-box;top: 0;bottom: 0;left: 50%;z-index: -1;}#sk-container-id-4 div.sk-parallel-item {display: flex;flex-direction: column;z-index: 1;position: relative;background-color: white;}#sk-container-id-4 div.sk-parallel-item:first-child::after {align-self: flex-end;width: 50%;}#sk-container-id-4 div.sk-parallel-item:last-child::after {align-self: flex-start;width: 50%;}#sk-container-id-4 div.sk-parallel-item:only-child::after {width: 0;}#sk-container-id-4 div.sk-dashed-wrapped {border: 1px dashed gray;margin: 0 0.4em 0.5em 0.4em;box-sizing: border-box;padding-bottom: 0.4em;background-color: white;}#sk-container-id-4 div.sk-label label {font-family: monospace;font-weight: bold;display: inline-block;line-height: 1.2em;}#sk-container-id-4 div.sk-label-container {text-align: center;}#sk-container-id-4 div.sk-container {/* jupyter's `normalize.less` sets `[hidden] { display: none; }` but bootstrap.min.css set `[hidden] { display: none !important; }` so we also need the `!important` here to be able to override the default hidden behavior on the sphinx rendered scikit-learn.org. See: https://github.com/scikit-learn/scikit-learn/issues/21755 */display: inline-block !important;position: relative;}#sk-container-id-4 div.sk-text-repr-fallback {display: none;}</style><div id=\"sk-container-id-4\" class=\"sk-top-container\"><div class=\"sk-text-repr-fallback\"><pre>RandomizedSearchCV(cv=5,\n",
       "                   estimator=VotingClassifier(estimators=[(&#x27;sgd_clf&#x27;,\n",
       "                                                           SGDClassifier(alpha=0.001,\n",
       "                                                                         l1_ratio=0.1,\n",
       "                                                                         n_jobs=-1,\n",
       "                                                                         penalty=&#x27;l1&#x27;,\n",
       "                                                                         random_state=42)),\n",
       "                                                          (&#x27;tree_clf&#x27;,\n",
       "                                                           DecisionTreeClassifier(criterion=&#x27;entropy&#x27;,\n",
       "                                                                                  max_depth=5,\n",
       "                                                                                  random_state=42)),\n",
       "                                                          (&#x27;rnd_clf&#x27;,\n",
       "                                                           RandomForestClassifier(max_depth=3,\n",
       "                                                                                  n_estimators=500,\n",
       "                                                                                  n_jobs=-1,\n",
       "                                                                                  oob_score=True,\n",
       "                                                                                  random_state=42)),\n",
       "                                                          (&#x27;svm...\n",
       "                                                                         learning_rate=0.1,\n",
       "                                                                         max_bin=256,\n",
       "                                                                         max_cat_to_onehot=4,\n",
       "                                                                         max_delta_step=0,\n",
       "                                                                         max_depth=6,\n",
       "                                                                         max_leaves=0,\n",
       "                                                                         min_child_weight=1,\n",
       "                                                                         missing=nan,\n",
       "                                                                         monotone_constraints=&#x27;()&#x27;,\n",
       "                                                                         n_estimators=94,\n",
       "                                                                         n_jobs=0,\n",
       "                                                                         num_parallel_tree=1,\n",
       "                                                                         predictor=&#x27;auto&#x27;,\n",
       "                                                                         random_state=0,\n",
       "                                                                         reg_alpha=0,\n",
       "                                                                         reg_lambda=1, ...))]),\n",
       "                   n_iter=10000,\n",
       "                   param_distributions=[{&#x27;voting&#x27;: [&#x27;hard&#x27;, &#x27;soft&#x27;]}],\n",
       "                   return_train_score=True, scoring=&#x27;f1&#x27;)</pre><b>In a Jupyter environment, please rerun this cell to show the HTML representation or trust the notebook. <br />On GitHub, the HTML representation is unable to render, please try loading this page with nbviewer.org.</b></div><div class=\"sk-container\" hidden><div class=\"sk-item sk-dashed-wrapped\"><div class=\"sk-label-container\"><div class=\"sk-label sk-toggleable\"><input class=\"sk-toggleable__control sk-hidden--visually\" id=\"sk-estimator-id-29\" type=\"checkbox\" ><label for=\"sk-estimator-id-29\" class=\"sk-toggleable__label sk-toggleable__label-arrow\">RandomizedSearchCV</label><div class=\"sk-toggleable__content\"><pre>RandomizedSearchCV(cv=5,\n",
       "                   estimator=VotingClassifier(estimators=[(&#x27;sgd_clf&#x27;,\n",
       "                                                           SGDClassifier(alpha=0.001,\n",
       "                                                                         l1_ratio=0.1,\n",
       "                                                                         n_jobs=-1,\n",
       "                                                                         penalty=&#x27;l1&#x27;,\n",
       "                                                                         random_state=42)),\n",
       "                                                          (&#x27;tree_clf&#x27;,\n",
       "                                                           DecisionTreeClassifier(criterion=&#x27;entropy&#x27;,\n",
       "                                                                                  max_depth=5,\n",
       "                                                                                  random_state=42)),\n",
       "                                                          (&#x27;rnd_clf&#x27;,\n",
       "                                                           RandomForestClassifier(max_depth=3,\n",
       "                                                                                  n_estimators=500,\n",
       "                                                                                  n_jobs=-1,\n",
       "                                                                                  oob_score=True,\n",
       "                                                                                  random_state=42)),\n",
       "                                                          (&#x27;svm...\n",
       "                                                                         learning_rate=0.1,\n",
       "                                                                         max_bin=256,\n",
       "                                                                         max_cat_to_onehot=4,\n",
       "                                                                         max_delta_step=0,\n",
       "                                                                         max_depth=6,\n",
       "                                                                         max_leaves=0,\n",
       "                                                                         min_child_weight=1,\n",
       "                                                                         missing=nan,\n",
       "                                                                         monotone_constraints=&#x27;()&#x27;,\n",
       "                                                                         n_estimators=94,\n",
       "                                                                         n_jobs=0,\n",
       "                                                                         num_parallel_tree=1,\n",
       "                                                                         predictor=&#x27;auto&#x27;,\n",
       "                                                                         random_state=0,\n",
       "                                                                         reg_alpha=0,\n",
       "                                                                         reg_lambda=1, ...))]),\n",
       "                   n_iter=10000,\n",
       "                   param_distributions=[{&#x27;voting&#x27;: [&#x27;hard&#x27;, &#x27;soft&#x27;]}],\n",
       "                   return_train_score=True, scoring=&#x27;f1&#x27;)</pre></div></div></div><div class=\"sk-parallel\"><div class=\"sk-parallel-item\"><div class=\"sk-item\"><div class=\"sk-label-container\"><div class=\"sk-label sk-toggleable\"><input class=\"sk-toggleable__control sk-hidden--visually\" id=\"sk-estimator-id-30\" type=\"checkbox\" ><label for=\"sk-estimator-id-30\" class=\"sk-toggleable__label sk-toggleable__label-arrow\">estimator: VotingClassifier</label><div class=\"sk-toggleable__content\"><pre>VotingClassifier(estimators=[(&#x27;sgd_clf&#x27;,\n",
       "                              SGDClassifier(alpha=0.001, l1_ratio=0.1,\n",
       "                                            n_jobs=-1, penalty=&#x27;l1&#x27;,\n",
       "                                            random_state=42)),\n",
       "                             (&#x27;tree_clf&#x27;,\n",
       "                              DecisionTreeClassifier(criterion=&#x27;entropy&#x27;,\n",
       "                                                     max_depth=5,\n",
       "                                                     random_state=42)),\n",
       "                             (&#x27;rnd_clf&#x27;,\n",
       "                              RandomForestClassifier(max_depth=3,\n",
       "                                                     n_estimators=500,\n",
       "                                                     n_jobs=-1, oob_score=True,\n",
       "                                                     random_state=42)),\n",
       "                             (&#x27;svm_clf&#x27;,\n",
       "                              SVC(C=0.1, coef0=1, degree=2, g...\n",
       "                                            eval_metric=None, gamma=0,\n",
       "                                            gpu_id=-1, grow_policy=&#x27;depthwise&#x27;,\n",
       "                                            importance_type=None,\n",
       "                                            interaction_constraints=&#x27;&#x27;,\n",
       "                                            learning_rate=0.1, max_bin=256,\n",
       "                                            max_cat_to_onehot=4,\n",
       "                                            max_delta_step=0, max_depth=6,\n",
       "                                            max_leaves=0, min_child_weight=1,\n",
       "                                            missing=nan,\n",
       "                                            monotone_constraints=&#x27;()&#x27;,\n",
       "                                            n_estimators=94, n_jobs=0,\n",
       "                                            num_parallel_tree=1,\n",
       "                                            predictor=&#x27;auto&#x27;, random_state=0,\n",
       "                                            reg_alpha=0, reg_lambda=1, ...))])</pre></div></div></div><div class=\"sk-serial\"><div class=\"sk-item sk-dashed-wrapped\"><div class=\"sk-parallel\"><div class=\"sk-parallel-item\"><div class=\"sk-item\"><div class=\"sk-label-container\"><div class=\"sk-label sk-toggleable\"><label>sgd_clf</label></div></div><div class=\"sk-serial\"><div class=\"sk-item\"><div class=\"sk-estimator sk-toggleable\"><input class=\"sk-toggleable__control sk-hidden--visually\" id=\"sk-estimator-id-31\" type=\"checkbox\" ><label for=\"sk-estimator-id-31\" class=\"sk-toggleable__label sk-toggleable__label-arrow\">SGDClassifier</label><div class=\"sk-toggleable__content\"><pre>SGDClassifier(alpha=0.001, l1_ratio=0.1, n_jobs=-1, penalty=&#x27;l1&#x27;,\n",
       "              random_state=42)</pre></div></div></div></div></div></div><div class=\"sk-parallel-item\"><div class=\"sk-item\"><div class=\"sk-label-container\"><div class=\"sk-label sk-toggleable\"><label>tree_clf</label></div></div><div class=\"sk-serial\"><div class=\"sk-item\"><div class=\"sk-estimator sk-toggleable\"><input class=\"sk-toggleable__control sk-hidden--visually\" id=\"sk-estimator-id-32\" type=\"checkbox\" ><label for=\"sk-estimator-id-32\" class=\"sk-toggleable__label sk-toggleable__label-arrow\">DecisionTreeClassifier</label><div class=\"sk-toggleable__content\"><pre>DecisionTreeClassifier(criterion=&#x27;entropy&#x27;, max_depth=5, random_state=42)</pre></div></div></div></div></div></div><div class=\"sk-parallel-item\"><div class=\"sk-item\"><div class=\"sk-label-container\"><div class=\"sk-label sk-toggleable\"><label>rnd_clf</label></div></div><div class=\"sk-serial\"><div class=\"sk-item\"><div class=\"sk-estimator sk-toggleable\"><input class=\"sk-toggleable__control sk-hidden--visually\" id=\"sk-estimator-id-33\" type=\"checkbox\" ><label for=\"sk-estimator-id-33\" class=\"sk-toggleable__label sk-toggleable__label-arrow\">RandomForestClassifier</label><div class=\"sk-toggleable__content\"><pre>RandomForestClassifier(max_depth=3, n_estimators=500, n_jobs=-1, oob_score=True,\n",
       "                       random_state=42)</pre></div></div></div></div></div></div><div class=\"sk-parallel-item\"><div class=\"sk-item\"><div class=\"sk-label-container\"><div class=\"sk-label sk-toggleable\"><label>svm_clf</label></div></div><div class=\"sk-serial\"><div class=\"sk-item\"><div class=\"sk-estimator sk-toggleable\"><input class=\"sk-toggleable__control sk-hidden--visually\" id=\"sk-estimator-id-34\" type=\"checkbox\" ><label for=\"sk-estimator-id-34\" class=\"sk-toggleable__label sk-toggleable__label-arrow\">SVC</label><div class=\"sk-toggleable__content\"><pre>SVC(C=0.1, coef0=1, degree=2, gamma=1, kernel=&#x27;poly&#x27;, probability=True)</pre></div></div></div></div></div></div><div class=\"sk-parallel-item\"><div class=\"sk-item\"><div class=\"sk-label-container\"><div class=\"sk-label sk-toggleable\"><label>ada_clf</label></div></div><div class=\"sk-serial\"><div class=\"sk-item sk-dashed-wrapped\"><div class=\"sk-parallel\"><div class=\"sk-parallel-item\"><div class=\"sk-item\"><div class=\"sk-label-container\"><div class=\"sk-label sk-toggleable\"><input class=\"sk-toggleable__control sk-hidden--visually\" id=\"sk-estimator-id-35\" type=\"checkbox\" ><label for=\"sk-estimator-id-35\" class=\"sk-toggleable__label sk-toggleable__label-arrow\">base_estimator: DecisionTreeClassifier</label><div class=\"sk-toggleable__content\"><pre>DecisionTreeClassifier(max_depth=3, random_state=42)</pre></div></div></div><div class=\"sk-serial\"><div class=\"sk-item\"><div class=\"sk-estimator sk-toggleable\"><input class=\"sk-toggleable__control sk-hidden--visually\" id=\"sk-estimator-id-36\" type=\"checkbox\" ><label for=\"sk-estimator-id-36\" class=\"sk-toggleable__label sk-toggleable__label-arrow\">DecisionTreeClassifier</label><div class=\"sk-toggleable__content\"><pre>DecisionTreeClassifier(max_depth=3, random_state=42)</pre></div></div></div></div></div></div></div></div></div></div></div><div class=\"sk-parallel-item\"><div class=\"sk-item\"><div class=\"sk-label-container\"><div class=\"sk-label sk-toggleable\"><label>gbt_clf</label></div></div><div class=\"sk-serial\"><div class=\"sk-item\"><div class=\"sk-estimator sk-toggleable\"><input class=\"sk-toggleable__control sk-hidden--visually\" id=\"sk-estimator-id-37\" type=\"checkbox\" ><label for=\"sk-estimator-id-37\" class=\"sk-toggleable__label sk-toggleable__label-arrow\">GradientBoostingClassifier</label><div class=\"sk-toggleable__content\"><pre>GradientBoostingClassifier(n_estimators=50, random_state=42)</pre></div></div></div></div></div></div><div class=\"sk-parallel-item\"><div class=\"sk-item\"><div class=\"sk-label-container\"><div class=\"sk-label sk-toggleable\"><label>xgb_clf</label></div></div><div class=\"sk-serial\"><div class=\"sk-item\"><div class=\"sk-estimator sk-toggleable\"><input class=\"sk-toggleable__control sk-hidden--visually\" id=\"sk-estimator-id-38\" type=\"checkbox\" ><label for=\"sk-estimator-id-38\" class=\"sk-toggleable__label sk-toggleable__label-arrow\">XGBClassifier</label><div class=\"sk-toggleable__content\"><pre>XGBClassifier(base_score=0.5, booster=&#x27;gbtree&#x27;, callbacks=None,\n",
       "              colsample_bylevel=1, colsample_bynode=1, colsample_bytree=1,\n",
       "              early_stopping_rounds=None, enable_categorical=False,\n",
       "              eval_metric=None, gamma=0, gpu_id=-1, grow_policy=&#x27;depthwise&#x27;,\n",
       "              importance_type=None, interaction_constraints=&#x27;&#x27;,\n",
       "              learning_rate=0.1, max_bin=256, max_cat_to_onehot=4,\n",
       "              max_delta_step=0, max_depth=6, max_leaves=0, min_child_weight=1,\n",
       "              missing=nan, monotone_constraints=&#x27;()&#x27;, n_estimators=94, n_jobs=0,\n",
       "              num_parallel_tree=1, predictor=&#x27;auto&#x27;, random_state=0,\n",
       "              reg_alpha=0, reg_lambda=1, ...)</pre></div></div></div></div></div></div></div></div></div></div></div></div></div></div></div>"
      ],
      "text/plain": [
       "RandomizedSearchCV(cv=5,\n",
       "                   estimator=VotingClassifier(estimators=[('sgd_clf',\n",
       "                                                           SGDClassifier(alpha=0.001,\n",
       "                                                                         l1_ratio=0.1,\n",
       "                                                                         n_jobs=-1,\n",
       "                                                                         penalty='l1',\n",
       "                                                                         random_state=42)),\n",
       "                                                          ('tree_clf',\n",
       "                                                           DecisionTreeClassifier(criterion='entropy',\n",
       "                                                                                  max_depth=5,\n",
       "                                                                                  random_state=42)),\n",
       "                                                          ('rnd_clf',\n",
       "                                                           RandomForestClassifier(max_depth=3,\n",
       "                                                                                  n_estimators=500,\n",
       "                                                                                  n_jobs=-1,\n",
       "                                                                                  oob_score=True,\n",
       "                                                                                  random_state=42)),\n",
       "                                                          ('svm...\n",
       "                                                                         learning_rate=0.1,\n",
       "                                                                         max_bin=256,\n",
       "                                                                         max_cat_to_onehot=4,\n",
       "                                                                         max_delta_step=0,\n",
       "                                                                         max_depth=6,\n",
       "                                                                         max_leaves=0,\n",
       "                                                                         min_child_weight=1,\n",
       "                                                                         missing=nan,\n",
       "                                                                         monotone_constraints='()',\n",
       "                                                                         n_estimators=94,\n",
       "                                                                         n_jobs=0,\n",
       "                                                                         num_parallel_tree=1,\n",
       "                                                                         predictor='auto',\n",
       "                                                                         random_state=0,\n",
       "                                                                         reg_alpha=0,\n",
       "                                                                         reg_lambda=1, ...))]),\n",
       "                   n_iter=10000,\n",
       "                   param_distributions=[{'voting': ['hard', 'soft']}],\n",
       "                   return_train_score=True, scoring='f1')"
      ]
     },
     "execution_count": 35,
     "metadata": {},
     "output_type": "execute_result"
    }
   ],
   "source": [
    "rand_search.fit(X, y)"
   ]
  },
  {
   "cell_type": "code",
   "execution_count": 36,
   "id": "6303e01d-af08-4e3f-972c-69062fbef2ff",
   "metadata": {},
   "outputs": [
    {
     "data": {
      "text/plain": [
       "{'voting': 'hard'}"
      ]
     },
     "execution_count": 36,
     "metadata": {},
     "output_type": "execute_result"
    }
   ],
   "source": [
    "rand_search.best_params_"
   ]
  },
  {
   "cell_type": "code",
   "execution_count": 37,
   "id": "fc4c47c9-e620-4914-ad0d-9c2e2929e01e",
   "metadata": {},
   "outputs": [
    {
     "data": {
      "text/html": [
       "<style>#sk-container-id-5 {color: black;background-color: white;}#sk-container-id-5 pre{padding: 0;}#sk-container-id-5 div.sk-toggleable {background-color: white;}#sk-container-id-5 label.sk-toggleable__label {cursor: pointer;display: block;width: 100%;margin-bottom: 0;padding: 0.3em;box-sizing: border-box;text-align: center;}#sk-container-id-5 label.sk-toggleable__label-arrow:before {content: \"▸\";float: left;margin-right: 0.25em;color: #696969;}#sk-container-id-5 label.sk-toggleable__label-arrow:hover:before {color: black;}#sk-container-id-5 div.sk-estimator:hover label.sk-toggleable__label-arrow:before {color: black;}#sk-container-id-5 div.sk-toggleable__content {max-height: 0;max-width: 0;overflow: hidden;text-align: left;background-color: #f0f8ff;}#sk-container-id-5 div.sk-toggleable__content pre {margin: 0.2em;color: black;border-radius: 0.25em;background-color: #f0f8ff;}#sk-container-id-5 input.sk-toggleable__control:checked~div.sk-toggleable__content {max-height: 200px;max-width: 100%;overflow: auto;}#sk-container-id-5 input.sk-toggleable__control:checked~label.sk-toggleable__label-arrow:before {content: \"▾\";}#sk-container-id-5 div.sk-estimator input.sk-toggleable__control:checked~label.sk-toggleable__label {background-color: #d4ebff;}#sk-container-id-5 div.sk-label input.sk-toggleable__control:checked~label.sk-toggleable__label {background-color: #d4ebff;}#sk-container-id-5 input.sk-hidden--visually {border: 0;clip: rect(1px 1px 1px 1px);clip: rect(1px, 1px, 1px, 1px);height: 1px;margin: -1px;overflow: hidden;padding: 0;position: absolute;width: 1px;}#sk-container-id-5 div.sk-estimator {font-family: monospace;background-color: #f0f8ff;border: 1px dotted black;border-radius: 0.25em;box-sizing: border-box;margin-bottom: 0.5em;}#sk-container-id-5 div.sk-estimator:hover {background-color: #d4ebff;}#sk-container-id-5 div.sk-parallel-item::after {content: \"\";width: 100%;border-bottom: 1px solid gray;flex-grow: 1;}#sk-container-id-5 div.sk-label:hover label.sk-toggleable__label {background-color: #d4ebff;}#sk-container-id-5 div.sk-serial::before {content: \"\";position: absolute;border-left: 1px solid gray;box-sizing: border-box;top: 0;bottom: 0;left: 50%;z-index: 0;}#sk-container-id-5 div.sk-serial {display: flex;flex-direction: column;align-items: center;background-color: white;padding-right: 0.2em;padding-left: 0.2em;position: relative;}#sk-container-id-5 div.sk-item {position: relative;z-index: 1;}#sk-container-id-5 div.sk-parallel {display: flex;align-items: stretch;justify-content: center;background-color: white;position: relative;}#sk-container-id-5 div.sk-item::before, #sk-container-id-5 div.sk-parallel-item::before {content: \"\";position: absolute;border-left: 1px solid gray;box-sizing: border-box;top: 0;bottom: 0;left: 50%;z-index: -1;}#sk-container-id-5 div.sk-parallel-item {display: flex;flex-direction: column;z-index: 1;position: relative;background-color: white;}#sk-container-id-5 div.sk-parallel-item:first-child::after {align-self: flex-end;width: 50%;}#sk-container-id-5 div.sk-parallel-item:last-child::after {align-self: flex-start;width: 50%;}#sk-container-id-5 div.sk-parallel-item:only-child::after {width: 0;}#sk-container-id-5 div.sk-dashed-wrapped {border: 1px dashed gray;margin: 0 0.4em 0.5em 0.4em;box-sizing: border-box;padding-bottom: 0.4em;background-color: white;}#sk-container-id-5 div.sk-label label {font-family: monospace;font-weight: bold;display: inline-block;line-height: 1.2em;}#sk-container-id-5 div.sk-label-container {text-align: center;}#sk-container-id-5 div.sk-container {/* jupyter's `normalize.less` sets `[hidden] { display: none; }` but bootstrap.min.css set `[hidden] { display: none !important; }` so we also need the `!important` here to be able to override the default hidden behavior on the sphinx rendered scikit-learn.org. See: https://github.com/scikit-learn/scikit-learn/issues/21755 */display: inline-block !important;position: relative;}#sk-container-id-5 div.sk-text-repr-fallback {display: none;}</style><div id=\"sk-container-id-5\" class=\"sk-top-container\"><div class=\"sk-text-repr-fallback\"><pre>VotingClassifier(estimators=[(&#x27;sgd_clf&#x27;,\n",
       "                              SGDClassifier(alpha=0.001, l1_ratio=0.1,\n",
       "                                            n_jobs=-1, penalty=&#x27;l1&#x27;,\n",
       "                                            random_state=42)),\n",
       "                             (&#x27;tree_clf&#x27;,\n",
       "                              DecisionTreeClassifier(criterion=&#x27;entropy&#x27;,\n",
       "                                                     max_depth=5,\n",
       "                                                     random_state=42)),\n",
       "                             (&#x27;rnd_clf&#x27;,\n",
       "                              RandomForestClassifier(max_depth=3,\n",
       "                                                     n_estimators=500,\n",
       "                                                     n_jobs=-1, oob_score=True,\n",
       "                                                     random_state=42)),\n",
       "                             (&#x27;svm_clf&#x27;,\n",
       "                              SVC(C=0.1, coef0=1, degree=2, g...\n",
       "                                            eval_metric=None, gamma=0,\n",
       "                                            gpu_id=-1, grow_policy=&#x27;depthwise&#x27;,\n",
       "                                            importance_type=None,\n",
       "                                            interaction_constraints=&#x27;&#x27;,\n",
       "                                            learning_rate=0.1, max_bin=256,\n",
       "                                            max_cat_to_onehot=4,\n",
       "                                            max_delta_step=0, max_depth=6,\n",
       "                                            max_leaves=0, min_child_weight=1,\n",
       "                                            missing=nan,\n",
       "                                            monotone_constraints=&#x27;()&#x27;,\n",
       "                                            n_estimators=94, n_jobs=0,\n",
       "                                            num_parallel_tree=1,\n",
       "                                            predictor=&#x27;auto&#x27;, random_state=0,\n",
       "                                            reg_alpha=0, reg_lambda=1, ...))])</pre><b>In a Jupyter environment, please rerun this cell to show the HTML representation or trust the notebook. <br />On GitHub, the HTML representation is unable to render, please try loading this page with nbviewer.org.</b></div><div class=\"sk-container\" hidden><div class=\"sk-item sk-dashed-wrapped\"><div class=\"sk-label-container\"><div class=\"sk-label sk-toggleable\"><input class=\"sk-toggleable__control sk-hidden--visually\" id=\"sk-estimator-id-39\" type=\"checkbox\" ><label for=\"sk-estimator-id-39\" class=\"sk-toggleable__label sk-toggleable__label-arrow\">VotingClassifier</label><div class=\"sk-toggleable__content\"><pre>VotingClassifier(estimators=[(&#x27;sgd_clf&#x27;,\n",
       "                              SGDClassifier(alpha=0.001, l1_ratio=0.1,\n",
       "                                            n_jobs=-1, penalty=&#x27;l1&#x27;,\n",
       "                                            random_state=42)),\n",
       "                             (&#x27;tree_clf&#x27;,\n",
       "                              DecisionTreeClassifier(criterion=&#x27;entropy&#x27;,\n",
       "                                                     max_depth=5,\n",
       "                                                     random_state=42)),\n",
       "                             (&#x27;rnd_clf&#x27;,\n",
       "                              RandomForestClassifier(max_depth=3,\n",
       "                                                     n_estimators=500,\n",
       "                                                     n_jobs=-1, oob_score=True,\n",
       "                                                     random_state=42)),\n",
       "                             (&#x27;svm_clf&#x27;,\n",
       "                              SVC(C=0.1, coef0=1, degree=2, g...\n",
       "                                            eval_metric=None, gamma=0,\n",
       "                                            gpu_id=-1, grow_policy=&#x27;depthwise&#x27;,\n",
       "                                            importance_type=None,\n",
       "                                            interaction_constraints=&#x27;&#x27;,\n",
       "                                            learning_rate=0.1, max_bin=256,\n",
       "                                            max_cat_to_onehot=4,\n",
       "                                            max_delta_step=0, max_depth=6,\n",
       "                                            max_leaves=0, min_child_weight=1,\n",
       "                                            missing=nan,\n",
       "                                            monotone_constraints=&#x27;()&#x27;,\n",
       "                                            n_estimators=94, n_jobs=0,\n",
       "                                            num_parallel_tree=1,\n",
       "                                            predictor=&#x27;auto&#x27;, random_state=0,\n",
       "                                            reg_alpha=0, reg_lambda=1, ...))])</pre></div></div></div><div class=\"sk-parallel\"><div class=\"sk-parallel-item\"><div class=\"sk-item\"><div class=\"sk-label-container\"><div class=\"sk-label sk-toggleable\"><label>sgd_clf</label></div></div><div class=\"sk-serial\"><div class=\"sk-item\"><div class=\"sk-estimator sk-toggleable\"><input class=\"sk-toggleable__control sk-hidden--visually\" id=\"sk-estimator-id-40\" type=\"checkbox\" ><label for=\"sk-estimator-id-40\" class=\"sk-toggleable__label sk-toggleable__label-arrow\">SGDClassifier</label><div class=\"sk-toggleable__content\"><pre>SGDClassifier(alpha=0.001, l1_ratio=0.1, n_jobs=-1, penalty=&#x27;l1&#x27;,\n",
       "              random_state=42)</pre></div></div></div></div></div></div><div class=\"sk-parallel-item\"><div class=\"sk-item\"><div class=\"sk-label-container\"><div class=\"sk-label sk-toggleable\"><label>tree_clf</label></div></div><div class=\"sk-serial\"><div class=\"sk-item\"><div class=\"sk-estimator sk-toggleable\"><input class=\"sk-toggleable__control sk-hidden--visually\" id=\"sk-estimator-id-41\" type=\"checkbox\" ><label for=\"sk-estimator-id-41\" class=\"sk-toggleable__label sk-toggleable__label-arrow\">DecisionTreeClassifier</label><div class=\"sk-toggleable__content\"><pre>DecisionTreeClassifier(criterion=&#x27;entropy&#x27;, max_depth=5, random_state=42)</pre></div></div></div></div></div></div><div class=\"sk-parallel-item\"><div class=\"sk-item\"><div class=\"sk-label-container\"><div class=\"sk-label sk-toggleable\"><label>rnd_clf</label></div></div><div class=\"sk-serial\"><div class=\"sk-item\"><div class=\"sk-estimator sk-toggleable\"><input class=\"sk-toggleable__control sk-hidden--visually\" id=\"sk-estimator-id-42\" type=\"checkbox\" ><label for=\"sk-estimator-id-42\" class=\"sk-toggleable__label sk-toggleable__label-arrow\">RandomForestClassifier</label><div class=\"sk-toggleable__content\"><pre>RandomForestClassifier(max_depth=3, n_estimators=500, n_jobs=-1, oob_score=True,\n",
       "                       random_state=42)</pre></div></div></div></div></div></div><div class=\"sk-parallel-item\"><div class=\"sk-item\"><div class=\"sk-label-container\"><div class=\"sk-label sk-toggleable\"><label>svm_clf</label></div></div><div class=\"sk-serial\"><div class=\"sk-item\"><div class=\"sk-estimator sk-toggleable\"><input class=\"sk-toggleable__control sk-hidden--visually\" id=\"sk-estimator-id-43\" type=\"checkbox\" ><label for=\"sk-estimator-id-43\" class=\"sk-toggleable__label sk-toggleable__label-arrow\">SVC</label><div class=\"sk-toggleable__content\"><pre>SVC(C=0.1, coef0=1, degree=2, gamma=1, kernel=&#x27;poly&#x27;, probability=True)</pre></div></div></div></div></div></div><div class=\"sk-parallel-item\"><div class=\"sk-item\"><div class=\"sk-label-container\"><div class=\"sk-label sk-toggleable\"><label>ada_clf</label></div></div><div class=\"sk-serial\"><div class=\"sk-item sk-dashed-wrapped\"><div class=\"sk-parallel\"><div class=\"sk-parallel-item\"><div class=\"sk-item\"><div class=\"sk-label-container\"><div class=\"sk-label sk-toggleable\"><input class=\"sk-toggleable__control sk-hidden--visually\" id=\"sk-estimator-id-44\" type=\"checkbox\" ><label for=\"sk-estimator-id-44\" class=\"sk-toggleable__label sk-toggleable__label-arrow\">base_estimator: DecisionTreeClassifier</label><div class=\"sk-toggleable__content\"><pre>DecisionTreeClassifier(max_depth=3, random_state=42)</pre></div></div></div><div class=\"sk-serial\"><div class=\"sk-item\"><div class=\"sk-estimator sk-toggleable\"><input class=\"sk-toggleable__control sk-hidden--visually\" id=\"sk-estimator-id-45\" type=\"checkbox\" ><label for=\"sk-estimator-id-45\" class=\"sk-toggleable__label sk-toggleable__label-arrow\">DecisionTreeClassifier</label><div class=\"sk-toggleable__content\"><pre>DecisionTreeClassifier(max_depth=3, random_state=42)</pre></div></div></div></div></div></div></div></div></div></div></div><div class=\"sk-parallel-item\"><div class=\"sk-item\"><div class=\"sk-label-container\"><div class=\"sk-label sk-toggleable\"><label>gbt_clf</label></div></div><div class=\"sk-serial\"><div class=\"sk-item\"><div class=\"sk-estimator sk-toggleable\"><input class=\"sk-toggleable__control sk-hidden--visually\" id=\"sk-estimator-id-46\" type=\"checkbox\" ><label for=\"sk-estimator-id-46\" class=\"sk-toggleable__label sk-toggleable__label-arrow\">GradientBoostingClassifier</label><div class=\"sk-toggleable__content\"><pre>GradientBoostingClassifier(n_estimators=50, random_state=42)</pre></div></div></div></div></div></div><div class=\"sk-parallel-item\"><div class=\"sk-item\"><div class=\"sk-label-container\"><div class=\"sk-label sk-toggleable\"><label>xgb_clf</label></div></div><div class=\"sk-serial\"><div class=\"sk-item\"><div class=\"sk-estimator sk-toggleable\"><input class=\"sk-toggleable__control sk-hidden--visually\" id=\"sk-estimator-id-47\" type=\"checkbox\" ><label for=\"sk-estimator-id-47\" class=\"sk-toggleable__label sk-toggleable__label-arrow\">XGBClassifier</label><div class=\"sk-toggleable__content\"><pre>XGBClassifier(base_score=0.5, booster=&#x27;gbtree&#x27;, callbacks=None,\n",
       "              colsample_bylevel=1, colsample_bynode=1, colsample_bytree=1,\n",
       "              early_stopping_rounds=None, enable_categorical=False,\n",
       "              eval_metric=None, gamma=0, gpu_id=-1, grow_policy=&#x27;depthwise&#x27;,\n",
       "              importance_type=None, interaction_constraints=&#x27;&#x27;,\n",
       "              learning_rate=0.1, max_bin=256, max_cat_to_onehot=4,\n",
       "              max_delta_step=0, max_depth=6, max_leaves=0, min_child_weight=1,\n",
       "              missing=nan, monotone_constraints=&#x27;()&#x27;, n_estimators=94, n_jobs=0,\n",
       "              num_parallel_tree=1, predictor=&#x27;auto&#x27;, random_state=0,\n",
       "              reg_alpha=0, reg_lambda=1, ...)</pre></div></div></div></div></div></div></div></div></div></div>"
      ],
      "text/plain": [
       "VotingClassifier(estimators=[('sgd_clf',\n",
       "                              SGDClassifier(alpha=0.001, l1_ratio=0.1,\n",
       "                                            n_jobs=-1, penalty='l1',\n",
       "                                            random_state=42)),\n",
       "                             ('tree_clf',\n",
       "                              DecisionTreeClassifier(criterion='entropy',\n",
       "                                                     max_depth=5,\n",
       "                                                     random_state=42)),\n",
       "                             ('rnd_clf',\n",
       "                              RandomForestClassifier(max_depth=3,\n",
       "                                                     n_estimators=500,\n",
       "                                                     n_jobs=-1, oob_score=True,\n",
       "                                                     random_state=42)),\n",
       "                             ('svm_clf',\n",
       "                              SVC(C=0.1, coef0=1, degree=2, g...\n",
       "                                            eval_metric=None, gamma=0,\n",
       "                                            gpu_id=-1, grow_policy='depthwise',\n",
       "                                            importance_type=None,\n",
       "                                            interaction_constraints='',\n",
       "                                            learning_rate=0.1, max_bin=256,\n",
       "                                            max_cat_to_onehot=4,\n",
       "                                            max_delta_step=0, max_depth=6,\n",
       "                                            max_leaves=0, min_child_weight=1,\n",
       "                                            missing=nan,\n",
       "                                            monotone_constraints='()',\n",
       "                                            n_estimators=94, n_jobs=0,\n",
       "                                            num_parallel_tree=1,\n",
       "                                            predictor='auto', random_state=0,\n",
       "                                            reg_alpha=0, reg_lambda=1, ...))])"
      ]
     },
     "execution_count": 37,
     "metadata": {},
     "output_type": "execute_result"
    }
   ],
   "source": [
    "rand_search.best_estimator_"
   ]
  },
  {
   "cell_type": "code",
   "execution_count": 38,
   "id": "ff4a62a4-a6c6-45b3-ab3d-1f7b3ef32026",
   "metadata": {},
   "outputs": [],
   "source": [
    "rs_bst_voting_clf = rand_search.best_estimator_"
   ]
  },
  {
   "cell_type": "code",
   "execution_count": null,
   "id": "7ee6556b-a961-4072-bd5d-a73d32d090d6",
   "metadata": {},
   "outputs": [],
   "source": []
  },
  {
   "cell_type": "markdown",
   "id": "41f67eab-3f70-4a60-bc08-22c61aadecb7",
   "metadata": {},
   "source": [
    "## Save Model to Modeling Environment"
   ]
  },
  {
   "cell_type": "code",
   "execution_count": 39,
   "id": "dd1409a0-9dbb-47ac-863a-9887b14c104e",
   "metadata": {},
   "outputs": [
    {
     "data": {
      "text/plain": [
       "['C:\\\\Users\\\\kehinde.salau\\\\Cardinal Health\\\\Enterprise Data Remediation - Documents\\\\General\\\\01_Projects\\\\23_Kinaxis\\\\Data\\\\Output\\\\ML\\\\L420_mdl_2022-08-05.pkl']"
      ]
     },
     "execution_count": 39,
     "metadata": {},
     "output_type": "execute_result"
    }
   ],
   "source": [
    "joblib.dump(rs_bst_voting_clf, oput_dir + mdl_oput_file_name)"
   ]
  },
  {
   "cell_type": "code",
   "execution_count": null,
   "id": "e7547616-fcc2-4f7a-a71c-ac65ab6431d1",
   "metadata": {},
   "outputs": [],
   "source": []
  }
 ],
 "metadata": {
  "kernelspec": {
   "display_name": "Python 3 (ipykernel)",
   "language": "python",
   "name": "python3"
  },
  "language_info": {
   "codemirror_mode": {
    "name": "ipython",
    "version": 3
   },
   "file_extension": ".py",
   "mimetype": "text/x-python",
   "name": "python",
   "nbconvert_exporter": "python",
   "pygments_lexer": "ipython3",
   "version": "3.9.12"
  }
 },
 "nbformat": 4,
 "nbformat_minor": 5
}
