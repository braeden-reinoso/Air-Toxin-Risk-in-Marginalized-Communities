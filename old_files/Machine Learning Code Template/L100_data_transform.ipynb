{
 "cells": [
  {
   "cell_type": "markdown",
   "id": "4909319f-bd9d-491e-a534-93885b16b755",
   "metadata": {},
   "source": [
    "# Product Matching\n",
    "## Level 1: Data Transformation Script\n",
    "\n",
    "### Notes:\n",
    "1. Preprocess newly fetched data\n",
    "2. Preliminary data cleaning\n",
    "3. Engineer data features and columns that will enrich data exploration phase\n",
    "4. Split data into training and testing subsets\n",
    "\n",
    "### References:"
   ]
  },
  {
   "cell_type": "markdown",
   "id": "b83ce6aa-a02d-4fda-aa2a-6c11d3a09c7c",
   "metadata": {},
   "source": [
    "## Notebook Config"
   ]
  },
  {
   "cell_type": "code",
   "execution_count": 4,
   "id": "0c9c6fbd-5230-4a5f-a4ab-78f8b78e12ba",
   "metadata": {},
   "outputs": [],
   "source": [
    "# Display settings\n",
    "## Auto reload modules & inline plots\n",
    "%reload_ext autoreload\n",
    "%autoreload 2\n",
    "%matplotlib inline"
   ]
  },
  {
   "cell_type": "markdown",
   "id": "99a1bee6-24ab-4f91-ae34-19c942e73e09",
   "metadata": {},
   "source": [
    "## Package Import & Initialization"
   ]
  },
  {
   "cell_type": "code",
   "execution_count": 5,
   "id": "2341d4fa-6a09-4837-a67a-445904ce4b2c",
   "metadata": {},
   "outputs": [],
   "source": [
    "# Import packages\n",
    "\n",
    "import pandas as pd                  #For data manipulation and bgq --> pandas conversion\n",
    "import numpy as np                   #For scientific computation\n",
    "import os                            #For work with native operating system and directories\n",
    "from pathlib import Path             #For working with file paths and directories\n",
    "import warnings                      #To tweak warning options\n",
    "import datetime as dt                #For date objects and implemetations\n",
    "from sklearn.model_selection import train_test_split   #For partitioning data ahead of model development & evaluation"
   ]
  },
  {
   "cell_type": "code",
   "execution_count": 6,
   "id": "3c5b72cb-00f0-4d1d-9d77-93285750468f",
   "metadata": {},
   "outputs": [],
   "source": [
    "pd.set_option('display.max_columns', None)\n",
    "pd.options.display.float_format = '{:.4f}'.format\n",
    "warnings.filterwarnings('ignore')"
   ]
  },
  {
   "cell_type": "markdown",
   "id": "8fb981ab-069a-48f2-9157-09d2b440e848",
   "metadata": {},
   "source": [
    "## Function Library"
   ]
  },
  {
   "cell_type": "code",
   "execution_count": null,
   "id": "d97e912d-2a7a-4a94-9be9-baf9f87bacba",
   "metadata": {},
   "outputs": [],
   "source": []
  },
  {
   "cell_type": "markdown",
   "id": "8f8cb46b-954d-4e49-b9d1-0a0e91a76f75",
   "metadata": {},
   "source": [
    "## Custom Tranformers"
   ]
  },
  {
   "cell_type": "code",
   "execution_count": null,
   "id": "57f98ee4-9105-40bb-8164-c5b7331a36b6",
   "metadata": {},
   "outputs": [],
   "source": []
  },
  {
   "cell_type": "markdown",
   "id": "922cfce0-29a9-4b05-8b75-d946d92dad8a",
   "metadata": {},
   "source": [
    "## Set Directories"
   ]
  },
  {
   "cell_type": "code",
   "execution_count": 7,
   "id": "e614998c-3827-41e6-a9ac-dbf7f266c756",
   "metadata": {},
   "outputs": [],
   "source": [
    "#cwd = os.getcwd()\n",
    "#os.chdir(cwd)\n",
    "home = str(Path.home())\n",
    "proj_path = os.path.join(home, 'Cardinal Health', 'Enterprise Data Remediation - Documents', 'General', '01_Projects', \n",
    "                         '23_Kinaxis')"
   ]
  },
  {
   "cell_type": "code",
   "execution_count": 8,
   "id": "016f000c-5c5c-4ea6-8947-3d8686e5063a",
   "metadata": {},
   "outputs": [],
   "source": [
    "main_dir = proj_path + '\\\\'\n",
    "iput_dir = main_dir + 'Data\\\\Output\\\\ML\\\\'\n",
    "oput_dir = main_dir + 'Data\\\\Output\\\\ML\\\\'"
   ]
  },
  {
   "cell_type": "markdown",
   "id": "de26213d-4596-4a1a-9270-42f65ce2c594",
   "metadata": {},
   "source": [
    "## Set Output File Names"
   ]
  },
  {
   "cell_type": "code",
   "execution_count": 9,
   "id": "05286521-19ad-489b-9aca-82b6ed84d05f",
   "metadata": {},
   "outputs": [],
   "source": [
    "## Output file name\n",
    "trn_oput_file_name = \"L100_trn_df_\" + str(dt.datetime.today().strftime('%Y-%m-%d')) + '.pkl'\n",
    "tst_oput_file_name = \"L100_tst_df_\" + str(dt.datetime.today().strftime('%Y-%m-%d')) + '.pkl'"
   ]
  },
  {
   "cell_type": "markdown",
   "id": "c7edc499-ecae-4a01-999a-f7f4312aef23",
   "metadata": {},
   "source": [
    "## Load Data"
   ]
  },
  {
   "cell_type": "code",
   "execution_count": 10,
   "id": "92e20944-7434-4a32-b364-7e640f954a11",
   "metadata": {},
   "outputs": [],
   "source": [
    "raw_0_df = pd.read_pickle(iput_dir + \"L000_fetch_df_2022-07-15.pkl\")"
   ]
  },
  {
   "cell_type": "code",
   "execution_count": 11,
   "id": "e73094b6-dbef-4aa3-990f-4ad9ebaab995",
   "metadata": {},
   "outputs": [],
   "source": [
    "raw_1_df = pd.read_pickle(iput_dir + \"L001_fetch_df_2022-07-15.pkl\")"
   ]
  },
  {
   "cell_type": "code",
   "execution_count": 12,
   "id": "a2797d72-b5b8-4673-a859-123b5505ff4d",
   "metadata": {},
   "outputs": [],
   "source": [
    "raw_2_df = pd.read_pickle(iput_dir + \"L002_fetch_df_2022-07-15.pkl\")"
   ]
  },
  {
   "cell_type": "markdown",
   "id": "1918b840-f946-4241-a83d-accf4379d865",
   "metadata": {},
   "source": [
    "## High-level Data Inspection"
   ]
  },
  {
   "cell_type": "code",
   "execution_count": null,
   "id": "3cf82933-766a-494e-ab4e-05d28b3125bf",
   "metadata": {},
   "outputs": [],
   "source": [
    "raw_0_df.info()"
   ]
  },
  {
   "cell_type": "code",
   "execution_count": null,
   "id": "d3cc9baa-1ce2-4d4a-9b46-25ae98fd6b16",
   "metadata": {},
   "outputs": [],
   "source": [
    "raw_0_df.head()"
   ]
  },
  {
   "cell_type": "code",
   "execution_count": null,
   "id": "eff23888-f197-4d57-acfd-6abe3909719c",
   "metadata": {},
   "outputs": [],
   "source": [
    "raw_0_df.Match.value_counts()"
   ]
  },
  {
   "cell_type": "code",
   "execution_count": null,
   "id": "6db997d3-6029-4169-b990-3476ae083c0d",
   "metadata": {},
   "outputs": [],
   "source": [
    "raw_1_df.info()"
   ]
  },
  {
   "cell_type": "code",
   "execution_count": null,
   "id": "336312be-bfc4-4c1d-8c4d-dfdbfdd32910",
   "metadata": {},
   "outputs": [],
   "source": [
    "raw_1_df.head()"
   ]
  },
  {
   "cell_type": "code",
   "execution_count": null,
   "id": "79ff7311-1c0f-43de-aec2-25544298a9d2",
   "metadata": {},
   "outputs": [],
   "source": [
    "raw_1_df.Match.value_counts()"
   ]
  },
  {
   "cell_type": "code",
   "execution_count": null,
   "id": "47ad657b-f442-414f-a20b-9b8358df4ccf",
   "metadata": {},
   "outputs": [],
   "source": [
    "raw_2_df.info()"
   ]
  },
  {
   "cell_type": "code",
   "execution_count": null,
   "id": "4fc4ddff-cab4-4dfa-9fd7-742c3d5d91cd",
   "metadata": {},
   "outputs": [],
   "source": [
    "raw_2_df.head()"
   ]
  },
  {
   "cell_type": "code",
   "execution_count": null,
   "id": "8b66d3b7-bb15-47cb-b64c-5771337e72b8",
   "metadata": {},
   "outputs": [],
   "source": [
    "raw_2_df.Match.value_counts()"
   ]
  },
  {
   "cell_type": "markdown",
   "id": "83a56265-b012-45e1-9f45-eb82d95a2afb",
   "metadata": {},
   "source": [
    "## Data Preprocessing"
   ]
  },
  {
   "cell_type": "markdown",
   "id": "c75f9c4e-a7da-4f96-85f8-1f62be8e2911",
   "metadata": {},
   "source": [
    "#### Append Data"
   ]
  },
  {
   "cell_type": "code",
   "execution_count": 13,
   "id": "27c9ef2a-9f81-43d7-aa41-594b7526c617",
   "metadata": {},
   "outputs": [],
   "source": [
    "raw_df = (\n",
    "    pd.concat([\n",
    "        raw_0_df,\n",
    "        raw_1_df,\n",
    "        raw_2_df.rename(columns = dict(zip(\n",
    "            ['MATNR','MAKTX','MFRPN','NAME1','ZZM_ITEMTAX4'],\n",
    "            ['Number','FullDescription','ManufacturerItemNumber','ManufacturerName','UNSPSC']\n",
    "        )))\n",
    "    ])\n",
    "    .reset_index(drop=True)\n",
    ")"
   ]
  },
  {
   "cell_type": "code",
   "execution_count": 14,
   "id": "dc497bf8-98be-41be-bf81-ca1af5dce6b4",
   "metadata": {},
   "outputs": [
    {
     "data": {
      "text/plain": [
       "array(['No', 'Yes', nan, '?'], dtype=object)"
      ]
     },
     "execution_count": 14,
     "metadata": {},
     "output_type": "execute_result"
    }
   ],
   "source": [
    "raw_df.Match.unique()"
   ]
  },
  {
   "cell_type": "markdown",
   "id": "c27a4438-b414-4d60-b5d0-238fab2c3411",
   "metadata": {},
   "source": [
    "#### Filter & Shuffle Data"
   ]
  },
  {
   "cell_type": "code",
   "execution_count": 15,
   "id": "95b11ab6-8d3f-4b4a-8913-ebf6d05a2bc0",
   "metadata": {},
   "outputs": [],
   "source": [
    "raw_mdl_df = raw_df.query('Match in [\"Yes\",\"No\"]').sample(frac=1, random_state=42).reset_index(drop=True)"
   ]
  },
  {
   "cell_type": "code",
   "execution_count": 16,
   "id": "92a31eb2-cd8b-4186-a222-af6442c79e4a",
   "metadata": {},
   "outputs": [
    {
     "data": {
      "text/plain": [
       "No     1276\n",
       "Yes     809\n",
       "Name: Match, dtype: int64"
      ]
     },
     "execution_count": 16,
     "metadata": {},
     "output_type": "execute_result"
    }
   ],
   "source": [
    "raw_mdl_df.Match.value_counts()"
   ]
  },
  {
   "cell_type": "markdown",
   "id": "87841b35-3287-4918-a465-0e2cd33fe201",
   "metadata": {},
   "source": [
    "#### First Round of Feature Creation"
   ]
  },
  {
   "cell_type": "code",
   "execution_count": 86,
   "id": "e8f117aa-6de0-4679-aea8-1daae2291c89",
   "metadata": {},
   "outputs": [],
   "source": [
    "def f(x):\n",
    "    if x['tmp_ft_2a']>=x['tmp_ft_2b']:\n",
    "        ans = x['tmp_ft_1a'][x['tmp_ft_3']:]\n",
    "    else: \n",
    "        ans = x['tmp_ft_1b'][x['tmp_ft_3']:]\n",
    "    return ans\n",
    "\n",
    "\n",
    "raw_feat_df = (\n",
    "    raw_mdl_df\n",
    "    .assign(\n",
    "        SUPPLIER_ITEM_NUMBER = lambda df: np.where(df.SUPPLIER_ITEM_NUMBER.isna(), '', df.SUPPLIER_ITEM_NUMBER.astype(str)),\n",
    "        ManufacturerItemNumber = lambda df: np.where(df.ManufacturerItemNumber.isna(), '', df.ManufacturerItemNumber.astype(str)),\n",
    "    )\n",
    "    .assign(\n",
    "        # tmp_ft_1a = lambda df: df.SUPPLIER_ITEM_NUMBER.str.strip(r'[@#&$%+-_/*]'),\n",
    "        # tmp_ft_1b = lambda df: df.ManufacturerItemNumber.str.strip(r'[@#&$%+-_/*]'),\n",
    "        tmp_ft_1a = lambda df: df['SUPPLIER_ITEM_NUMBER'].str.replace(r'[^\\w\\s]+', ''),\n",
    "        tmp_ft_1b = lambda df: df['ManufacturerItemNumber'].str.replace(r'[^\\w\\s]+', ''),\n",
    "    )\n",
    "    .assign(\n",
    "        tmp_ft_2a = lambda df: df['tmp_ft_1a'].str.len(),\n",
    "        tmp_ft_2b = lambda df: df['tmp_ft_1b'].str.len(),\n",
    "    )\n",
    "    .assign(\n",
    "        tmp_ft_3 = lambda df: \n",
    "            np.where(\n",
    "                df['tmp_ft_2a']>=df['tmp_ft_2b'],\n",
    "                df['tmp_ft_2a']-df['tmp_ft_2b'],\n",
    "                df['tmp_ft_2b']-df['tmp_ft_2a'],\n",
    "            ),\n",
    "    )\n",
    "    .assign(\n",
    "        tmp_ft_4 = lambda df: df.apply(f, 1),\n",
    "    )\n",
    "    .assign(\n",
    "        Feat_6 = lambda df: \n",
    "            np.where(\n",
    "                df['tmp_ft_2a']>=df['tmp_ft_2b'],\n",
    "                np.where(df['tmp_ft_1b']==df['tmp_ft_4'], 1, 0),\n",
    "                np.where(df['tmp_ft_1a']==df['tmp_ft_4'], 1, 0),\n",
    "            ),\n",
    "    )\n",
    ")"
   ]
  },
  {
   "cell_type": "code",
   "execution_count": 89,
   "id": "05282609-0328-413d-833e-aa1cb21131a2",
   "metadata": {},
   "outputs": [
    {
     "data": {
      "text/html": [
       "<div>\n",
       "<style scoped>\n",
       "    .dataframe tbody tr th:only-of-type {\n",
       "        vertical-align: middle;\n",
       "    }\n",
       "\n",
       "    .dataframe tbody tr th {\n",
       "        vertical-align: top;\n",
       "    }\n",
       "\n",
       "    .dataframe thead th {\n",
       "        text-align: right;\n",
       "    }\n",
       "</style>\n",
       "<table border=\"1\" class=\"dataframe\">\n",
       "  <thead>\n",
       "    <tr style=\"text-align: right;\">\n",
       "      <th></th>\n",
       "      <th>ITEMNUMBER</th>\n",
       "      <th>Number</th>\n",
       "      <th>ITEMDESCRIPTION</th>\n",
       "      <th>FullDescription</th>\n",
       "      <th>SUPPLIER_ITEM_NUMBER</th>\n",
       "      <th>ManufacturerItemNumber</th>\n",
       "      <th>SUPPLIERNAME</th>\n",
       "      <th>ManufacturerName</th>\n",
       "      <th>UNSPCCode</th>\n",
       "      <th>UNSPSC</th>\n",
       "      <th>Feat_1</th>\n",
       "      <th>Feat_2</th>\n",
       "      <th>Feat_3</th>\n",
       "      <th>Feat_4</th>\n",
       "      <th>Feat_5</th>\n",
       "      <th>Match_Confidence</th>\n",
       "      <th>Match</th>\n",
       "      <th>Comments</th>\n",
       "      <th>Unnamed: 17</th>\n",
       "      <th>Feat_6</th>\n",
       "    </tr>\n",
       "  </thead>\n",
       "  <tbody>\n",
       "    <tr>\n",
       "      <th>0</th>\n",
       "      <td>PYD43600</td>\n",
       "      <td>D43600PDI</td>\n",
       "      <td>Sani Hands ALC Packet with Aloe 5 x8</td>\n",
       "      <td>HAND SANITIZER INSTANT SANI HANDS 100/PK 10PK/CS</td>\n",
       "      <td>D43600</td>\n",
       "      <td>D43600</td>\n",
       "      <td>PDI INC.</td>\n",
       "      <td>PDI, INC.</td>\n",
       "      <td>53131626.0000</td>\n",
       "      <td>99999999</td>\n",
       "      <td>1</td>\n",
       "      <td>100</td>\n",
       "      <td>50</td>\n",
       "      <td>0</td>\n",
       "      <td>0</td>\n",
       "      <td>01 High</td>\n",
       "      <td>Yes</td>\n",
       "      <td>NaN</td>\n",
       "      <td>NaN</td>\n",
       "      <td>1</td>\n",
       "    </tr>\n",
       "    <tr>\n",
       "      <th>1</th>\n",
       "      <td>55AT74635</td>\n",
       "      <td>AT74635</td>\n",
       "      <td>Surgical Face Mask, Fog-Free, with Eyeshield</td>\n",
       "      <td>MASK SURGICAL EYE SHIELD BL 25/BX 4BX/CS</td>\n",
       "      <td>AT74635</td>\n",
       "      <td>AT74635</td>\n",
       "      <td>CARDINAL HEALTH - MED</td>\n",
       "      <td>CARDINAL HEALTH</td>\n",
       "      <td>42131606.0000</td>\n",
       "      <td>42131713</td>\n",
       "      <td>1</td>\n",
       "      <td>100</td>\n",
       "      <td>56</td>\n",
       "      <td>0</td>\n",
       "      <td>0</td>\n",
       "      <td>01 High</td>\n",
       "      <td>Yes</td>\n",
       "      <td>NaN</td>\n",
       "      <td>NaN</td>\n",
       "      <td>1</td>\n",
       "    </tr>\n",
       "    <tr>\n",
       "      <th>2</th>\n",
       "      <td>ZG711NB</td>\n",
       "      <td>ZG711NB</td>\n",
       "      <td>ReliaMed Tubular Elastic Stretch Net Dressing,...</td>\n",
       "      <td>RELIAMED TUBE NET DRSG, NS,LTX,25YD</td>\n",
       "      <td>711NB</td>\n",
       "      <td>ZG711NB</td>\n",
       "      <td>YASCO ENTERPRISE CORP</td>\n",
       "      <td>ASSURAMED INC</td>\n",
       "      <td>42311543.0000</td>\n",
       "      <td>42311543</td>\n",
       "      <td>0</td>\n",
       "      <td>24</td>\n",
       "      <td>52</td>\n",
       "      <td>1</td>\n",
       "      <td>1</td>\n",
       "      <td>03 Low</td>\n",
       "      <td>Yes</td>\n",
       "      <td>NaN</td>\n",
       "      <td>NaN</td>\n",
       "      <td>1</td>\n",
       "    </tr>\n",
       "    <tr>\n",
       "      <th>3</th>\n",
       "      <td>558842</td>\n",
       "      <td>8842</td>\n",
       "      <td>Cardinal Health Latex Exam Gloves, Non-Sterile...</td>\n",
       "      <td>GLOVES LATEX POSITIVE TOUCH PF 4.7 CREAM MD 10...</td>\n",
       "      <td>8842</td>\n",
       "      <td>8842</td>\n",
       "      <td>CARDINAL HEALTH - MED</td>\n",
       "      <td>CARDINAL HEALTH</td>\n",
       "      <td>42132203.0000</td>\n",
       "      <td>42132203</td>\n",
       "      <td>1</td>\n",
       "      <td>100</td>\n",
       "      <td>51</td>\n",
       "      <td>0</td>\n",
       "      <td>1</td>\n",
       "      <td>01 High</td>\n",
       "      <td>Yes</td>\n",
       "      <td>NaN</td>\n",
       "      <td>NaN</td>\n",
       "      <td>1</td>\n",
       "    </tr>\n",
       "    <tr>\n",
       "      <th>4</th>\n",
       "      <td>GL705</td>\n",
       "      <td>GL705</td>\n",
       "      <td>Surgilast Tubular Elastic Dressing Retainer, S...</td>\n",
       "      <td>DRESSING SURGILAST SZ 5</td>\n",
       "      <td>GL-705</td>\n",
       "      <td>GL705</td>\n",
       "      <td>INTEGRA LIFESCIENCES</td>\n",
       "      <td>INTEGRA LIFESCIENCES SALES LLC</td>\n",
       "      <td>42311543.0000</td>\n",
       "      <td>42311543</td>\n",
       "      <td>0</td>\n",
       "      <td>100</td>\n",
       "      <td>93</td>\n",
       "      <td>1</td>\n",
       "      <td>1</td>\n",
       "      <td>02 Med</td>\n",
       "      <td>Yes</td>\n",
       "      <td>NaN</td>\n",
       "      <td>NaN</td>\n",
       "      <td>1</td>\n",
       "    </tr>\n",
       "  </tbody>\n",
       "</table>\n",
       "</div>"
      ],
      "text/plain": [
       "  ITEMNUMBER     Number                                    ITEMDESCRIPTION  \\\n",
       "0   PYD43600  D43600PDI               Sani Hands ALC Packet with Aloe 5 x8   \n",
       "1  55AT74635    AT74635       Surgical Face Mask, Fog-Free, with Eyeshield   \n",
       "2    ZG711NB    ZG711NB  ReliaMed Tubular Elastic Stretch Net Dressing,...   \n",
       "3     558842       8842  Cardinal Health Latex Exam Gloves, Non-Sterile...   \n",
       "4      GL705      GL705  Surgilast Tubular Elastic Dressing Retainer, S...   \n",
       "\n",
       "                                     FullDescription SUPPLIER_ITEM_NUMBER  \\\n",
       "0   HAND SANITIZER INSTANT SANI HANDS 100/PK 10PK/CS               D43600   \n",
       "1           MASK SURGICAL EYE SHIELD BL 25/BX 4BX/CS              AT74635   \n",
       "2                RELIAMED TUBE NET DRSG, NS,LTX,25YD                711NB   \n",
       "3  GLOVES LATEX POSITIVE TOUCH PF 4.7 CREAM MD 10...                 8842   \n",
       "4                            DRESSING SURGILAST SZ 5               GL-705   \n",
       "\n",
       "  ManufacturerItemNumber           SUPPLIERNAME  \\\n",
       "0                 D43600               PDI INC.   \n",
       "1                AT74635  CARDINAL HEALTH - MED   \n",
       "2                ZG711NB  YASCO ENTERPRISE CORP   \n",
       "3                   8842  CARDINAL HEALTH - MED   \n",
       "4                  GL705   INTEGRA LIFESCIENCES   \n",
       "\n",
       "                 ManufacturerName     UNSPCCode    UNSPSC  Feat_1  Feat_2  \\\n",
       "0                       PDI, INC. 53131626.0000  99999999       1     100   \n",
       "1                 CARDINAL HEALTH 42131606.0000  42131713       1     100   \n",
       "2                   ASSURAMED INC 42311543.0000  42311543       0      24   \n",
       "3                 CARDINAL HEALTH 42132203.0000  42132203       1     100   \n",
       "4  INTEGRA LIFESCIENCES SALES LLC 42311543.0000  42311543       0     100   \n",
       "\n",
       "   Feat_3  Feat_4  Feat_5 Match_Confidence Match Comments Unnamed: 17  Feat_6  \n",
       "0      50       0       0          01 High   Yes      NaN         NaN       1  \n",
       "1      56       0       0          01 High   Yes      NaN         NaN       1  \n",
       "2      52       1       1           03 Low   Yes      NaN         NaN       1  \n",
       "3      51       0       1          01 High   Yes      NaN         NaN       1  \n",
       "4      93       1       1           02 Med   Yes      NaN         NaN       1  "
      ]
     },
     "execution_count": 89,
     "metadata": {},
     "output_type": "execute_result"
    }
   ],
   "source": [
    "feat_df = raw_feat_df.drop([x for x in raw_feat_df if x.startswith('tmp_ft_')], 1)\n",
    "feat_df.head(5)"
   ]
  },
  {
   "cell_type": "markdown",
   "id": "19cbeaee-9f4c-4461-adca-4ad821b98a94",
   "metadata": {},
   "source": [
    "#### Train and Test Split"
   ]
  },
  {
   "cell_type": "code",
   "execution_count": 90,
   "id": "1c3e8575-6489-44e8-98d2-fffd3196af93",
   "metadata": {},
   "outputs": [],
   "source": [
    "raw_trn_df, raw_tst_df = train_test_split(feat_df, test_size=0.2, random_state=42)"
   ]
  },
  {
   "cell_type": "code",
   "execution_count": 91,
   "id": "467f9acc-9a62-45c4-9c78-f09ec815a96b",
   "metadata": {},
   "outputs": [
    {
     "name": "stdout",
     "output_type": "stream",
     "text": [
      "<class 'pandas.core.frame.DataFrame'>\n",
      "Int64Index: 1668 entries, 1866 to 860\n",
      "Data columns (total 20 columns):\n",
      " #   Column                  Non-Null Count  Dtype  \n",
      "---  ------                  --------------  -----  \n",
      " 0   ITEMNUMBER              1668 non-null   object \n",
      " 1   Number                  1668 non-null   object \n",
      " 2   ITEMDESCRIPTION         1668 non-null   object \n",
      " 3   FullDescription         1668 non-null   object \n",
      " 4   SUPPLIER_ITEM_NUMBER    1668 non-null   object \n",
      " 5   ManufacturerItemNumber  1668 non-null   object \n",
      " 6   SUPPLIERNAME            1668 non-null   object \n",
      " 7   ManufacturerName        1668 non-null   object \n",
      " 8   UNSPCCode               1646 non-null   float64\n",
      " 9   UNSPSC                  1668 non-null   int64  \n",
      " 10  Feat_1                  1668 non-null   int64  \n",
      " 11  Feat_2                  1668 non-null   int64  \n",
      " 12  Feat_3                  1668 non-null   int64  \n",
      " 13  Feat_4                  1668 non-null   int64  \n",
      " 14  Feat_5                  1668 non-null   int64  \n",
      " 15  Match_Confidence        1668 non-null   object \n",
      " 16  Match                   1668 non-null   object \n",
      " 17  Comments                4 non-null      object \n",
      " 18  Unnamed: 17             0 non-null      object \n",
      " 19  Feat_6                  1668 non-null   int32  \n",
      "dtypes: float64(1), int32(1), int64(6), object(12)\n",
      "memory usage: 267.1+ KB\n"
     ]
    }
   ],
   "source": [
    "raw_trn_df.info()"
   ]
  },
  {
   "cell_type": "code",
   "execution_count": 92,
   "id": "7090630e-feac-4879-9e99-86b984632dd5",
   "metadata": {},
   "outputs": [
    {
     "data": {
      "text/plain": [
       "No     1015\n",
       "Yes     653\n",
       "Name: Match, dtype: int64"
      ]
     },
     "execution_count": 92,
     "metadata": {},
     "output_type": "execute_result"
    }
   ],
   "source": [
    "raw_trn_df.Match.value_counts()"
   ]
  },
  {
   "cell_type": "code",
   "execution_count": 93,
   "id": "bed0d2ca-e590-4e14-8298-ba1b689f69bd",
   "metadata": {},
   "outputs": [
    {
     "name": "stdout",
     "output_type": "stream",
     "text": [
      "<class 'pandas.core.frame.DataFrame'>\n",
      "Int64Index: 417 entries, 1403 to 303\n",
      "Data columns (total 20 columns):\n",
      " #   Column                  Non-Null Count  Dtype  \n",
      "---  ------                  --------------  -----  \n",
      " 0   ITEMNUMBER              417 non-null    object \n",
      " 1   Number                  417 non-null    object \n",
      " 2   ITEMDESCRIPTION         417 non-null    object \n",
      " 3   FullDescription         417 non-null    object \n",
      " 4   SUPPLIER_ITEM_NUMBER    417 non-null    object \n",
      " 5   ManufacturerItemNumber  417 non-null    object \n",
      " 6   SUPPLIERNAME            417 non-null    object \n",
      " 7   ManufacturerName        417 non-null    object \n",
      " 8   UNSPCCode               411 non-null    float64\n",
      " 9   UNSPSC                  417 non-null    int64  \n",
      " 10  Feat_1                  417 non-null    int64  \n",
      " 11  Feat_2                  417 non-null    int64  \n",
      " 12  Feat_3                  417 non-null    int64  \n",
      " 13  Feat_4                  417 non-null    int64  \n",
      " 14  Feat_5                  417 non-null    int64  \n",
      " 15  Match_Confidence        417 non-null    object \n",
      " 16  Match                   417 non-null    object \n",
      " 17  Comments                0 non-null      object \n",
      " 18  Unnamed: 17             1 non-null      object \n",
      " 19  Feat_6                  417 non-null    int32  \n",
      "dtypes: float64(1), int32(1), int64(6), object(12)\n",
      "memory usage: 66.8+ KB\n"
     ]
    }
   ],
   "source": [
    "raw_tst_df.info()"
   ]
  },
  {
   "cell_type": "code",
   "execution_count": 94,
   "id": "ba524850-175c-4dbc-a301-9b58e44e4217",
   "metadata": {},
   "outputs": [
    {
     "data": {
      "text/plain": [
       "No     261\n",
       "Yes    156\n",
       "Name: Match, dtype: int64"
      ]
     },
     "execution_count": 94,
     "metadata": {},
     "output_type": "execute_result"
    }
   ],
   "source": [
    "raw_tst_df.Match.value_counts()"
   ]
  },
  {
   "cell_type": "markdown",
   "id": "85e7d6a6-057e-4e0f-bb91-f351d6e07294",
   "metadata": {},
   "source": [
    "## Save Data to Modeling Environment"
   ]
  },
  {
   "cell_type": "code",
   "execution_count": 97,
   "id": "ae45ec1a-f5d4-454b-af83-21d7b9e59fd3",
   "metadata": {},
   "outputs": [],
   "source": [
    "raw_trn_df.reset_index(drop=True).to_pickle(oput_dir + trn_oput_file_name)"
   ]
  },
  {
   "cell_type": "code",
   "execution_count": 98,
   "id": "96e56491-9b3d-4b8f-af3b-7ad42007dc70",
   "metadata": {},
   "outputs": [],
   "source": [
    "raw_tst_df.reset_index(drop=True).to_pickle(oput_dir + tst_oput_file_name)"
   ]
  },
  {
   "cell_type": "code",
   "execution_count": null,
   "id": "410c525e-b509-45d3-93e1-d3a8c69322be",
   "metadata": {},
   "outputs": [],
   "source": []
  }
 ],
 "metadata": {
  "kernelspec": {
   "display_name": "Python 3 (ipykernel)",
   "language": "python",
   "name": "python3"
  },
  "language_info": {
   "codemirror_mode": {
    "name": "ipython",
    "version": 3
   },
   "file_extension": ".py",
   "mimetype": "text/x-python",
   "name": "python",
   "nbconvert_exporter": "python",
   "pygments_lexer": "ipython3",
   "version": "3.9.12"
  }
 },
 "nbformat": 4,
 "nbformat_minor": 5
}
