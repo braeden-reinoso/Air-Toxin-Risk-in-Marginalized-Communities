{
 "cells": [
  {
   "cell_type": "code",
   "execution_count": 106,
   "metadata": {},
   "outputs": [],
   "source": [
    "import pandas as pd\n",
    "import numpy as np\n",
    "import matplotlib.pyplot as plt\n",
    "from sklearn.preprocessing import MinMaxScaler\n",
    "from sklearn.model_selection import train_test_split, GridSearchCV\n",
    "from sklearn.tree import DecisionTreeClassifier\n",
    "from sklearn.ensemble import AdaBoostClassifier\n",
    "from sklearn.metrics import confusion_matrix, ConfusionMatrixDisplay, accuracy_score\n",
    "from sklearn.metrics import precision_score, recall_score, f1_score, classification_report"
   ]
  },
  {
   "cell_type": "code",
   "execution_count": 107,
   "metadata": {},
   "outputs": [
    {
     "data": {
      "text/plain": [
       "Index(['ID', 'NAME', 'STATE_NAME', 'ST_ABBREV', 'CNTY_NAME', 'REGION',\n",
       "       'AREALAND', 'pop_tot', 'pop_white_only', 'pop_black', 'pop_asian',\n",
       "       'pop_hispanic_latino_any', 'industry_tot', 'industry_ag_for',\n",
       "       'industry_const', 'industry_manu', 'industry_transp', 'pop_density',\n",
       "       'poverty_pct', 'income_median', 'health_ins_tot', 'health_ins_yes',\n",
       "       'health_ins_no', 'PM25', 'OZONE', 'DSLPM', 'PTRAF', 'PRE1960PCT',\n",
       "       'PNPL', 'PRMP', 'PTSDF', 'UST', 'PWDIS', 'pct_pop_white_only',\n",
       "       'pct_pop_black', 'pct_pop_asian', 'pct_pop_hispanic_latino_any',\n",
       "       'prim_ind_share', 'sec_ind_share', 'health_ins_pct',\n",
       "       'theil_income_median'],\n",
       "      dtype='object')"
      ]
     },
     "execution_count": 107,
     "metadata": {},
     "output_type": "execute_result"
    }
   ],
   "source": [
    "df = pd.read_csv(\"../../data/census_epa_theil_cleaned.csv\")\n",
    "df.columns"
   ]
  },
  {
   "cell_type": "code",
   "execution_count": 108,
   "metadata": {},
   "outputs": [
    {
     "name": "stdout",
     "output_type": "stream",
     "text": [
      "<class 'pandas.core.frame.DataFrame'>\n",
      "RangeIndex: 80151 entries, 0 to 80150\n",
      "Data columns (total 20 columns):\n",
      " #   Column                       Non-Null Count  Dtype  \n",
      "---  ------                       --------------  -----  \n",
      " 0   pct_pop_white_only           80151 non-null  float64\n",
      " 1   pct_pop_black                80151 non-null  float64\n",
      " 2   pct_pop_asian                80151 non-null  float64\n",
      " 3   pct_pop_hispanic_latino_any  80151 non-null  float64\n",
      " 4   pop_density                  80151 non-null  float64\n",
      " 5   prim_ind_share               80151 non-null  float64\n",
      " 6   sec_ind_share                80151 non-null  float64\n",
      " 7   poverty_pct                  80151 non-null  float64\n",
      " 8   theil_income_median          80151 non-null  float64\n",
      " 9   health_ins_pct               80151 non-null  float64\n",
      " 10  PM25                         80151 non-null  float64\n",
      " 11  OZONE                        80151 non-null  float64\n",
      " 12  DSLPM                        80151 non-null  float64\n",
      " 13  PTRAF                        80151 non-null  float64\n",
      " 14  PRE1960PCT                   80151 non-null  float64\n",
      " 15  PNPL                         80151 non-null  float64\n",
      " 16  PRMP                         80151 non-null  float64\n",
      " 17  PTSDF                        80151 non-null  float64\n",
      " 18  UST                          80151 non-null  float64\n",
      " 19  PWDIS                        80151 non-null  float64\n",
      "dtypes: float64(20)\n",
      "memory usage: 12.2 MB\n"
     ]
    }
   ],
   "source": [
    "df = df[['pct_pop_white_only', 'pct_pop_black', 'pct_pop_asian', 'pct_pop_hispanic_latino_any',\n",
    "        'pop_density', 'prim_ind_share', 'sec_ind_share', 'poverty_pct', 'theil_income_median', 'health_ins_pct',\n",
    "        'PM25', 'OZONE', 'DSLPM', 'PTRAF', 'PRE1960PCT', 'PNPL', 'PRMP', 'PTSDF', 'UST', 'PWDIS']]\n",
    "\n",
    "df.info()"
   ]
  },
  {
   "cell_type": "code",
   "execution_count": 109,
   "metadata": {},
   "outputs": [
    {
     "data": {
      "text/html": [
       "<div>\n",
       "<style scoped>\n",
       "    .dataframe tbody tr th:only-of-type {\n",
       "        vertical-align: middle;\n",
       "    }\n",
       "\n",
       "    .dataframe tbody tr th {\n",
       "        vertical-align: top;\n",
       "    }\n",
       "\n",
       "    .dataframe thead th {\n",
       "        text-align: right;\n",
       "    }\n",
       "</style>\n",
       "<table border=\"1\" class=\"dataframe\">\n",
       "  <thead>\n",
       "    <tr style=\"text-align: right;\">\n",
       "      <th></th>\n",
       "      <th>pct_pop_white_only</th>\n",
       "      <th>pct_pop_black</th>\n",
       "      <th>pct_pop_asian</th>\n",
       "      <th>pct_pop_hispanic_latino_any</th>\n",
       "      <th>pop_density</th>\n",
       "      <th>prim_ind_share</th>\n",
       "      <th>sec_ind_share</th>\n",
       "      <th>poverty_pct</th>\n",
       "      <th>theil_income_median</th>\n",
       "      <th>health_ins_pct</th>\n",
       "      <th>PM25</th>\n",
       "      <th>OZONE</th>\n",
       "      <th>DSLPM</th>\n",
       "      <th>PTRAF</th>\n",
       "      <th>PRE1960PCT</th>\n",
       "      <th>PNPL</th>\n",
       "      <th>PRMP</th>\n",
       "      <th>PTSDF</th>\n",
       "      <th>UST</th>\n",
       "      <th>PWDIS</th>\n",
       "    </tr>\n",
       "  </thead>\n",
       "  <tbody>\n",
       "    <tr>\n",
       "      <th>0</th>\n",
       "      <td>83.863763</td>\n",
       "      <td>11.111111</td>\n",
       "      <td>2.400893</td>\n",
       "      <td>1.563372</td>\n",
       "      <td>182.284436</td>\n",
       "      <td>0.111669</td>\n",
       "      <td>4.969291</td>\n",
       "      <td>15.4</td>\n",
       "      <td>3.244928e-06</td>\n",
       "      <td>90.954774</td>\n",
       "      <td>9.693224</td>\n",
       "      <td>59.94949</td>\n",
       "      <td>0.161449</td>\n",
       "      <td>12.358415</td>\n",
       "      <td>0.289474</td>\n",
       "      <td>0.066498</td>\n",
       "      <td>0.077498</td>\n",
       "      <td>0.062147</td>\n",
       "      <td>0.330720</td>\n",
       "      <td>0.086036</td>\n",
       "    </tr>\n",
       "    <tr>\n",
       "      <th>1</th>\n",
       "      <td>39.054726</td>\n",
       "      <td>58.457711</td>\n",
       "      <td>2.736318</td>\n",
       "      <td>0.497512</td>\n",
       "      <td>605.272556</td>\n",
       "      <td>0.000000</td>\n",
       "      <td>6.746712</td>\n",
       "      <td>6.6</td>\n",
       "      <td>4.435235e-06</td>\n",
       "      <td>93.024585</td>\n",
       "      <td>9.722213</td>\n",
       "      <td>60.02012</td>\n",
       "      <td>0.176942</td>\n",
       "      <td>65.510247</td>\n",
       "      <td>0.294511</td>\n",
       "      <td>0.072671</td>\n",
       "      <td>0.082691</td>\n",
       "      <td>0.067863</td>\n",
       "      <td>2.208384</td>\n",
       "      <td>0.097622</td>\n",
       "    </tr>\n",
       "    <tr>\n",
       "      <th>2</th>\n",
       "      <td>68.017892</td>\n",
       "      <td>30.891809</td>\n",
       "      <td>3.634330</td>\n",
       "      <td>0.363433</td>\n",
       "      <td>668.689248</td>\n",
       "      <td>0.000000</td>\n",
       "      <td>7.450098</td>\n",
       "      <td>17.2</td>\n",
       "      <td>1.944627e-06</td>\n",
       "      <td>96.232780</td>\n",
       "      <td>9.743874</td>\n",
       "      <td>59.90393</td>\n",
       "      <td>0.204497</td>\n",
       "      <td>46.665740</td>\n",
       "      <td>0.087077</td>\n",
       "      <td>0.075500</td>\n",
       "      <td>0.082142</td>\n",
       "      <td>0.071178</td>\n",
       "      <td>1.830997</td>\n",
       "      <td>0.001432</td>\n",
       "    </tr>\n",
       "    <tr>\n",
       "      <th>3</th>\n",
       "      <td>89.689637</td>\n",
       "      <td>7.048922</td>\n",
       "      <td>0.920568</td>\n",
       "      <td>0.736454</td>\n",
       "      <td>595.525072</td>\n",
       "      <td>0.079051</td>\n",
       "      <td>11.646904</td>\n",
       "      <td>8.1</td>\n",
       "      <td>7.687476e-07</td>\n",
       "      <td>95.177866</td>\n",
       "      <td>9.766758</td>\n",
       "      <td>59.95221</td>\n",
       "      <td>0.242509</td>\n",
       "      <td>144.572390</td>\n",
       "      <td>0.081486</td>\n",
       "      <td>0.084302</td>\n",
       "      <td>0.087589</td>\n",
       "      <td>0.079793</td>\n",
       "      <td>2.958719</td>\n",
       "      <td>0.000062</td>\n",
       "    </tr>\n",
       "    <tr>\n",
       "      <th>4</th>\n",
       "      <td>75.850262</td>\n",
       "      <td>22.939968</td>\n",
       "      <td>0.639123</td>\n",
       "      <td>2.168455</td>\n",
       "      <td>706.196703</td>\n",
       "      <td>0.000000</td>\n",
       "      <td>3.865074</td>\n",
       "      <td>18.0</td>\n",
       "      <td>2.502762e-06</td>\n",
       "      <td>96.439447</td>\n",
       "      <td>9.781263</td>\n",
       "      <td>59.92819</td>\n",
       "      <td>0.261567</td>\n",
       "      <td>73.784886</td>\n",
       "      <td>0.005914</td>\n",
       "      <td>0.106715</td>\n",
       "      <td>0.103047</td>\n",
       "      <td>0.100418</td>\n",
       "      <td>3.004055</td>\n",
       "      <td>0.017290</td>\n",
       "    </tr>\n",
       "  </tbody>\n",
       "</table>\n",
       "</div>"
      ],
      "text/plain": [
       "   pct_pop_white_only  pct_pop_black  pct_pop_asian  \\\n",
       "0           83.863763      11.111111       2.400893   \n",
       "1           39.054726      58.457711       2.736318   \n",
       "2           68.017892      30.891809       3.634330   \n",
       "3           89.689637       7.048922       0.920568   \n",
       "4           75.850262      22.939968       0.639123   \n",
       "\n",
       "   pct_pop_hispanic_latino_any  pop_density  prim_ind_share  sec_ind_share  \\\n",
       "0                     1.563372   182.284436        0.111669       4.969291   \n",
       "1                     0.497512   605.272556        0.000000       6.746712   \n",
       "2                     0.363433   668.689248        0.000000       7.450098   \n",
       "3                     0.736454   595.525072        0.079051      11.646904   \n",
       "4                     2.168455   706.196703        0.000000       3.865074   \n",
       "\n",
       "   poverty_pct  theil_income_median  health_ins_pct      PM25     OZONE  \\\n",
       "0         15.4         3.244928e-06       90.954774  9.693224  59.94949   \n",
       "1          6.6         4.435235e-06       93.024585  9.722213  60.02012   \n",
       "2         17.2         1.944627e-06       96.232780  9.743874  59.90393   \n",
       "3          8.1         7.687476e-07       95.177866  9.766758  59.95221   \n",
       "4         18.0         2.502762e-06       96.439447  9.781263  59.92819   \n",
       "\n",
       "      DSLPM       PTRAF  PRE1960PCT      PNPL      PRMP     PTSDF       UST  \\\n",
       "0  0.161449   12.358415    0.289474  0.066498  0.077498  0.062147  0.330720   \n",
       "1  0.176942   65.510247    0.294511  0.072671  0.082691  0.067863  2.208384   \n",
       "2  0.204497   46.665740    0.087077  0.075500  0.082142  0.071178  1.830997   \n",
       "3  0.242509  144.572390    0.081486  0.084302  0.087589  0.079793  2.958719   \n",
       "4  0.261567   73.784886    0.005914  0.106715  0.103047  0.100418  3.004055   \n",
       "\n",
       "      PWDIS  \n",
       "0  0.086036  \n",
       "1  0.097622  \n",
       "2  0.001432  \n",
       "3  0.000062  \n",
       "4  0.017290  "
      ]
     },
     "execution_count": 109,
     "metadata": {},
     "output_type": "execute_result"
    }
   ],
   "source": [
    "df.head()"
   ]
  },
  {
   "cell_type": "code",
   "execution_count": 110,
   "metadata": {},
   "outputs": [
    {
     "data": {
      "text/html": [
       "<div>\n",
       "<style scoped>\n",
       "    .dataframe tbody tr th:only-of-type {\n",
       "        vertical-align: middle;\n",
       "    }\n",
       "\n",
       "    .dataframe tbody tr th {\n",
       "        vertical-align: top;\n",
       "    }\n",
       "\n",
       "    .dataframe thead th {\n",
       "        text-align: right;\n",
       "    }\n",
       "</style>\n",
       "<table border=\"1\" class=\"dataframe\">\n",
       "  <thead>\n",
       "    <tr style=\"text-align: right;\">\n",
       "      <th></th>\n",
       "      <th>pct_pop_white_only</th>\n",
       "      <th>pct_pop_black</th>\n",
       "      <th>pct_pop_asian</th>\n",
       "      <th>pct_pop_hispanic_latino_any</th>\n",
       "      <th>pop_density</th>\n",
       "      <th>prim_ind_share</th>\n",
       "      <th>sec_ind_share</th>\n",
       "      <th>poverty_pct</th>\n",
       "      <th>theil_income_median</th>\n",
       "      <th>health_ins_pct</th>\n",
       "      <th>PM25</th>\n",
       "      <th>OZONE</th>\n",
       "      <th>DSLPM</th>\n",
       "      <th>PTRAF</th>\n",
       "      <th>PRE1960PCT</th>\n",
       "      <th>PNPL</th>\n",
       "      <th>PRMP</th>\n",
       "      <th>PTSDF</th>\n",
       "      <th>UST</th>\n",
       "      <th>PWDIS</th>\n",
       "    </tr>\n",
       "  </thead>\n",
       "  <tbody>\n",
       "    <tr>\n",
       "      <th>0</th>\n",
       "      <td>83.863763</td>\n",
       "      <td>11.111111</td>\n",
       "      <td>2.400893</td>\n",
       "      <td>1.563372</td>\n",
       "      <td>182.284436</td>\n",
       "      <td>0.111669</td>\n",
       "      <td>4.969291</td>\n",
       "      <td>15.4</td>\n",
       "      <td>3.244928e-06</td>\n",
       "      <td>90.954774</td>\n",
       "      <td>1</td>\n",
       "      <td>59.94949</td>\n",
       "      <td>0.161449</td>\n",
       "      <td>12.358415</td>\n",
       "      <td>0.289474</td>\n",
       "      <td>0.066498</td>\n",
       "      <td>0.077498</td>\n",
       "      <td>0.062147</td>\n",
       "      <td>0.330720</td>\n",
       "      <td>0.086036</td>\n",
       "    </tr>\n",
       "    <tr>\n",
       "      <th>1</th>\n",
       "      <td>39.054726</td>\n",
       "      <td>58.457711</td>\n",
       "      <td>2.736318</td>\n",
       "      <td>0.497512</td>\n",
       "      <td>605.272556</td>\n",
       "      <td>0.000000</td>\n",
       "      <td>6.746712</td>\n",
       "      <td>6.6</td>\n",
       "      <td>4.435235e-06</td>\n",
       "      <td>93.024585</td>\n",
       "      <td>1</td>\n",
       "      <td>60.02012</td>\n",
       "      <td>0.176942</td>\n",
       "      <td>65.510247</td>\n",
       "      <td>0.294511</td>\n",
       "      <td>0.072671</td>\n",
       "      <td>0.082691</td>\n",
       "      <td>0.067863</td>\n",
       "      <td>2.208384</td>\n",
       "      <td>0.097622</td>\n",
       "    </tr>\n",
       "    <tr>\n",
       "      <th>2</th>\n",
       "      <td>68.017892</td>\n",
       "      <td>30.891809</td>\n",
       "      <td>3.634330</td>\n",
       "      <td>0.363433</td>\n",
       "      <td>668.689248</td>\n",
       "      <td>0.000000</td>\n",
       "      <td>7.450098</td>\n",
       "      <td>17.2</td>\n",
       "      <td>1.944627e-06</td>\n",
       "      <td>96.232780</td>\n",
       "      <td>1</td>\n",
       "      <td>59.90393</td>\n",
       "      <td>0.204497</td>\n",
       "      <td>46.665740</td>\n",
       "      <td>0.087077</td>\n",
       "      <td>0.075500</td>\n",
       "      <td>0.082142</td>\n",
       "      <td>0.071178</td>\n",
       "      <td>1.830997</td>\n",
       "      <td>0.001432</td>\n",
       "    </tr>\n",
       "    <tr>\n",
       "      <th>3</th>\n",
       "      <td>89.689637</td>\n",
       "      <td>7.048922</td>\n",
       "      <td>0.920568</td>\n",
       "      <td>0.736454</td>\n",
       "      <td>595.525072</td>\n",
       "      <td>0.079051</td>\n",
       "      <td>11.646904</td>\n",
       "      <td>8.1</td>\n",
       "      <td>7.687476e-07</td>\n",
       "      <td>95.177866</td>\n",
       "      <td>1</td>\n",
       "      <td>59.95221</td>\n",
       "      <td>0.242509</td>\n",
       "      <td>144.572390</td>\n",
       "      <td>0.081486</td>\n",
       "      <td>0.084302</td>\n",
       "      <td>0.087589</td>\n",
       "      <td>0.079793</td>\n",
       "      <td>2.958719</td>\n",
       "      <td>0.000062</td>\n",
       "    </tr>\n",
       "    <tr>\n",
       "      <th>4</th>\n",
       "      <td>75.850262</td>\n",
       "      <td>22.939968</td>\n",
       "      <td>0.639123</td>\n",
       "      <td>2.168455</td>\n",
       "      <td>706.196703</td>\n",
       "      <td>0.000000</td>\n",
       "      <td>3.865074</td>\n",
       "      <td>18.0</td>\n",
       "      <td>2.502762e-06</td>\n",
       "      <td>96.439447</td>\n",
       "      <td>1</td>\n",
       "      <td>59.92819</td>\n",
       "      <td>0.261567</td>\n",
       "      <td>73.784886</td>\n",
       "      <td>0.005914</td>\n",
       "      <td>0.106715</td>\n",
       "      <td>0.103047</td>\n",
       "      <td>0.100418</td>\n",
       "      <td>3.004055</td>\n",
       "      <td>0.017290</td>\n",
       "    </tr>\n",
       "  </tbody>\n",
       "</table>\n",
       "</div>"
      ],
      "text/plain": [
       "   pct_pop_white_only  pct_pop_black  pct_pop_asian  \\\n",
       "0           83.863763      11.111111       2.400893   \n",
       "1           39.054726      58.457711       2.736318   \n",
       "2           68.017892      30.891809       3.634330   \n",
       "3           89.689637       7.048922       0.920568   \n",
       "4           75.850262      22.939968       0.639123   \n",
       "\n",
       "   pct_pop_hispanic_latino_any  pop_density  prim_ind_share  sec_ind_share  \\\n",
       "0                     1.563372   182.284436        0.111669       4.969291   \n",
       "1                     0.497512   605.272556        0.000000       6.746712   \n",
       "2                     0.363433   668.689248        0.000000       7.450098   \n",
       "3                     0.736454   595.525072        0.079051      11.646904   \n",
       "4                     2.168455   706.196703        0.000000       3.865074   \n",
       "\n",
       "   poverty_pct  theil_income_median  health_ins_pct  PM25     OZONE     DSLPM  \\\n",
       "0         15.4         3.244928e-06       90.954774     1  59.94949  0.161449   \n",
       "1          6.6         4.435235e-06       93.024585     1  60.02012  0.176942   \n",
       "2         17.2         1.944627e-06       96.232780     1  59.90393  0.204497   \n",
       "3          8.1         7.687476e-07       95.177866     1  59.95221  0.242509   \n",
       "4         18.0         2.502762e-06       96.439447     1  59.92819  0.261567   \n",
       "\n",
       "        PTRAF  PRE1960PCT      PNPL      PRMP     PTSDF       UST     PWDIS  \n",
       "0   12.358415    0.289474  0.066498  0.077498  0.062147  0.330720  0.086036  \n",
       "1   65.510247    0.294511  0.072671  0.082691  0.067863  2.208384  0.097622  \n",
       "2   46.665740    0.087077  0.075500  0.082142  0.071178  1.830997  0.001432  \n",
       "3  144.572390    0.081486  0.084302  0.087589  0.079793  2.958719  0.000062  \n",
       "4   73.784886    0.005914  0.106715  0.103047  0.100418  3.004055  0.017290  "
      ]
     },
     "execution_count": 110,
     "metadata": {},
     "output_type": "execute_result"
    }
   ],
   "source": [
    "# clssifying PM25 with >9 as 1 else 0\n",
    "df['PM25'] = np.where(df['PM25'] > 9, 1, 0)\n",
    "df.head()"
   ]
  },
  {
   "cell_type": "code",
   "execution_count": 111,
   "metadata": {},
   "outputs": [
    {
     "data": {
      "text/plain": [
       "(48660, 20)"
      ]
     },
     "execution_count": 111,
     "metadata": {},
     "output_type": "execute_result"
    }
   ],
   "source": [
    "# urban cutoff\n",
    "urbal_df = df[df['pop_density'] >= 500]\n",
    "urbal_df.shape"
   ]
  },
  {
   "cell_type": "code",
   "execution_count": 112,
   "metadata": {},
   "outputs": [],
   "source": [
    "# split dependent and independent variables\n",
    "X = urbal_df.drop(['PM25'], axis=1)\n",
    "y = urbal_df['PM25']"
   ]
  },
  {
   "cell_type": "code",
   "execution_count": 113,
   "metadata": {},
   "outputs": [
    {
     "data": {
      "text/plain": [
       "((48660, 19), (48660,))"
      ]
     },
     "execution_count": 113,
     "metadata": {},
     "output_type": "execute_result"
    }
   ],
   "source": [
    "X.shape, y.shape"
   ]
  },
  {
   "cell_type": "code",
   "execution_count": 114,
   "metadata": {},
   "outputs": [
    {
     "data": {
      "text/plain": [
       "PM25\n",
       "0    32194\n",
       "1    16466\n",
       "Name: count, dtype: int64"
      ]
     },
     "execution_count": 114,
     "metadata": {},
     "output_type": "execute_result"
    }
   ],
   "source": [
    "y.value_counts()"
   ]
  },
  {
   "cell_type": "markdown",
   "metadata": {},
   "source": [
    "### Split the data into training and test sets"
   ]
  },
  {
   "cell_type": "code",
   "execution_count": 115,
   "metadata": {},
   "outputs": [],
   "source": [
    "X_train , X_test, y_train, y_test = train_test_split(X, y, random_state=42, stratify=y)"
   ]
  },
  {
   "cell_type": "code",
   "execution_count": 116,
   "metadata": {},
   "outputs": [
    {
     "name": "stdout",
     "output_type": "stream",
     "text": [
      "Size of train input : (36495, 19)\n",
      "Size of test input : (12165, 19)\n",
      "Length of train output : 36495\n",
      "Length of test output : 12165\n"
     ]
    }
   ],
   "source": [
    "print(\"Size of train input : \" + str(X_train.shape))\n",
    "print(\"Size of test input : \" + str(X_test.shape))\n",
    "print(\"Length of train output : \" + str(len(y_train)))\n",
    "print(\"Length of test output : \" + str(len(y_test)))"
   ]
  },
  {
   "cell_type": "code",
   "execution_count": 117,
   "metadata": {},
   "outputs": [],
   "source": [
    "# use min max scaling for train and test input data\n",
    "min_max_scaler = MinMaxScaler()\n",
    "min_max_scaler.fit(X_train)\n",
    "X_train = min_max_scaler.transform(X_train)\n",
    "X_test = min_max_scaler.transform(X_test)"
   ]
  },
  {
   "cell_type": "markdown",
   "metadata": {},
   "source": [
    "### Create the AdaBoost classification model"
   ]
  },
  {
   "cell_type": "code",
   "execution_count": 118,
   "metadata": {},
   "outputs": [
    {
     "data": {
      "text/html": [
       "<style>#sk-container-id-5 {color: black;}#sk-container-id-5 pre{padding: 0;}#sk-container-id-5 div.sk-toggleable {background-color: white;}#sk-container-id-5 label.sk-toggleable__label {cursor: pointer;display: block;width: 100%;margin-bottom: 0;padding: 0.3em;box-sizing: border-box;text-align: center;}#sk-container-id-5 label.sk-toggleable__label-arrow:before {content: \"▸\";float: left;margin-right: 0.25em;color: #696969;}#sk-container-id-5 label.sk-toggleable__label-arrow:hover:before {color: black;}#sk-container-id-5 div.sk-estimator:hover label.sk-toggleable__label-arrow:before {color: black;}#sk-container-id-5 div.sk-toggleable__content {max-height: 0;max-width: 0;overflow: hidden;text-align: left;background-color: #f0f8ff;}#sk-container-id-5 div.sk-toggleable__content pre {margin: 0.2em;color: black;border-radius: 0.25em;background-color: #f0f8ff;}#sk-container-id-5 input.sk-toggleable__control:checked~div.sk-toggleable__content {max-height: 200px;max-width: 100%;overflow: auto;}#sk-container-id-5 input.sk-toggleable__control:checked~label.sk-toggleable__label-arrow:before {content: \"▾\";}#sk-container-id-5 div.sk-estimator input.sk-toggleable__control:checked~label.sk-toggleable__label {background-color: #d4ebff;}#sk-container-id-5 div.sk-label input.sk-toggleable__control:checked~label.sk-toggleable__label {background-color: #d4ebff;}#sk-container-id-5 input.sk-hidden--visually {border: 0;clip: rect(1px 1px 1px 1px);clip: rect(1px, 1px, 1px, 1px);height: 1px;margin: -1px;overflow: hidden;padding: 0;position: absolute;width: 1px;}#sk-container-id-5 div.sk-estimator {font-family: monospace;background-color: #f0f8ff;border: 1px dotted black;border-radius: 0.25em;box-sizing: border-box;margin-bottom: 0.5em;}#sk-container-id-5 div.sk-estimator:hover {background-color: #d4ebff;}#sk-container-id-5 div.sk-parallel-item::after {content: \"\";width: 100%;border-bottom: 1px solid gray;flex-grow: 1;}#sk-container-id-5 div.sk-label:hover label.sk-toggleable__label {background-color: #d4ebff;}#sk-container-id-5 div.sk-serial::before {content: \"\";position: absolute;border-left: 1px solid gray;box-sizing: border-box;top: 0;bottom: 0;left: 50%;z-index: 0;}#sk-container-id-5 div.sk-serial {display: flex;flex-direction: column;align-items: center;background-color: white;padding-right: 0.2em;padding-left: 0.2em;position: relative;}#sk-container-id-5 div.sk-item {position: relative;z-index: 1;}#sk-container-id-5 div.sk-parallel {display: flex;align-items: stretch;justify-content: center;background-color: white;position: relative;}#sk-container-id-5 div.sk-item::before, #sk-container-id-5 div.sk-parallel-item::before {content: \"\";position: absolute;border-left: 1px solid gray;box-sizing: border-box;top: 0;bottom: 0;left: 50%;z-index: -1;}#sk-container-id-5 div.sk-parallel-item {display: flex;flex-direction: column;z-index: 1;position: relative;background-color: white;}#sk-container-id-5 div.sk-parallel-item:first-child::after {align-self: flex-end;width: 50%;}#sk-container-id-5 div.sk-parallel-item:last-child::after {align-self: flex-start;width: 50%;}#sk-container-id-5 div.sk-parallel-item:only-child::after {width: 0;}#sk-container-id-5 div.sk-dashed-wrapped {border: 1px dashed gray;margin: 0 0.4em 0.5em 0.4em;box-sizing: border-box;padding-bottom: 0.4em;background-color: white;}#sk-container-id-5 div.sk-label label {font-family: monospace;font-weight: bold;display: inline-block;line-height: 1.2em;}#sk-container-id-5 div.sk-label-container {text-align: center;}#sk-container-id-5 div.sk-container {/* jupyter's `normalize.less` sets `[hidden] { display: none; }` but bootstrap.min.css set `[hidden] { display: none !important; }` so we also need the `!important` here to be able to override the default hidden behavior on the sphinx rendered scikit-learn.org. See: https://github.com/scikit-learn/scikit-learn/issues/21755 */display: inline-block !important;position: relative;}#sk-container-id-5 div.sk-text-repr-fallback {display: none;}</style><div id=\"sk-container-id-5\" class=\"sk-top-container\"><div class=\"sk-text-repr-fallback\"><pre>AdaBoostClassifier(estimator=DecisionTreeClassifier(max_depth=2),\n",
       "                   learning_rate=0.5)</pre><b>In a Jupyter environment, please rerun this cell to show the HTML representation or trust the notebook. <br />On GitHub, the HTML representation is unable to render, please try loading this page with nbviewer.org.</b></div><div class=\"sk-container\" hidden><div class=\"sk-item sk-dashed-wrapped\"><div class=\"sk-label-container\"><div class=\"sk-label sk-toggleable\"><input class=\"sk-toggleable__control sk-hidden--visually\" id=\"sk-estimator-id-13\" type=\"checkbox\" ><label for=\"sk-estimator-id-13\" class=\"sk-toggleable__label sk-toggleable__label-arrow\">AdaBoostClassifier</label><div class=\"sk-toggleable__content\"><pre>AdaBoostClassifier(estimator=DecisionTreeClassifier(max_depth=2),\n",
       "                   learning_rate=0.5)</pre></div></div></div><div class=\"sk-parallel\"><div class=\"sk-parallel-item\"><div class=\"sk-item\"><div class=\"sk-label-container\"><div class=\"sk-label sk-toggleable\"><input class=\"sk-toggleable__control sk-hidden--visually\" id=\"sk-estimator-id-14\" type=\"checkbox\" ><label for=\"sk-estimator-id-14\" class=\"sk-toggleable__label sk-toggleable__label-arrow\">estimator: DecisionTreeClassifier</label><div class=\"sk-toggleable__content\"><pre>DecisionTreeClassifier(max_depth=2)</pre></div></div></div><div class=\"sk-serial\"><div class=\"sk-item\"><div class=\"sk-estimator sk-toggleable\"><input class=\"sk-toggleable__control sk-hidden--visually\" id=\"sk-estimator-id-15\" type=\"checkbox\" ><label for=\"sk-estimator-id-15\" class=\"sk-toggleable__label sk-toggleable__label-arrow\">DecisionTreeClassifier</label><div class=\"sk-toggleable__content\"><pre>DecisionTreeClassifier(max_depth=2)</pre></div></div></div></div></div></div></div></div></div></div>"
      ],
      "text/plain": [
       "AdaBoostClassifier(estimator=DecisionTreeClassifier(max_depth=2),\n",
       "                   learning_rate=0.5)"
      ]
     },
     "execution_count": 118,
     "metadata": {},
     "output_type": "execute_result"
    }
   ],
   "source": [
    "ada_clf = AdaBoostClassifier(DecisionTreeClassifier(max_depth=2), n_estimators=50, algorithm='SAMME.R', learning_rate=0.5)\n",
    "ada_clf.fit(X_train, y_train)"
   ]
  },
  {
   "cell_type": "code",
   "execution_count": 119,
   "metadata": {},
   "outputs": [
    {
     "name": "stdout",
     "output_type": "stream",
     "text": [
      "pct_pop_white_only 0.03978793037338989\n",
      "pct_pop_black 0.009912344178661252\n",
      "pct_pop_asian 0.0220939715324162\n",
      "pct_pop_hispanic_latino_any 0.07583931251680866\n",
      "pop_density 0.025196079411459644\n",
      "prim_ind_share 0.020367173128435424\n",
      "sec_ind_share 0.030736352332041746\n",
      "poverty_pct 0.0\n",
      "theil_income_median 0.0075889084435368445\n",
      "health_ins_pct 0.05765753289135105\n",
      "OZONE 0.20218591703300015\n",
      "DSLPM 0.08690538758596038\n",
      "PTRAF 0.028653635818635843\n",
      "PRE1960PCT 0.04554649004489393\n",
      "PNPL 0.12527635057652653\n",
      "PRMP 0.0699139271351869\n",
      "PTSDF 0.0945417544335701\n",
      "UST 0.03658512210926292\n",
      "PWDIS 0.0212118104548625\n"
     ]
    }
   ],
   "source": [
    "# feature importanace score\n",
    "for name, score in zip(X.columns, ada_clf.feature_importances_):\n",
    "    print(name, score)"
   ]
  },
  {
   "cell_type": "code",
   "execution_count": 120,
   "metadata": {},
   "outputs": [
    {
     "data": {
      "image/png": "[encoded data removed]",
      "text/plain": [
       "<Figure size 1000x600 with 1 Axes>"
      ]
     },
     "metadata": {},
     "output_type": "display_data"
    }
   ],
   "source": [
    "plt.figure(figsize=(10, 6))\n",
    "plt.bar(X.columns, ada_clf.feature_importances_)\n",
    "plt.xlabel(\"Features\")\n",
    "plt.ylabel(\"Importalnace score\")\n",
    "plt.xticks(rotation=45, ha='right')\n",
    "plt.show()"
   ]
  },
  {
   "cell_type": "code",
   "execution_count": 121,
   "metadata": {},
   "outputs": [],
   "source": [
    "# looks like ozone has highest impact on PM25"
   ]
  },
  {
   "cell_type": "markdown",
   "metadata": {},
   "source": [
    "### Make predictions"
   ]
  },
  {
   "cell_type": "code",
   "execution_count": 122,
   "metadata": {},
   "outputs": [
    {
     "data": {
      "text/plain": [
       "(12165,)"
      ]
     },
     "execution_count": 122,
     "metadata": {},
     "output_type": "execute_result"
    }
   ],
   "source": [
    "prediction = ada_clf.predict(X_test)\n",
    "prediction.shape"
   ]
  },
  {
   "cell_type": "markdown",
   "metadata": {},
   "source": [
    "### Evaluate the model"
   ]
  },
  {
   "cell_type": "code",
   "execution_count": 123,
   "metadata": {},
   "outputs": [
    {
     "data": {
      "image/png": "[encoded data removed]",
      "text/plain": [
       "<Figure size 640x480 with 2 Axes>"
      ]
     },
     "metadata": {},
     "output_type": "display_data"
    }
   ],
   "source": [
    "cm = confusion_matrix(y_test, prediction)\n",
    "disp = ConfusionMatrixDisplay(confusion_matrix=cm)\n",
    "disp.plot()\n",
    "plt.show()"
   ]
  },
  {
   "cell_type": "code",
   "execution_count": 124,
   "metadata": {},
   "outputs": [
    {
     "name": "stdout",
     "output_type": "stream",
     "text": [
      "Accuracy score 0.8053431976983149\n"
     ]
    }
   ],
   "source": [
    "print('Accuracy score', accuracy_score(y_test, prediction))"
   ]
  },
  {
   "cell_type": "code",
   "execution_count": 125,
   "metadata": {},
   "outputs": [
    {
     "name": "stdout",
     "output_type": "stream",
     "text": [
      "Classification Report : \n",
      "\n",
      "              precision    recall  f1-score   support\n",
      "\n",
      "           0       0.84      0.88      0.86      8049\n",
      "           1       0.74      0.66      0.70      4116\n",
      "\n",
      "    accuracy                           0.81     12165\n",
      "   macro avg       0.79      0.77      0.78     12165\n",
      "weighted avg       0.80      0.81      0.80     12165\n",
      "\n"
     ]
    }
   ],
   "source": [
    "print(\"Classification Report : \\n\")\n",
    "print(classification_report(y_test, prediction))"
   ]
  },
  {
   "cell_type": "code",
   "execution_count": 126,
   "metadata": {},
   "outputs": [
    {
     "name": "stdout",
     "output_type": "stream",
     "text": [
      "Precision : 0.7367280606717227\n",
      "Recall : 0.6608357628765792\n",
      "F1 score : 0.6967213114754098\n"
     ]
    }
   ],
   "source": [
    "print(\"Precision : \" + str(precision_score(y_test, prediction)))\n",
    "print(\"Recall : \" + str(recall_score(y_test, prediction)))\n",
    "print(\"F1 score : \" + str(f1_score(y_test, prediction)))"
   ]
  },
  {
   "cell_type": "markdown",
   "metadata": {},
   "source": [
    "### Tune the AdaBoost hyperparameters"
   ]
  },
  {
   "cell_type": "code",
   "execution_count": 127,
   "metadata": {},
   "outputs": [
    {
     "data": {
      "text/plain": [
       "{'algorithm': 'SAMME.R',\n",
       " 'base_estimator': 'deprecated',\n",
       " 'estimator__ccp_alpha': 0.0,\n",
       " 'estimator__class_weight': None,\n",
       " 'estimator__criterion': 'gini',\n",
       " 'estimator__max_depth': 2,\n",
       " 'estimator__max_features': None,\n",
       " 'estimator__max_leaf_nodes': None,\n",
       " 'estimator__min_impurity_decrease': 0.0,\n",
       " 'estimator__min_samples_leaf': 1,\n",
       " 'estimator__min_samples_split': 2,\n",
       " 'estimator__min_weight_fraction_leaf': 0.0,\n",
       " 'estimator__random_state': None,\n",
       " 'estimator__splitter': 'best',\n",
       " 'estimator': DecisionTreeClassifier(max_depth=2),\n",
       " 'learning_rate': 0.5,\n",
       " 'n_estimators': 50,\n",
       " 'random_state': None}"
      ]
     },
     "execution_count": 127,
     "metadata": {},
     "output_type": "execute_result"
    }
   ],
   "source": [
    "ada_clf.get_params()"
   ]
  },
  {
   "cell_type": "code",
   "execution_count": 133,
   "metadata": {},
   "outputs": [],
   "source": [
    "# Using Grid search to find best parameters\n",
    "\n",
    "gs_param_grid = [{\n",
    "    # 'estimator': [\n",
    "    #     DecisionTreeClassifier(max_depth=2, random_state=42),\n",
    "    #     DecisionTreeClassifier(max_depth=3, random_state=42),\n",
    "    #     DecisionTreeClassifier(max_depth=4, random_state=42),\n",
    "    #     DecisionTreeClassifier(max_depth=5, random_state=42),\n",
    "    # ]\n",
    "    'n_estimators': [50, 100, 200], \n",
    "}]"
   ]
  },
  {
   "cell_type": "code",
   "execution_count": 135,
   "metadata": {},
   "outputs": [
    {
     "name": "stdout",
     "output_type": "stream",
     "text": [
      "Fitting 5 folds for each of 3 candidates, totalling 15 fits\n"
     ]
    },
    {
     "data": {
      "text/html": [
       "<style>#sk-container-id-7 {color: black;}#sk-container-id-7 pre{padding: 0;}#sk-container-id-7 div.sk-toggleable {background-color: white;}#sk-container-id-7 label.sk-toggleable__label {cursor: pointer;display: block;width: 100%;margin-bottom: 0;padding: 0.3em;box-sizing: border-box;text-align: center;}#sk-container-id-7 label.sk-toggleable__label-arrow:before {content: \"▸\";float: left;margin-right: 0.25em;color: #696969;}#sk-container-id-7 label.sk-toggleable__label-arrow:hover:before {color: black;}#sk-container-id-7 div.sk-estimator:hover label.sk-toggleable__label-arrow:before {color: black;}#sk-container-id-7 div.sk-toggleable__content {max-height: 0;max-width: 0;overflow: hidden;text-align: left;background-color: #f0f8ff;}#sk-container-id-7 div.sk-toggleable__content pre {margin: 0.2em;color: black;border-radius: 0.25em;background-color: #f0f8ff;}#sk-container-id-7 input.sk-toggleable__control:checked~div.sk-toggleable__content {max-height: 200px;max-width: 100%;overflow: auto;}#sk-container-id-7 input.sk-toggleable__control:checked~label.sk-toggleable__label-arrow:before {content: \"▾\";}#sk-container-id-7 div.sk-estimator input.sk-toggleable__control:checked~label.sk-toggleable__label {background-color: #d4ebff;}#sk-container-id-7 div.sk-label input.sk-toggleable__control:checked~label.sk-toggleable__label {background-color: #d4ebff;}#sk-container-id-7 input.sk-hidden--visually {border: 0;clip: rect(1px 1px 1px 1px);clip: rect(1px, 1px, 1px, 1px);height: 1px;margin: -1px;overflow: hidden;padding: 0;position: absolute;width: 1px;}#sk-container-id-7 div.sk-estimator {font-family: monospace;background-color: #f0f8ff;border: 1px dotted black;border-radius: 0.25em;box-sizing: border-box;margin-bottom: 0.5em;}#sk-container-id-7 div.sk-estimator:hover {background-color: #d4ebff;}#sk-container-id-7 div.sk-parallel-item::after {content: \"\";width: 100%;border-bottom: 1px solid gray;flex-grow: 1;}#sk-container-id-7 div.sk-label:hover label.sk-toggleable__label {background-color: #d4ebff;}#sk-container-id-7 div.sk-serial::before {content: \"\";position: absolute;border-left: 1px solid gray;box-sizing: border-box;top: 0;bottom: 0;left: 50%;z-index: 0;}#sk-container-id-7 div.sk-serial {display: flex;flex-direction: column;align-items: center;background-color: white;padding-right: 0.2em;padding-left: 0.2em;position: relative;}#sk-container-id-7 div.sk-item {position: relative;z-index: 1;}#sk-container-id-7 div.sk-parallel {display: flex;align-items: stretch;justify-content: center;background-color: white;position: relative;}#sk-container-id-7 div.sk-item::before, #sk-container-id-7 div.sk-parallel-item::before {content: \"\";position: absolute;border-left: 1px solid gray;box-sizing: border-box;top: 0;bottom: 0;left: 50%;z-index: -1;}#sk-container-id-7 div.sk-parallel-item {display: flex;flex-direction: column;z-index: 1;position: relative;background-color: white;}#sk-container-id-7 div.sk-parallel-item:first-child::after {align-self: flex-end;width: 50%;}#sk-container-id-7 div.sk-parallel-item:last-child::after {align-self: flex-start;width: 50%;}#sk-container-id-7 div.sk-parallel-item:only-child::after {width: 0;}#sk-container-id-7 div.sk-dashed-wrapped {border: 1px dashed gray;margin: 0 0.4em 0.5em 0.4em;box-sizing: border-box;padding-bottom: 0.4em;background-color: white;}#sk-container-id-7 div.sk-label label {font-family: monospace;font-weight: bold;display: inline-block;line-height: 1.2em;}#sk-container-id-7 div.sk-label-container {text-align: center;}#sk-container-id-7 div.sk-container {/* jupyter's `normalize.less` sets `[hidden] { display: none; }` but bootstrap.min.css set `[hidden] { display: none !important; }` so we also need the `!important` here to be able to override the default hidden behavior on the sphinx rendered scikit-learn.org. See: https://github.com/scikit-learn/scikit-learn/issues/21755 */display: inline-block !important;position: relative;}#sk-container-id-7 div.sk-text-repr-fallback {display: none;}</style><div id=\"sk-container-id-7\" class=\"sk-top-container\"><div class=\"sk-text-repr-fallback\"><pre>GridSearchCV(cv=5,\n",
       "             estimator=AdaBoostClassifier(estimator=DecisionTreeClassifier(max_depth=2),\n",
       "                                          learning_rate=0.5),\n",
       "             param_grid=[{&#x27;n_estimators&#x27;: [50, 100, 200]}],\n",
       "             return_train_score=True, scoring=&#x27;f1&#x27;, verbose=1)</pre><b>In a Jupyter environment, please rerun this cell to show the HTML representation or trust the notebook. <br />On GitHub, the HTML representation is unable to render, please try loading this page with nbviewer.org.</b></div><div class=\"sk-container\" hidden><div class=\"sk-item sk-dashed-wrapped\"><div class=\"sk-label-container\"><div class=\"sk-label sk-toggleable\"><input class=\"sk-toggleable__control sk-hidden--visually\" id=\"sk-estimator-id-19\" type=\"checkbox\" ><label for=\"sk-estimator-id-19\" class=\"sk-toggleable__label sk-toggleable__label-arrow\">GridSearchCV</label><div class=\"sk-toggleable__content\"><pre>GridSearchCV(cv=5,\n",
       "             estimator=AdaBoostClassifier(estimator=DecisionTreeClassifier(max_depth=2),\n",
       "                                          learning_rate=0.5),\n",
       "             param_grid=[{&#x27;n_estimators&#x27;: [50, 100, 200]}],\n",
       "             return_train_score=True, scoring=&#x27;f1&#x27;, verbose=1)</pre></div></div></div><div class=\"sk-parallel\"><div class=\"sk-parallel-item\"><div class=\"sk-item\"><div class=\"sk-label-container\"><div class=\"sk-label sk-toggleable\"><input class=\"sk-toggleable__control sk-hidden--visually\" id=\"sk-estimator-id-20\" type=\"checkbox\" ><label for=\"sk-estimator-id-20\" class=\"sk-toggleable__label sk-toggleable__label-arrow\">estimator: AdaBoostClassifier</label><div class=\"sk-toggleable__content\"><pre>AdaBoostClassifier(estimator=DecisionTreeClassifier(max_depth=2),\n",
       "                   learning_rate=0.5)</pre></div></div></div><div class=\"sk-serial\"><div class=\"sk-item sk-dashed-wrapped\"><div class=\"sk-parallel\"><div class=\"sk-parallel-item\"><div class=\"sk-item\"><div class=\"sk-label-container\"><div class=\"sk-label sk-toggleable\"><input class=\"sk-toggleable__control sk-hidden--visually\" id=\"sk-estimator-id-21\" type=\"checkbox\" ><label for=\"sk-estimator-id-21\" class=\"sk-toggleable__label sk-toggleable__label-arrow\">estimator: DecisionTreeClassifier</label><div class=\"sk-toggleable__content\"><pre>DecisionTreeClassifier(max_depth=2)</pre></div></div></div><div class=\"sk-serial\"><div class=\"sk-item\"><div class=\"sk-estimator sk-toggleable\"><input class=\"sk-toggleable__control sk-hidden--visually\" id=\"sk-estimator-id-22\" type=\"checkbox\" ><label for=\"sk-estimator-id-22\" class=\"sk-toggleable__label sk-toggleable__label-arrow\">DecisionTreeClassifier</label><div class=\"sk-toggleable__content\"><pre>DecisionTreeClassifier(max_depth=2)</pre></div></div></div></div></div></div></div></div></div></div></div></div></div></div></div>"
      ],
      "text/plain": [
       "GridSearchCV(cv=5,\n",
       "             estimator=AdaBoostClassifier(estimator=DecisionTreeClassifier(max_depth=2),\n",
       "                                          learning_rate=0.5),\n",
       "             param_grid=[{'n_estimators': [50, 100, 200]}],\n",
       "             return_train_score=True, scoring='f1', verbose=1)"
      ]
     },
     "execution_count": 135,
     "metadata": {},
     "output_type": "execute_result"
    }
   ],
   "source": [
    "grid_search = GridSearchCV(ada_clf, gs_param_grid, cv=5, scoring='f1', return_train_score=True, verbose=1)\n",
    "grid_search.fit(X_train, y_train)"
   ]
  },
  {
   "cell_type": "code",
   "execution_count": 136,
   "metadata": {},
   "outputs": [
    {
     "data": {
      "text/plain": [
       "{'n_estimators': 200}"
      ]
     },
     "execution_count": 136,
     "metadata": {},
     "output_type": "execute_result"
    }
   ],
   "source": [
    "grid_search.best_params_"
   ]
  },
  {
   "cell_type": "code",
   "execution_count": 137,
   "metadata": {},
   "outputs": [
    {
     "data": {
      "text/plain": [
       "0.7550570125336593"
      ]
     },
     "execution_count": 137,
     "metadata": {},
     "output_type": "execute_result"
    }
   ],
   "source": [
    "grid_search.best_score_"
   ]
  },
  {
   "cell_type": "code",
   "execution_count": 140,
   "metadata": {},
   "outputs": [
    {
     "name": "stdout",
     "output_type": "stream",
     "text": [
      "f1 on test:  0.7466155810983397\n"
     ]
    }
   ],
   "source": [
    "best_model = grid_search.best_estimator_\n",
    "y_pred = best_model.predict(X_test)\n",
    "f1_score_test = f1_score(y_test, y_pred)\n",
    "print(\"f1 on test: \", f1_score_test)"
   ]
  }
 ],
 "metadata": {
  "kernelspec": {
   "display_name": "Python 3",
   "language": "python",
   "name": "python3"
  },
  "language_info": {
   "codemirror_mode": {
    "name": "ipython",
    "version": 3
   },
   "file_extension": ".py",
   "mimetype": "text/x-python",
   "name": "python",
   "nbconvert_exporter": "python",
   "pygments_lexer": "ipython3",
   "version": "3.11.4"
  }
 },
 "nbformat": 4,
 "nbformat_minor": 2
}
