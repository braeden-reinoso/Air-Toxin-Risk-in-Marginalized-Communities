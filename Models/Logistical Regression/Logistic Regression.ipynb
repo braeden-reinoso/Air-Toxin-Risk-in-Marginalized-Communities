{
 "cells": [
  {
   "cell_type": "code",
   "execution_count": 1,
   "metadata": {},
   "outputs": [],
   "source": [
    "import pandas as pd\n",
    "import numpy as np\n",
    "import matplotlib.pyplot as plt\n",
    "from sklearn.preprocessing import MinMaxScaler\n",
    "from sklearn.model_selection import train_test_split, GridSearchCV\n",
    "from sklearn.linear_model import LogisticRegression\n",
    "from sklearn.tree import DecisionTreeClassifier\n",
    "from sklearn.ensemble import AdaBoostClassifier\n",
    "from sklearn.metrics import precision_score, recall_score, f1_score, fbeta_score, classification_report, precision_recall_curve, confusion_matrix, ConfusionMatrixDisplay, accuracy_score\n",
    "from sklearn.metrics import roc_curve, roc_auc_score\n",
    "import seaborn as sns\n",
    "\n",
    "## This sets the plot style\n",
    "## to have a grid on a white background\n",
    "sns.set_style(\"whitegrid\")"
   ]
  },
  {
   "cell_type": "code",
   "execution_count": 2,
   "metadata": {},
   "outputs": [],
   "source": [
    "# read in the final dataset \n",
    "df = pd.read_csv('../../data/census_epa_theil_cleaned.csv')"
   ]
  },
  {
   "cell_type": "code",
   "execution_count": 3,
   "metadata": {},
   "outputs": [
    {
     "data": {
      "text/plain": [
       "Index(['ID', 'NAME', 'STATE_NAME', 'ST_ABBREV', 'CNTY_NAME', 'REGION',\n",
       "       'AREALAND', 'pop_tot', 'pop_white_only', 'pop_black', 'pop_asian',\n",
       "       'pop_hispanic_latino_any', 'industry_tot', 'industry_ag_for',\n",
       "       'industry_const', 'industry_manu', 'industry_transp', 'pop_density',\n",
       "       'poverty_pct', 'income_median', 'health_ins_tot', 'health_ins_yes',\n",
       "       'health_ins_no', 'PM25', 'OZONE', 'DSLPM', 'PTRAF', 'PRE1960PCT',\n",
       "       'PNPL', 'PRMP', 'PTSDF', 'UST', 'PWDIS', 'pct_pop_white_only',\n",
       "       'pct_pop_black', 'pct_pop_asian', 'pct_pop_hispanic_latino_any',\n",
       "       'prim_ind_share', 'sec_ind_share', 'health_ins_pct',\n",
       "       'theil_income_median'],\n",
       "      dtype='object')"
      ]
     },
     "execution_count": 3,
     "metadata": {},
     "output_type": "execute_result"
    }
   ],
   "source": [
    "df.columns"
   ]
  },
  {
   "cell_type": "code",
   "execution_count": 4,
   "metadata": {},
   "outputs": [
    {
     "name": "stdout",
     "output_type": "stream",
     "text": [
      "<class 'pandas.core.frame.DataFrame'>\n",
      "RangeIndex: 80151 entries, 0 to 80150\n",
      "Data columns (total 20 columns):\n",
      " #   Column                       Non-Null Count  Dtype  \n",
      "---  ------                       --------------  -----  \n",
      " 0   pct_pop_white_only           80151 non-null  float64\n",
      " 1   pct_pop_black                80151 non-null  float64\n",
      " 2   pct_pop_asian                80151 non-null  float64\n",
      " 3   pct_pop_hispanic_latino_any  80151 non-null  float64\n",
      " 4   pop_density                  80151 non-null  float64\n",
      " 5   prim_ind_share               80151 non-null  float64\n",
      " 6   sec_ind_share                80151 non-null  float64\n",
      " 7   poverty_pct                  80151 non-null  float64\n",
      " 8   theil_income_median          80151 non-null  float64\n",
      " 9   health_ins_pct               80151 non-null  float64\n",
      " 10  PM25                         80151 non-null  float64\n",
      " 11  OZONE                        80151 non-null  float64\n",
      " 12  DSLPM                        80151 non-null  float64\n",
      " 13  PTRAF                        80151 non-null  float64\n",
      " 14  PRE1960PCT                   80151 non-null  float64\n",
      " 15  PNPL                         80151 non-null  float64\n",
      " 16  PRMP                         80151 non-null  float64\n",
      " 17  PTSDF                        80151 non-null  float64\n",
      " 18  UST                          80151 non-null  float64\n",
      " 19  PWDIS                        80151 non-null  float64\n",
      "dtypes: float64(20)\n",
      "memory usage: 12.2 MB\n"
     ]
    }
   ],
   "source": [
    "df = df[['pct_pop_white_only', 'pct_pop_black', 'pct_pop_asian', 'pct_pop_hispanic_latino_any',\n",
    "        'pop_density', 'prim_ind_share', 'sec_ind_share', 'poverty_pct', 'theil_income_median', 'health_ins_pct',\n",
    "        'PM25', 'OZONE', 'DSLPM', 'PTRAF', 'PRE1960PCT', 'PNPL', 'PRMP', 'PTSDF', 'UST', 'PWDIS']]\n",
    "df.info()"
   ]
  },
  {
   "cell_type": "code",
   "execution_count": 5,
   "metadata": {},
   "outputs": [
    {
     "data": {
      "text/html": [
       "<div>\n",
       "<style scoped>\n",
       "    .dataframe tbody tr th:only-of-type {\n",
       "        vertical-align: middle;\n",
       "    }\n",
       "\n",
       "    .dataframe tbody tr th {\n",
       "        vertical-align: top;\n",
       "    }\n",
       "\n",
       "    .dataframe thead th {\n",
       "        text-align: right;\n",
       "    }\n",
       "</style>\n",
       "<table border=\"1\" class=\"dataframe\">\n",
       "  <thead>\n",
       "    <tr style=\"text-align: right;\">\n",
       "      <th></th>\n",
       "      <th>pct_pop_white_only</th>\n",
       "      <th>pct_pop_black</th>\n",
       "      <th>pct_pop_asian</th>\n",
       "      <th>pct_pop_hispanic_latino_any</th>\n",
       "      <th>pop_density</th>\n",
       "      <th>prim_ind_share</th>\n",
       "      <th>sec_ind_share</th>\n",
       "      <th>poverty_pct</th>\n",
       "      <th>theil_income_median</th>\n",
       "      <th>health_ins_pct</th>\n",
       "      <th>PM25</th>\n",
       "      <th>OZONE</th>\n",
       "      <th>DSLPM</th>\n",
       "      <th>PTRAF</th>\n",
       "      <th>PRE1960PCT</th>\n",
       "      <th>PNPL</th>\n",
       "      <th>PRMP</th>\n",
       "      <th>PTSDF</th>\n",
       "      <th>UST</th>\n",
       "      <th>PWDIS</th>\n",
       "    </tr>\n",
       "  </thead>\n",
       "  <tbody>\n",
       "    <tr>\n",
       "      <th>0</th>\n",
       "      <td>83.863763</td>\n",
       "      <td>11.111111</td>\n",
       "      <td>2.400893</td>\n",
       "      <td>1.563372</td>\n",
       "      <td>182.284436</td>\n",
       "      <td>0.111669</td>\n",
       "      <td>4.969291</td>\n",
       "      <td>15.4</td>\n",
       "      <td>3.244928e-06</td>\n",
       "      <td>90.954774</td>\n",
       "      <td>1</td>\n",
       "      <td>59.94949</td>\n",
       "      <td>0.161449</td>\n",
       "      <td>12.358415</td>\n",
       "      <td>0.289474</td>\n",
       "      <td>0.066498</td>\n",
       "      <td>0.077498</td>\n",
       "      <td>0.062147</td>\n",
       "      <td>0.330720</td>\n",
       "      <td>0.086036</td>\n",
       "    </tr>\n",
       "    <tr>\n",
       "      <th>1</th>\n",
       "      <td>39.054726</td>\n",
       "      <td>58.457711</td>\n",
       "      <td>2.736318</td>\n",
       "      <td>0.497512</td>\n",
       "      <td>605.272556</td>\n",
       "      <td>0.000000</td>\n",
       "      <td>6.746712</td>\n",
       "      <td>6.6</td>\n",
       "      <td>4.435235e-06</td>\n",
       "      <td>93.024585</td>\n",
       "      <td>1</td>\n",
       "      <td>60.02012</td>\n",
       "      <td>0.176942</td>\n",
       "      <td>65.510247</td>\n",
       "      <td>0.294511</td>\n",
       "      <td>0.072671</td>\n",
       "      <td>0.082691</td>\n",
       "      <td>0.067863</td>\n",
       "      <td>2.208384</td>\n",
       "      <td>0.097622</td>\n",
       "    </tr>\n",
       "    <tr>\n",
       "      <th>2</th>\n",
       "      <td>68.017892</td>\n",
       "      <td>30.891809</td>\n",
       "      <td>3.634330</td>\n",
       "      <td>0.363433</td>\n",
       "      <td>668.689248</td>\n",
       "      <td>0.000000</td>\n",
       "      <td>7.450098</td>\n",
       "      <td>17.2</td>\n",
       "      <td>1.944627e-06</td>\n",
       "      <td>96.232780</td>\n",
       "      <td>1</td>\n",
       "      <td>59.90393</td>\n",
       "      <td>0.204497</td>\n",
       "      <td>46.665740</td>\n",
       "      <td>0.087077</td>\n",
       "      <td>0.075500</td>\n",
       "      <td>0.082142</td>\n",
       "      <td>0.071178</td>\n",
       "      <td>1.830997</td>\n",
       "      <td>0.001432</td>\n",
       "    </tr>\n",
       "    <tr>\n",
       "      <th>3</th>\n",
       "      <td>89.689637</td>\n",
       "      <td>7.048922</td>\n",
       "      <td>0.920568</td>\n",
       "      <td>0.736454</td>\n",
       "      <td>595.525072</td>\n",
       "      <td>0.079051</td>\n",
       "      <td>11.646904</td>\n",
       "      <td>8.1</td>\n",
       "      <td>7.687476e-07</td>\n",
       "      <td>95.177866</td>\n",
       "      <td>1</td>\n",
       "      <td>59.95221</td>\n",
       "      <td>0.242509</td>\n",
       "      <td>144.572390</td>\n",
       "      <td>0.081486</td>\n",
       "      <td>0.084302</td>\n",
       "      <td>0.087589</td>\n",
       "      <td>0.079793</td>\n",
       "      <td>2.958719</td>\n",
       "      <td>0.000062</td>\n",
       "    </tr>\n",
       "    <tr>\n",
       "      <th>4</th>\n",
       "      <td>75.850262</td>\n",
       "      <td>22.939968</td>\n",
       "      <td>0.639123</td>\n",
       "      <td>2.168455</td>\n",
       "      <td>706.196703</td>\n",
       "      <td>0.000000</td>\n",
       "      <td>3.865074</td>\n",
       "      <td>18.0</td>\n",
       "      <td>2.502762e-06</td>\n",
       "      <td>96.439447</td>\n",
       "      <td>1</td>\n",
       "      <td>59.92819</td>\n",
       "      <td>0.261567</td>\n",
       "      <td>73.784886</td>\n",
       "      <td>0.005914</td>\n",
       "      <td>0.106715</td>\n",
       "      <td>0.103047</td>\n",
       "      <td>0.100418</td>\n",
       "      <td>3.004055</td>\n",
       "      <td>0.017290</td>\n",
       "    </tr>\n",
       "  </tbody>\n",
       "</table>\n",
       "</div>"
      ],
      "text/plain": [
       "   pct_pop_white_only  pct_pop_black  pct_pop_asian  \\\n",
       "0           83.863763      11.111111       2.400893   \n",
       "1           39.054726      58.457711       2.736318   \n",
       "2           68.017892      30.891809       3.634330   \n",
       "3           89.689637       7.048922       0.920568   \n",
       "4           75.850262      22.939968       0.639123   \n",
       "\n",
       "   pct_pop_hispanic_latino_any  pop_density  prim_ind_share  sec_ind_share  \\\n",
       "0                     1.563372   182.284436        0.111669       4.969291   \n",
       "1                     0.497512   605.272556        0.000000       6.746712   \n",
       "2                     0.363433   668.689248        0.000000       7.450098   \n",
       "3                     0.736454   595.525072        0.079051      11.646904   \n",
       "4                     2.168455   706.196703        0.000000       3.865074   \n",
       "\n",
       "   poverty_pct  theil_income_median  health_ins_pct  PM25     OZONE     DSLPM  \\\n",
       "0         15.4         3.244928e-06       90.954774     1  59.94949  0.161449   \n",
       "1          6.6         4.435235e-06       93.024585     1  60.02012  0.176942   \n",
       "2         17.2         1.944627e-06       96.232780     1  59.90393  0.204497   \n",
       "3          8.1         7.687476e-07       95.177866     1  59.95221  0.242509   \n",
       "4         18.0         2.502762e-06       96.439447     1  59.92819  0.261567   \n",
       "\n",
       "        PTRAF  PRE1960PCT      PNPL      PRMP     PTSDF       UST     PWDIS  \n",
       "0   12.358415    0.289474  0.066498  0.077498  0.062147  0.330720  0.086036  \n",
       "1   65.510247    0.294511  0.072671  0.082691  0.067863  2.208384  0.097622  \n",
       "2   46.665740    0.087077  0.075500  0.082142  0.071178  1.830997  0.001432  \n",
       "3  144.572390    0.081486  0.084302  0.087589  0.079793  2.958719  0.000062  \n",
       "4   73.784886    0.005914  0.106715  0.103047  0.100418  3.004055  0.017290  "
      ]
     },
     "execution_count": 5,
     "metadata": {},
     "output_type": "execute_result"
    }
   ],
   "source": [
    "# clssifying PM25 with >9 as 1 else 0\n",
    "df['PM25'] = np.where(df['PM25'] > 9, 1, 0)\n",
    "df.head()"
   ]
  },
  {
   "cell_type": "code",
   "execution_count": 6,
   "metadata": {},
   "outputs": [
    {
     "data": {
      "text/plain": [
       "(48660, 20)"
      ]
     },
     "execution_count": 6,
     "metadata": {},
     "output_type": "execute_result"
    }
   ],
   "source": [
    "# urban cutoff\n",
    "urbal_df = df[df['pop_density'] > 500]\n",
    "urbal_df.shape"
   ]
  },
  {
   "cell_type": "code",
   "execution_count": 7,
   "metadata": {},
   "outputs": [],
   "source": [
    "# split dependent and independent variables\n",
    "X = urbal_df.drop(['PM25'], axis=1)\n",
    "y = urbal_df['PM25']"
   ]
  },
  {
   "cell_type": "code",
   "execution_count": 8,
   "metadata": {},
   "outputs": [
    {
     "data": {
      "text/plain": [
       "((48660, 19), (48660,))"
      ]
     },
     "execution_count": 8,
     "metadata": {},
     "output_type": "execute_result"
    }
   ],
   "source": [
    "X.shape, y.shape"
   ]
  },
  {
   "cell_type": "markdown",
   "metadata": {},
   "source": [
    "### Split the data into training and test sets"
   ]
  },
  {
   "cell_type": "code",
   "execution_count": 33,
   "metadata": {},
   "outputs": [],
   "source": [
    "X_train_val, X_test, y_train_val, y_test = train_test_split(X, y, test_size=0.2, random_state=201, stratify=y)\n",
    "X_train, X_val, y_train, y_val = train_test_split(X_train_val, y_train_val, test_size=0.15, random_state=201, stratify=y_train_val)"
   ]
  },
  {
   "cell_type": "code",
   "execution_count": 34,
   "metadata": {},
   "outputs": [
    {
     "name": "stdout",
     "output_type": "stream",
     "text": [
      "Size of train input : (33088, 19)\n",
      "Size of validation input : (5840, 19)\n",
      "Size of test input : (9732, 19)\n",
      "Length of train output : 33088\n",
      "Length of validation output : 5840\n",
      "Length of test output : 9732\n"
     ]
    }
   ],
   "source": [
    "print(\"Size of train input : \" + str(X_train.shape))\n",
    "print(\"Size of validation input : \" + str(X_val.shape))\n",
    "print(\"Size of test input : \" + str(X_test.shape))\n",
    "print(\"Length of train output : \" + str(len(y_train)))\n",
    "print(\"Length of validation output : \" + str(len(y_val)))\n",
    "print(\"Length of test output : \" + str(len(y_test)))"
   ]
  },
  {
   "cell_type": "code",
   "execution_count": 35,
   "metadata": {},
   "outputs": [],
   "source": [
    "# use min max scaling for train and test input data\n",
    "scaler = MinMaxScaler()\n",
    "scaler.fit(X_train)\n",
    "X_train_val = scaler.transform(X_train_val)\n",
    "X_train = scaler.transform(X_train)\n",
    "X_val = scaler.transform(X_val)\n",
    "X_test = scaler.transform(X_test)"
   ]
  },
  {
   "cell_type": "markdown",
   "metadata": {},
   "source": [
    "### Create the Logistic Regression classification model"
   ]
  },
  {
   "cell_type": "code",
   "execution_count": 40,
   "metadata": {},
   "outputs": [
    {
     "data": {
      "text/html": [
       "<style>#sk-container-id-4 {color: black;}#sk-container-id-4 pre{padding: 0;}#sk-container-id-4 div.sk-toggleable {background-color: white;}#sk-container-id-4 label.sk-toggleable__label {cursor: pointer;display: block;width: 100%;margin-bottom: 0;padding: 0.3em;box-sizing: border-box;text-align: center;}#sk-container-id-4 label.sk-toggleable__label-arrow:before {content: \"▸\";float: left;margin-right: 0.25em;color: #696969;}#sk-container-id-4 label.sk-toggleable__label-arrow:hover:before {color: black;}#sk-container-id-4 div.sk-estimator:hover label.sk-toggleable__label-arrow:before {color: black;}#sk-container-id-4 div.sk-toggleable__content {max-height: 0;max-width: 0;overflow: hidden;text-align: left;background-color: #f0f8ff;}#sk-container-id-4 div.sk-toggleable__content pre {margin: 0.2em;color: black;border-radius: 0.25em;background-color: #f0f8ff;}#sk-container-id-4 input.sk-toggleable__control:checked~div.sk-toggleable__content {max-height: 200px;max-width: 100%;overflow: auto;}#sk-container-id-4 input.sk-toggleable__control:checked~label.sk-toggleable__label-arrow:before {content: \"▾\";}#sk-container-id-4 div.sk-estimator input.sk-toggleable__control:checked~label.sk-toggleable__label {background-color: #d4ebff;}#sk-container-id-4 div.sk-label input.sk-toggleable__control:checked~label.sk-toggleable__label {background-color: #d4ebff;}#sk-container-id-4 input.sk-hidden--visually {border: 0;clip: rect(1px 1px 1px 1px);clip: rect(1px, 1px, 1px, 1px);height: 1px;margin: -1px;overflow: hidden;padding: 0;position: absolute;width: 1px;}#sk-container-id-4 div.sk-estimator {font-family: monospace;background-color: #f0f8ff;border: 1px dotted black;border-radius: 0.25em;box-sizing: border-box;margin-bottom: 0.5em;}#sk-container-id-4 div.sk-estimator:hover {background-color: #d4ebff;}#sk-container-id-4 div.sk-parallel-item::after {content: \"\";width: 100%;border-bottom: 1px solid gray;flex-grow: 1;}#sk-container-id-4 div.sk-label:hover label.sk-toggleable__label {background-color: #d4ebff;}#sk-container-id-4 div.sk-serial::before {content: \"\";position: absolute;border-left: 1px solid gray;box-sizing: border-box;top: 0;bottom: 0;left: 50%;z-index: 0;}#sk-container-id-4 div.sk-serial {display: flex;flex-direction: column;align-items: center;background-color: white;padding-right: 0.2em;padding-left: 0.2em;position: relative;}#sk-container-id-4 div.sk-item {position: relative;z-index: 1;}#sk-container-id-4 div.sk-parallel {display: flex;align-items: stretch;justify-content: center;background-color: white;position: relative;}#sk-container-id-4 div.sk-item::before, #sk-container-id-4 div.sk-parallel-item::before {content: \"\";position: absolute;border-left: 1px solid gray;box-sizing: border-box;top: 0;bottom: 0;left: 50%;z-index: -1;}#sk-container-id-4 div.sk-parallel-item {display: flex;flex-direction: column;z-index: 1;position: relative;background-color: white;}#sk-container-id-4 div.sk-parallel-item:first-child::after {align-self: flex-end;width: 50%;}#sk-container-id-4 div.sk-parallel-item:last-child::after {align-self: flex-start;width: 50%;}#sk-container-id-4 div.sk-parallel-item:only-child::after {width: 0;}#sk-container-id-4 div.sk-dashed-wrapped {border: 1px dashed gray;margin: 0 0.4em 0.5em 0.4em;box-sizing: border-box;padding-bottom: 0.4em;background-color: white;}#sk-container-id-4 div.sk-label label {font-family: monospace;font-weight: bold;display: inline-block;line-height: 1.2em;}#sk-container-id-4 div.sk-label-container {text-align: center;}#sk-container-id-4 div.sk-container {/* jupyter's `normalize.less` sets `[hidden] { display: none; }` but bootstrap.min.css set `[hidden] { display: none !important; }` so we also need the `!important` here to be able to override the default hidden behavior on the sphinx rendered scikit-learn.org. See: https://github.com/scikit-learn/scikit-learn/issues/21755 */display: inline-block !important;position: relative;}#sk-container-id-4 div.sk-text-repr-fallback {display: none;}</style><div id=\"sk-container-id-4\" class=\"sk-top-container\"><div class=\"sk-text-repr-fallback\"><pre>LogisticRegression(max_iter=200, random_state=201)</pre><b>In a Jupyter environment, please rerun this cell to show the HTML representation or trust the notebook. <br />On GitHub, the HTML representation is unable to render, please try loading this page with nbviewer.org.</b></div><div class=\"sk-container\" hidden><div class=\"sk-item\"><div class=\"sk-estimator sk-toggleable\"><input class=\"sk-toggleable__control sk-hidden--visually\" id=\"sk-estimator-id-4\" type=\"checkbox\" checked><label for=\"sk-estimator-id-4\" class=\"sk-toggleable__label sk-toggleable__label-arrow\">LogisticRegression</label><div class=\"sk-toggleable__content\"><pre>LogisticRegression(max_iter=200, random_state=201)</pre></div></div></div></div></div>"
      ],
      "text/plain": [
       "LogisticRegression(max_iter=200, random_state=201)"
      ]
     },
     "execution_count": 40,
     "metadata": {},
     "output_type": "execute_result"
    }
   ],
   "source": [
    "lgr_clf = LogisticRegression(random_state=201, max_iter=200)\n",
    "lgr_clf.fit(X_train, y_train)"
   ]
  },
  {
   "cell_type": "code",
   "execution_count": 41,
   "metadata": {},
   "outputs": [],
   "source": [
    "y_pred = lgr_clf.predict(X_val)"
   ]
  },
  {
   "cell_type": "code",
   "execution_count": 42,
   "metadata": {},
   "outputs": [
    {
     "data": {
      "image/png": "[encoded data removed]",
      "text/plain": [
       "<Figure size 640x480 with 2 Axes>"
      ]
     },
     "metadata": {},
     "output_type": "display_data"
    }
   ],
   "source": [
    "cnf_matrix = confusion_matrix(y_val, y_pred)\n",
    "disp = ConfusionMatrixDisplay(confusion_matrix=cnf_matrix)\n",
    "disp.plot()\n",
    "plt.show()"
   ]
  },
  {
   "cell_type": "code",
   "execution_count": 43,
   "metadata": {},
   "outputs": [
    {
     "name": "stdout",
     "output_type": "stream",
     "text": [
      "Classification Report : \n",
      "\n",
      "              precision    recall  f1-score   support\n",
      "\n",
      "    Low Risk       0.73      0.90      0.81      3864\n",
      "   High Risk       0.65      0.36      0.46      1976\n",
      "\n",
      "    accuracy                           0.72      5840\n",
      "   macro avg       0.69      0.63      0.63      5840\n",
      "weighted avg       0.70      0.72      0.69      5840\n",
      "\n"
     ]
    }
   ],
   "source": [
    "target_names = ['Low Risk', 'High Risk']\n",
    "print(\"Classification Report : \\n\")\n",
    "print(classification_report(y_val, y_pred, target_names=target_names))"
   ]
  },
  {
   "cell_type": "code",
   "execution_count": 44,
   "metadata": {},
   "outputs": [
    {
     "name": "stdout",
     "output_type": "stream",
     "text": [
      "precision: 0.6457765667574932 | baseline: 0.33835616438356164\n",
      "recall: 0.3598178137651822 | baseline: 1\n",
      "f1 score: 0.46213844653883646 | baseline: 0.5056294779938588\n",
      "f2 score: 0.3947806774014436 | baseline: 0.7188591385331781\n"
     ]
    }
   ],
   "source": [
    "high_pct = y_val.sum()/len(y_val)\n",
    "\n",
    "print(\"precision: \" + str(precision_score(y_val, y_pred)) + \" | baseline: \" + str(high_pct))\n",
    "print(\"recall: \" + str(recall_score(y_val, y_pred)) + \" | baseline: \" + str(1))\n",
    "print(\"f1 score: \" + str(fbeta_score(y_val, y_pred, beta=1)) + \" | baseline: \" + str(2*high_pct/(high_pct+1)))\n",
    "print(\"f2 score: \" + str(fbeta_score(y_val, y_pred, beta=2)) + \" | baseline: \" + str(5*high_pct/(4*high_pct+1)))"
   ]
  },
  {
   "cell_type": "code",
   "execution_count": 45,
   "metadata": {},
   "outputs": [
    {
     "name": "stderr",
     "output_type": "stream",
     "text": [
      "No artists with labels found to put in legend.  Note that artists whose label start with an underscore are ignored when legend() is called with no argument.\n"
     ]
    },
    {
     "data": {
      "image/png": "[encoded data removed]",
      "text/plain": [
       "<Figure size 800x600 with 1 Axes>"
      ]
     },
     "metadata": {},
     "output_type": "display_data"
    }
   ],
   "source": [
    "y_prob = lgr_clf.predict_proba(X_val)[:,1]\n",
    "precision, recall, _ = precision_recall_curve(y_val, y_prob)\n",
    "\n",
    "plt.figure(figsize=(8, 6))\n",
    "plt.plot(recall, precision)\n",
    "plt.xlabel('Recall')\n",
    "plt.ylabel('Precision')\n",
    "plt.title('Precision-Recall Curve')\n",
    "plt.legend(loc='best')\n",
    "plt.show()"
   ]
  },
  {
   "cell_type": "code",
   "execution_count": 46,
   "metadata": {},
   "outputs": [
    {
     "data": {
      "image/png": "[encoded data removed]",
      "text/plain": [
       "<Figure size 640x480 with 1 Axes>"
      ]
     },
     "metadata": {},
     "output_type": "display_data"
    }
   ],
   "source": [
    "# Receiver Operating Characteristic(ROC) curve is a plot of the true positive rate against the false positive rate. \n",
    "# It shows the tradeoff between sensitivity and specificity.\n",
    "\n",
    "fpr, tpr, _ = roc_curve(y_val,  y_prob)\n",
    "auc = roc_auc_score(y_val, y_prob)\n",
    "plt.plot(fpr,tpr,label=\"auc=\"+str(auc))\n",
    "plt.legend(loc=4)\n",
    "plt.show()\n",
    "\n",
    "# he Area Under the Curve (AUC) is the measure of the ability of a binary classifier to distinguish between classes and is used as a summary of the ROC curve. \n",
    "# The higher the AUC, the better the model's performance at distinguishing between the positive and negative classes."
   ]
  },
  {
   "cell_type": "markdown",
   "metadata": {},
   "source": [
    "### Tune the Logistic Regression hyperparameters"
   ]
  },
  {
   "cell_type": "code",
   "execution_count": 20,
   "metadata": {},
   "outputs": [
    {
     "data": {
      "text/plain": [
       "{'C': 1.0,\n",
       " 'class_weight': None,\n",
       " 'dual': False,\n",
       " 'fit_intercept': True,\n",
       " 'intercept_scaling': 1,\n",
       " 'l1_ratio': None,\n",
       " 'max_iter': 100,\n",
       " 'multi_class': 'auto',\n",
       " 'n_jobs': None,\n",
       " 'penalty': 'l2',\n",
       " 'random_state': 201,\n",
       " 'solver': 'lbfgs',\n",
       " 'tol': 0.0001,\n",
       " 'verbose': 0,\n",
       " 'warm_start': False}"
      ]
     },
     "execution_count": 20,
     "metadata": {},
     "output_type": "execute_result"
    }
   ],
   "source": [
    "lgr_clf.get_params()"
   ]
  },
  {
   "cell_type": "code",
   "execution_count": 21,
   "metadata": {},
   "outputs": [],
   "source": [
    "from sklearn.model_selection import StratifiedKFold\n",
    "kfolds = StratifiedKFold(5)"
   ]
  },
  {
   "cell_type": "code",
   "execution_count": 23,
   "metadata": {},
   "outputs": [],
   "source": [
    "# Define the scoring metrics\n",
    "from sklearn.metrics import make_scorer\n",
    "\n",
    "\n",
    "scoring = {'precision': make_scorer(precision_score),\n",
    "           'recall': make_scorer(recall_score),\n",
    "           'f2': make_scorer(fbeta_score, beta=2)}"
   ]
  },
  {
   "cell_type": "code",
   "execution_count": 29,
   "metadata": {},
   "outputs": [
    {
     "name": "stdout",
     "output_type": "stream",
     "text": [
      "Fitting 5 folds for each of 3 candidates, totalling 15 fits\n",
      "Best parameters :  {'solver': 'newton-cholesky'}\n",
      "Best score :  0.6509474583704662\n"
     ]
    }
   ],
   "source": [
    "# Using Grid search to find best parameters\n",
    "\n",
    "gs_param_grid = [{\n",
    "    'solver': ['liblinear', 'lbfgs', 'newton-cholesky']\n",
    "}]\n",
    "\n",
    "grid_search = GridSearchCV(lgr_clf, gs_param_grid, scoring=scoring, refit='precision', cv=kfolds, verbose=1, n_jobs=5)\n",
    "grid_search.fit(X_train, y_train)\n",
    "\n",
    "print(\"Best parameters : \", grid_search.best_params_)\n",
    "print(\"Best score : \", grid_search.best_score_)"
   ]
  },
  {
   "cell_type": "code",
   "execution_count": 30,
   "metadata": {},
   "outputs": [
    {
     "name": "stdout",
     "output_type": "stream",
     "text": [
      "Best precision : 0.6490428441203282\n",
      "Best recall : 0.3603238866396761\n",
      "Best f2 score : 0.395511609821131\n"
     ]
    }
   ],
   "source": [
    "best_model = grid_search.best_estimator_\n",
    "y_pred = best_model.predict(X_val)\n",
    "print(\"Best precision : \" +str(precision_score(y_val,y_pred)))\n",
    "print(\"Best recall : \" +str(recall_score(y_val,y_pred)))\n",
    "print(\"Best f2 score : \" +str(fbeta_score(y_val,y_pred, beta=2)))"
   ]
  }
 ],
 "metadata": {
  "kernelspec": {
   "display_name": "Python 3",
   "language": "python",
   "name": "python3"
  },
  "language_info": {
   "codemirror_mode": {
    "name": "ipython",
    "version": 3
   },
   "file_extension": ".py",
   "mimetype": "text/x-python",
   "name": "python",
   "nbconvert_exporter": "python",
   "pygments_lexer": "ipython3",
   "version": "3.11.4"
  }
 },
 "nbformat": 4,
 "nbformat_minor": 4
}
