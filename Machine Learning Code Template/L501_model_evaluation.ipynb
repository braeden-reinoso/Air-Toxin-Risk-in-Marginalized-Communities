{
 "cells": [
  {
   "cell_type": "markdown",
   "id": "0a687c33-866e-4c97-9de8-eb7deb4888e9",
   "metadata": {},
   "source": [
    "# Product Matching\n",
    "## Level 5: Model Evaluation Script\n",
    "\n",
    "### Notes:\n",
    "1. Evaluate the Decision Tree model on train and test data\n",
    "\n",
    "### References: "
   ]
  },
  {
   "cell_type": "code",
   "execution_count": null,
   "id": "8272506f-f9d1-42da-b45d-92f7a95ca311",
   "metadata": {},
   "outputs": [],
   "source": []
  },
  {
   "cell_type": "markdown",
   "id": "553c8353-ce8b-4597-b081-51a84806cef0",
   "metadata": {},
   "source": [
    "## Notebook Config"
   ]
  },
  {
   "cell_type": "code",
   "execution_count": null,
   "id": "9408c59b-4841-4a2c-8503-05b5bf1a036d",
   "metadata": {},
   "outputs": [],
   "source": [
    "# Display settings\n",
    "## Auto reload modules & inline plots\n",
    "%reload_ext autoreload\n",
    "%autoreload 2\n",
    "%matplotlib inline"
   ]
  },
  {
   "cell_type": "markdown",
   "id": "a32ebb2e-090f-466e-9aed-f2bf3bcc312d",
   "metadata": {},
   "source": [
    "## Package Import & Initialization"
   ]
  },
  {
   "cell_type": "code",
   "execution_count": 2,
   "id": "90c2ccaf-cb06-4650-9ff0-7c23504354c1",
   "metadata": {},
   "outputs": [],
   "source": [
    "# Import packages\n",
    "\n",
    "import pandas as pd                  #For data manipulation and bgq --> pandas conversion\n",
    "import numpy as np                   #For scientific computation\n",
    "import os                            #For work with native operating system and directories\n",
    "from pathlib import Path             #For working with file paths and directories\n",
    "import warnings                      #To tweak warning options\n",
    "import datetime as dt                #For date objects and implemetations\n",
    "from sklearn.base import BaseEstimator               #For creating a simple baseline model\n",
    "from sklearn.model_selection import cross_val_score, cross_val_predict  #For performing model cross-validation\n",
    "from sklearn.metrics import confusion_matrix, accuracy_score, precision_score,\\\n",
    "    recall_score, f1_score, precision_recall_curve, roc_curve, roc_auc_score  #For evaluating classifier model\n",
    "from sklearn import tree             #For visualizing decision trees\n",
    "from graphviz import Source               #For storing decision tree visualizations\n",
    "import joblib                        #For saving objects, more efficient at serializing large numpy arrays than pickle module\n",
    "import matplotlib.pyplot as plt      #Standard plotting package"
   ]
  },
  {
   "cell_type": "code",
   "execution_count": 3,
   "id": "1dcde924-304a-487d-8b54-00f89bee7331",
   "metadata": {},
   "outputs": [],
   "source": [
    "pd.set_option('display.max_columns', None)\n",
    "pd.options.display.float_format = '{:.4f}'.format\n",
    "warnings.filterwarnings('ignore')"
   ]
  },
  {
   "cell_type": "markdown",
   "id": "fed09dea-658d-4912-a25b-e18439e251cc",
   "metadata": {},
   "source": [
    "## Function Library"
   ]
  },
  {
   "cell_type": "code",
   "execution_count": 4,
   "id": "8eb78dde-936d-4baf-a9bf-1640a8d624a4",
   "metadata": {},
   "outputs": [],
   "source": [
    "def plot_precision_recall_vs_threshold(precisions, recalls, thresholds):    \n",
    "    plt.plot(thresholds, precisions[:-1], \"b--\", label=\"Precision\")    \n",
    "    plt.plot(thresholds, recalls[:-1], \"g-\", label=\"Recall\")  \n",
    "    plt.legend(loc='center right', fontsize=16)\n",
    "    plt.xlabel(\"Threshold\", fontsize=16)\n",
    "    plt.grid(True)\n",
    "    # plt.axis([-50000, 50000, 0, 1])"
   ]
  },
  {
   "cell_type": "code",
   "execution_count": null,
   "id": "65294438-5fd4-4051-b800-fc15323af964",
   "metadata": {},
   "outputs": [],
   "source": [
    "# def plot_precision_vs_recall(precisions, recalls):\n",
    "#     plt.plot(recalls, precisions, \"b-\", linewidth=2)\n",
    "#     plt.xlabel(\"Recall\", fontsize=16)\n",
    "#     plt.ylabel(\"Precision\", fontsize=16)\n",
    "#     plt.axis([0, 1, 0, 1])\n",
    "#     plt.grid(True)"
   ]
  },
  {
   "cell_type": "code",
   "execution_count": null,
   "id": "b1e23361-b57a-4d3a-80d3-02348bf8a130",
   "metadata": {},
   "outputs": [],
   "source": [
    "# def plot_roc_curve(fpr, tpr, label=None):\n",
    "#     plt.plot(fpr, tpr, linewidth=2, label=label)\n",
    "#     plt.plot([0, 1], [0, 1], 'k--') # dashed diagonal\n",
    "#     plt.axis([0, 1, 0, 1])                                   \n",
    "#     plt.xlabel('False Positive Rate (Fall-Out)', fontsize=16) \n",
    "#     plt.ylabel('True Positive Rate (Recall)', fontsize=16)    \n",
    "#     plt.grid(True)                                            "
   ]
  },
  {
   "cell_type": "markdown",
   "id": "f8187fca-8d59-488a-8325-c2aba8cb250c",
   "metadata": {},
   "source": [
    "## Custom Tranformers"
   ]
  },
  {
   "cell_type": "code",
   "execution_count": null,
   "id": "ff7348f8-d04a-4452-8aac-79667aac53ab",
   "metadata": {},
   "outputs": [],
   "source": []
  },
  {
   "cell_type": "markdown",
   "id": "48d47a6d-1b58-497d-a897-fc297ca12372",
   "metadata": {},
   "source": [
    "## Set Directories"
   ]
  },
  {
   "cell_type": "code",
   "execution_count": 5,
   "id": "fa58a8c5-2a40-4988-8fd3-69b06c1d917e",
   "metadata": {},
   "outputs": [],
   "source": [
    "#cwd = os.getcwd()\n",
    "#os.chdir(cwd)\n",
    "home = str(Path.home())\n",
    "proj_path = os.path.join(home, 'Cardinal Health', 'Enterprise Data Remediation - Documents', 'General', '01_Projects', \n",
    "                         '23_Kinaxis')"
   ]
  },
  {
   "cell_type": "code",
   "execution_count": 6,
   "id": "90c755f3-16da-41f4-ad6e-d4b9fb6347a1",
   "metadata": {},
   "outputs": [],
   "source": [
    "main_dir = proj_path + '\\\\'\n",
    "iput_dir = main_dir + 'Data\\\\Output\\\\ML\\\\'\n",
    "oput_dir = main_dir + 'Data\\\\Output\\\\ML\\\\'"
   ]
  },
  {
   "cell_type": "markdown",
   "id": "7f35a79e-e5e6-4d68-b1f7-2315bad8a955",
   "metadata": {},
   "source": [
    "## Set Output File Names"
   ]
  },
  {
   "cell_type": "code",
   "execution_count": null,
   "id": "bec225e4-0cd0-4770-a0a9-ae32a4deee7d",
   "metadata": {},
   "outputs": [],
   "source": []
  },
  {
   "cell_type": "markdown",
   "id": "c1e77961-e29e-4e1d-9e3a-377a4b06e5a8",
   "metadata": {},
   "source": [
    "## Load Model"
   ]
  },
  {
   "cell_type": "code",
   "execution_count": 7,
   "id": "33d0a3ba-ec54-4d25-a514-338929811280",
   "metadata": {},
   "outputs": [],
   "source": [
    "mdl_obj = joblib.load(iput_dir + \"L401_mdl_2022-08-01.pkl\")"
   ]
  },
  {
   "cell_type": "markdown",
   "id": "3a701212-e72b-48de-b69d-7d5a4ea75403",
   "metadata": {},
   "source": [
    "## Load Data"
   ]
  },
  {
   "cell_type": "code",
   "execution_count": 8,
   "id": "0ad4ade0-7c5b-4993-98ac-031f9144fd82",
   "metadata": {},
   "outputs": [],
   "source": [
    "## Training Data\n",
    "X = joblib.load(iput_dir + \"L300_prd_df_2022-07-15.pkl\")\n",
    "y = joblib.load(iput_dir + \"L300_tgt_df_2022-07-15.pkl\")"
   ]
  },
  {
   "cell_type": "code",
   "execution_count": 9,
   "id": "21b344c8-1f1c-499b-9ce7-877d70b560f3",
   "metadata": {},
   "outputs": [],
   "source": [
    "## Test Data\n",
    "tst_df = (\n",
    "    pd\n",
    "    .read_pickle(iput_dir + \"L100_tst_df_2022-07-15.pkl\")\n",
    "    .rename(columns = dict(zip(\n",
    "        ['Feat_1','Feat_2','Feat_3','Feat_4','Feat_5','Feat_6'],\n",
    "        ['Feat_Exact_SuppItemNum','Feat_Fuzzy_SuppName','Feat_Fuzzy_ItemDesc','Feat_Exact_ItemNum','Feat_Exact_UNSPSC','Feat_Fuzzy_SuppItemNum']\n",
    "    )))\n",
    ")\n",
    "\n",
    "X_tst = tst_df.filter(regex='^Feat', axis=\"columns\").values\n",
    "y_tst = tst_df.assign(Match = lambda df: np.where(df.Match=='Yes', 1, 0)).Match"
   ]
  },
  {
   "cell_type": "code",
   "execution_count": 10,
   "id": "2e736132-00f4-479b-b6a3-35cdbe502792",
   "metadata": {},
   "outputs": [
    {
     "data": {
      "text/plain": [
       "No     261\n",
       "Yes    156\n",
       "Name: Match, dtype: int64"
      ]
     },
     "execution_count": 10,
     "metadata": {},
     "output_type": "execute_result"
    }
   ],
   "source": [
    "tst_df.Match.value_counts()"
   ]
  },
  {
   "cell_type": "markdown",
   "id": "c47eb859-23aa-4baa-9126-64da6275a04f",
   "metadata": {},
   "source": [
    "## Baseline Model Creation"
   ]
  },
  {
   "cell_type": "code",
   "execution_count": 11,
   "id": "0f9780fc-099d-43d7-a7c2-ffda007e68cb",
   "metadata": {},
   "outputs": [],
   "source": [
    "class NotMatchClassifier(BaseEstimator):\n",
    "    def fit(self, X, y=None):\n",
    "        return self\n",
    "    \n",
    "    def predict(self, X):\n",
    "        return np.zeros(len(X), dtype=bool)\n",
    "    \n",
    "not_match_clf = NotMatchClassifier()"
   ]
  },
  {
   "cell_type": "markdown",
   "id": "ac400a24-7b26-42e3-9dcf-b71b4cd187cd",
   "metadata": {},
   "source": [
    "## Visualize Model"
   ]
  },
  {
   "cell_type": "code",
   "execution_count": 13,
   "id": "49cccb42-ec50-4ffa-a848-ce0ad95cbf0d",
   "metadata": {},
   "outputs": [
    {
     "data": {
      "image/png": "[encoded data removed]",
      "text/plain": [
       "<Figure size 1200x600 with 1 Axes>"
      ]
     },
     "metadata": {
      "needs_background": "light"
     },
     "output_type": "display_data"
    }
   ],
   "source": [
    "fn = tst_df.filter(regex='^Feat', axis=\"columns\").columns\n",
    "cn = ['No Match','Match']\n",
    "fig, axes = plt.subplots(nrows = 1,ncols = 1,figsize = (4,2), dpi=300)\n",
    "tree.plot_tree(mdl_obj,\n",
    "               feature_names = fn, \n",
    "               class_names=cn,\n",
    "               filled = True);\n",
    "# fig.savefig('imagename.png')"
   ]
  },
  {
   "cell_type": "markdown",
   "id": "6af95692-16dc-4dfd-b4c3-9f21845997bb",
   "metadata": {},
   "source": [
    "## Evaluate Model"
   ]
  },
  {
   "cell_type": "markdown",
   "id": "08d10a77-5151-46fd-9a9c-daf3fa689d47",
   "metadata": {},
   "source": [
    "#### Primary error metric (Accuracy)"
   ]
  },
  {
   "cell_type": "code",
   "execution_count": 14,
   "id": "255ac03d-4b46-4669-a6c7-ffa6462d0e53",
   "metadata": {},
   "outputs": [
    {
     "name": "stdout",
     "output_type": "stream",
     "text": [
      "0.6085131894484412\n",
      "0.9976019184652278\n"
     ]
    }
   ],
   "source": [
    "## Training\n",
    "print(sum(not_match_clf.predict(X)==y)/len(y))\n",
    "print(sum(mdl_obj.predict(X)==y)/len(y))"
   ]
  },
  {
   "cell_type": "code",
   "execution_count": 15,
   "id": "5b12b053-bd8e-43a3-8ff0-dc51cec721f7",
   "metadata": {},
   "outputs": [
    {
     "name": "stdout",
     "output_type": "stream",
     "text": [
      "0.6085131894484412\n",
      "0.9976019184652278\n"
     ]
    }
   ],
   "source": [
    "##Training\n",
    "print(accuracy_score(not_match_clf.predict(X), y))\n",
    "print(accuracy_score(mdl_obj.predict(X), y))"
   ]
  },
  {
   "cell_type": "code",
   "execution_count": 16,
   "id": "699d676b-783a-4dce-a358-1b71eb1e0d1e",
   "metadata": {},
   "outputs": [
    {
     "name": "stdout",
     "output_type": "stream",
     "text": [
      "0.6258992805755396\n",
      "0.9952038369304557\n"
     ]
    }
   ],
   "source": [
    "##Testing\n",
    "print(sum(not_match_clf.predict(X_tst)==y_tst)/len(y_tst))\n",
    "print(sum(mdl_obj.predict(X_tst)==y_tst)/len(y_tst))"
   ]
  },
  {
   "cell_type": "code",
   "execution_count": 17,
   "id": "0134725d-695f-43ef-ab78-b859c299dee4",
   "metadata": {},
   "outputs": [
    {
     "name": "stdout",
     "output_type": "stream",
     "text": [
      "0.6258992805755396\n",
      "0.9952038369304557\n"
     ]
    }
   ],
   "source": [
    "##Testing\n",
    "print(accuracy_score(not_match_clf.predict(X_tst), y_tst))\n",
    "print(accuracy_score(mdl_obj.predict(X_tst), y_tst))"
   ]
  },
  {
   "cell_type": "markdown",
   "id": "fb9b3266-9884-4903-ad47-d369eb507e75",
   "metadata": {},
   "source": [
    "#### Cross-validation"
   ]
  },
  {
   "cell_type": "code",
   "execution_count": 18,
   "id": "27fb75a8-320f-4fb5-bb73-9ab328f67888",
   "metadata": {},
   "outputs": [
    {
     "name": "stdout",
     "output_type": "stream",
     "text": [
      "[0.54491018 0.63473054 0.63173653 0.5975976  0.63363363]\n",
      "[0.99101796 0.99700599 0.99700599 0.996997   0.99399399]\n"
     ]
    }
   ],
   "source": [
    "print(cross_val_score(not_match_clf, X, y, cv=5, scoring=\"accuracy\"))\n",
    "print(cross_val_score(mdl_obj, X, y, cv=5, scoring=\"accuracy\"))"
   ]
  },
  {
   "cell_type": "markdown",
   "id": "3c4448e2-05fd-4a4f-849b-837b724005de",
   "metadata": {},
   "source": [
    "#### Confusion Matrix - Precision - Recall"
   ]
  },
  {
   "cell_type": "code",
   "execution_count": 19,
   "id": "00587b01-bfcc-46c7-8bdc-fb1cb90bc301",
   "metadata": {},
   "outputs": [],
   "source": [
    "y_trn_pred = cross_val_predict(mdl_obj, X, y, cv=5)\n",
    "y_tst_pred = mdl_obj.predict(X_tst)"
   ]
  },
  {
   "cell_type": "markdown",
   "id": "06ecdb53-775e-4747-8582-a41297dc265d",
   "metadata": {},
   "source": [
    "Training"
   ]
  },
  {
   "cell_type": "code",
   "execution_count": 20,
   "id": "fd0f1f72-4b58-4e21-a17a-61dd79712157",
   "metadata": {},
   "outputs": [
    {
     "data": {
      "text/plain": [
       "array([[1011,    4],\n",
       "       [   4,  649]], dtype=int64)"
      ]
     },
     "execution_count": 20,
     "metadata": {},
     "output_type": "execute_result"
    }
   ],
   "source": [
    "## Actual (row) vs. Predicted (column) - negative first, positive second\n",
    "## [[true neg, false pos],[false neg, true pos]]\n",
    "confusion_matrix(y, y_trn_pred)"
   ]
  },
  {
   "cell_type": "code",
   "execution_count": 21,
   "id": "b4c652d7-b819-4f2d-88e2-d57797a2de1b",
   "metadata": {},
   "outputs": [
    {
     "data": {
      "text/plain": [
       "0.9938744257274119"
      ]
     },
     "execution_count": 21,
     "metadata": {},
     "output_type": "execute_result"
    }
   ],
   "source": [
    "precision_score(y, y_trn_pred)"
   ]
  },
  {
   "cell_type": "code",
   "execution_count": 22,
   "id": "45741b9b-ba95-446e-b305-4b39cc57aeeb",
   "metadata": {},
   "outputs": [
    {
     "data": {
      "text/plain": [
       "0.9938744257274119"
      ]
     },
     "execution_count": 22,
     "metadata": {},
     "output_type": "execute_result"
    }
   ],
   "source": [
    "recall_score(y, y_trn_pred)"
   ]
  },
  {
   "cell_type": "code",
   "execution_count": 23,
   "id": "368ec3b6-6ec2-4d12-8a46-62fdc851b086",
   "metadata": {},
   "outputs": [
    {
     "data": {
      "text/plain": [
       "0.9938744257274119"
      ]
     },
     "execution_count": 23,
     "metadata": {},
     "output_type": "execute_result"
    }
   ],
   "source": [
    "f1_score(y, y_trn_pred)"
   ]
  },
  {
   "cell_type": "markdown",
   "id": "f8599eb1-6948-4155-acb3-736baac2872f",
   "metadata": {},
   "source": [
    "Testing"
   ]
  },
  {
   "cell_type": "code",
   "execution_count": 24,
   "id": "fe67eac3-b6b5-429f-8dfb-04e992ed8714",
   "metadata": {},
   "outputs": [
    {
     "data": {
      "text/plain": [
       "array([[260,   1],\n",
       "       [  1, 155]], dtype=int64)"
      ]
     },
     "execution_count": 24,
     "metadata": {},
     "output_type": "execute_result"
    }
   ],
   "source": [
    "## Actual (row) vs. Predicted (column) - negative first, positive second\n",
    "## [[true neg, false pos],[false neg, true pos]]\n",
    "confusion_matrix(y_tst, y_tst_pred)"
   ]
  },
  {
   "cell_type": "code",
   "execution_count": 25,
   "id": "788b0640-d701-40e5-80c6-a85619a74d80",
   "metadata": {},
   "outputs": [
    {
     "data": {
      "text/plain": [
       "0.9935897435897436"
      ]
     },
     "execution_count": 25,
     "metadata": {},
     "output_type": "execute_result"
    }
   ],
   "source": [
    "precision_score(y_tst, y_tst_pred)"
   ]
  },
  {
   "cell_type": "code",
   "execution_count": 26,
   "id": "db10a1b1-ee73-49f7-9661-12b5ebfb3213",
   "metadata": {},
   "outputs": [
    {
     "data": {
      "text/plain": [
       "0.9935897435897436"
      ]
     },
     "execution_count": 26,
     "metadata": {},
     "output_type": "execute_result"
    }
   ],
   "source": [
    "recall_score(y_tst, y_tst_pred)"
   ]
  },
  {
   "cell_type": "code",
   "execution_count": 27,
   "id": "5af20563-7da2-4073-ba62-a911c6afe28f",
   "metadata": {},
   "outputs": [
    {
     "data": {
      "text/plain": [
       "0.9935897435897436"
      ]
     },
     "execution_count": 27,
     "metadata": {},
     "output_type": "execute_result"
    }
   ],
   "source": [
    "f1_score(y_tst, y_tst_pred)"
   ]
  },
  {
   "cell_type": "markdown",
   "id": "2a1197b4-d404-48a8-b12e-6d1ca824e325",
   "metadata": {},
   "source": [
    "#### Plots"
   ]
  },
  {
   "cell_type": "code",
   "execution_count": null,
   "id": "a4344ec2-e371-4980-a44f-02f3db54d0b5",
   "metadata": {},
   "outputs": [],
   "source": [
    "y_scores = cross_val_predict(mdl_obj, X, y, cv=3, method=\"predict_proba\")\n",
    "precisions, recalls, thresholds = precision_recall_curve(y, y_scores[:,1])"
   ]
  },
  {
   "cell_type": "code",
   "execution_count": null,
   "id": "b2696720-bbf9-4fa6-bedd-abdf4ea0cc53",
   "metadata": {},
   "outputs": [],
   "source": [
    "plot_precision_recall_vs_threshold(precisions, recalls, thresholds)\n",
    "plt.show()"
   ]
  },
  {
   "cell_type": "code",
   "execution_count": null,
   "id": "566ae5f6-a530-455c-968e-8b4025d5a5fd",
   "metadata": {},
   "outputs": [],
   "source": [
    "tgt_precision = 0.9\n",
    "\n",
    "recall_90_precision = recalls[np.argmax(precisions >= tgt_precision)]\n",
    "threshold_90_precision = thresholds[np.argmax(precisions >= tgt_precision)]\n",
    "\n",
    "plt.figure(figsize=(8, 4))                                                                  \n",
    "plot_precision_recall_vs_threshold(precisions, recalls, thresholds)\n",
    "plt.plot([threshold_90_precision, threshold_90_precision], [0., max(tgt_precision,recall_90_precision)], \"r:\")                 \n",
    "plt.plot([min(thresholds), threshold_90_precision], [tgt_precision, tgt_precision], \"r:\")                                \n",
    "plt.plot([min(thresholds), threshold_90_precision], [recall_90_precision, recall_90_precision], \"r:\")\n",
    "plt.plot([threshold_90_precision], [tgt_precision], \"ro\")                                             \n",
    "plt.plot([threshold_90_precision], [recall_90_precision], \"ro\")                                             \n",
    "plt.show()"
   ]
  },
  {
   "cell_type": "code",
   "execution_count": null,
   "id": "e90ad72e-888f-4d65-ac62-f8e46f2e86e7",
   "metadata": {},
   "outputs": [],
   "source": [
    "plt.figure(figsize=(8, 6))\n",
    "plot_precision_vs_recall(precisions, recalls)\n",
    "plt.plot([recall_90_precision, recall_90_precision], [0., tgt_precision], \"r:\")\n",
    "plt.plot([0.0, recall_90_precision], [tgt_precision, tgt_precision], \"r:\")\n",
    "plt.plot([recall_90_precision], [tgt_precision], \"ro\")\n",
    "plt.show()"
   ]
  },
  {
   "cell_type": "code",
   "execution_count": null,
   "id": "bb6f6d2e-073f-4be9-aef3-18d7a45ebf2f",
   "metadata": {},
   "outputs": [],
   "source": [
    "threshold_90_precision"
   ]
  },
  {
   "cell_type": "code",
   "execution_count": null,
   "id": "a781df4c-e6ad-4ff8-89c0-d461e710dd1d",
   "metadata": {},
   "outputs": [],
   "source": [
    "y_train_pred_90 = (y_scores >= threshold_90_precision)"
   ]
  },
  {
   "cell_type": "code",
   "execution_count": null,
   "id": "19d1d7e0-70f7-4663-948b-bbf78ec00f68",
   "metadata": {},
   "outputs": [],
   "source": [
    "precision_score(y, y_train_pred_90)"
   ]
  },
  {
   "cell_type": "code",
   "execution_count": null,
   "id": "d1bdec75-524b-4ef5-86e5-80165d0a6948",
   "metadata": {},
   "outputs": [],
   "source": [
    "recall_score(y, y_train_pred_90)"
   ]
  },
  {
   "cell_type": "code",
   "execution_count": null,
   "id": "0dca1a8a-29ef-4bd2-a63f-7fd599bba5d4",
   "metadata": {},
   "outputs": [],
   "source": [
    "f1_score(y, y_train_pred_90)"
   ]
  },
  {
   "cell_type": "code",
   "execution_count": null,
   "id": "2093099e-05c5-4d8c-8f26-e4a225989454",
   "metadata": {},
   "outputs": [],
   "source": [
    "fpr, tpr, thresholds = roc_curve(y, y_scores)"
   ]
  },
  {
   "cell_type": "code",
   "execution_count": null,
   "id": "5ec7bb2b-7ba9-4b24-98d8-1d472b71b7c9",
   "metadata": {},
   "outputs": [],
   "source": [
    "plt.figure(figsize=(8, 6))                                    \n",
    "plot_roc_curve(fpr, tpr)\n",
    "fpr_90 = fpr[np.argmax(tpr >= recall_90_precision)]           \n",
    "plt.plot([fpr_90, fpr_90], [0., recall_90_precision], \"r:\")   \n",
    "plt.plot([0.0, fpr_90], [recall_90_precision, recall_90_precision], \"r:\")  \n",
    "plt.plot([fpr_90], [recall_90_precision], \"ro\")                                    \n",
    "plt.show()"
   ]
  },
  {
   "cell_type": "code",
   "execution_count": null,
   "id": "74483a7b-d658-42e6-9d17-7b675996cbb7",
   "metadata": {},
   "outputs": [],
   "source": [
    "roc_auc_score(y, y_scores)"
   ]
  },
  {
   "cell_type": "code",
   "execution_count": null,
   "id": "cc5df2b6-82c1-4c40-bc56-2fe0dfad209d",
   "metadata": {},
   "outputs": [],
   "source": []
  },
  {
   "cell_type": "code",
   "execution_count": null,
   "id": "7e29a5f4-bcce-4e6d-947c-8c9119be5673",
   "metadata": {},
   "outputs": [],
   "source": [
    "from sklearn.ensemble import RandomForestClassifier\n",
    "forest_clf = RandomForestClassifier(n_estimators=100, random_state=42)\n",
    "y_probas_forest = cross_val_predict(forest_clf, X, y, cv=3,\n",
    "                                    method=\"predict_proba\")"
   ]
  },
  {
   "cell_type": "code",
   "execution_count": null,
   "id": "c90ad6e7-178b-4312-a8ff-f552c97d7175",
   "metadata": {},
   "outputs": [],
   "source": [
    "y_scores_forest = y_probas_forest[:, 1] # score = proba of positive class\n",
    "fpr_forest, tpr_forest, thresholds_forest = roc_curve(y,y_scores_forest)"
   ]
  },
  {
   "cell_type": "code",
   "execution_count": null,
   "id": "28bca73c-f850-4470-8a18-f3c7c84dc483",
   "metadata": {},
   "outputs": [],
   "source": [
    "recall_for_forest = tpr_forest[np.argmax(fpr_forest >= fpr_90)]\n",
    "\n",
    "plt.figure(figsize=(8, 6))\n",
    "plt.plot(fpr, tpr, \"b:\", linewidth=2, label=\"SGD\")\n",
    "plot_roc_curve(fpr_forest, tpr_forest, \"Random Forest\")\n",
    "plt.plot([fpr_90, fpr_90], [0., recall_90_precision], \"r:\")\n",
    "plt.plot([0.0, fpr_90], [recall_90_precision, recall_90_precision], \"r:\")\n",
    "plt.plot([fpr_90], [recall_90_precision], \"ro\")\n",
    "plt.plot([fpr_90, fpr_90], [0., recall_for_forest], \"r:\")\n",
    "plt.plot([fpr_90], [recall_for_forest], \"ro\")\n",
    "plt.grid(True)\n",
    "plt.legend(loc=\"lower right\", fontsize=16)\n",
    "plt.show()"
   ]
  },
  {
   "cell_type": "code",
   "execution_count": null,
   "id": "a4d96877-d5cf-4f47-b697-d762392924d2",
   "metadata": {},
   "outputs": [],
   "source": [
    "roc_auc_score(y, y_scores_forest)"
   ]
  },
  {
   "cell_type": "code",
   "execution_count": null,
   "id": "f4b43a91-9bd0-49ee-ae9d-c70efaf426e8",
   "metadata": {},
   "outputs": [],
   "source": [
    "y_train_pred_forest = cross_val_predict(forest_clf, X, y, cv=3)\n",
    "precision_score(y, y_train_pred_forest)"
   ]
  },
  {
   "cell_type": "code",
   "execution_count": null,
   "id": "91c3e88f-fa14-4ebe-9b54-54658a10167d",
   "metadata": {},
   "outputs": [],
   "source": []
  }
 ],
 "metadata": {
  "kernelspec": {
   "display_name": "Python 3 (ipykernel)",
   "language": "python",
   "name": "python3"
  },
  "language_info": {
   "codemirror_mode": {
    "name": "ipython",
    "version": 3
   },
   "file_extension": ".py",
   "mimetype": "text/x-python",
   "name": "python",
   "nbconvert_exporter": "python",
   "pygments_lexer": "ipython3",
   "version": "3.9.12"
  }
 },
 "nbformat": 4,
 "nbformat_minor": 5
}
